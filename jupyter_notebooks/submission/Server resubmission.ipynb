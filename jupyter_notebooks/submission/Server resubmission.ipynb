{
 "cells": [
  {
   "cell_type": "code",
   "execution_count": 1,
   "id": "1affdd3a",
   "metadata": {},
   "outputs": [
    {
     "name": "stdout",
     "output_type": "stream",
     "text": [
      "Requirement already satisfied: ipywidgets in c:\\users\\robbi\\anaconda3\\envs\\proteobench_py311\\lib\\site-packages (8.0.4)\n",
      "Requirement already satisfied: ipykernel>=4.5.1 in c:\\users\\robbi\\anaconda3\\envs\\proteobench_py311\\lib\\site-packages (from ipywidgets) (6.25.0)\n",
      "Requirement already satisfied: ipython>=6.1.0 in c:\\users\\robbi\\anaconda3\\envs\\proteobench_py311\\lib\\site-packages (from ipywidgets) (8.12.2)\n",
      "Requirement already satisfied: traitlets>=4.3.1 in c:\\users\\robbi\\anaconda3\\envs\\proteobench_py311\\lib\\site-packages (from ipywidgets) (5.7.1)\n",
      "Requirement already satisfied: widgetsnbextension~=4.0 in c:\\users\\robbi\\anaconda3\\envs\\proteobench_py311\\lib\\site-packages (from ipywidgets) (4.0.5)\n",
      "Requirement already satisfied: jupyterlab-widgets~=3.0 in c:\\users\\robbi\\anaconda3\\envs\\proteobench_py311\\lib\\site-packages (from ipywidgets) (3.0.5)\n",
      "Requirement already satisfied: comm>=0.1.1 in c:\\users\\robbi\\anaconda3\\envs\\proteobench_py311\\lib\\site-packages (from ipykernel>=4.5.1->ipywidgets) (0.1.2)\n",
      "Requirement already satisfied: debugpy>=1.6.5 in c:\\users\\robbi\\anaconda3\\envs\\proteobench_py311\\lib\\site-packages (from ipykernel>=4.5.1->ipywidgets) (1.6.7)\n",
      "Requirement already satisfied: jupyter-client>=6.1.12 in c:\\users\\robbi\\anaconda3\\envs\\proteobench_py311\\lib\\site-packages (from ipykernel>=4.5.1->ipywidgets) (7.4.9)\n",
      "Requirement already satisfied: jupyter-core!=5.0.*,>=4.12 in c:\\users\\robbi\\anaconda3\\envs\\proteobench_py311\\lib\\site-packages (from ipykernel>=4.5.1->ipywidgets) (5.3.0)\n",
      "Requirement already satisfied: matplotlib-inline>=0.1 in c:\\users\\robbi\\anaconda3\\envs\\proteobench_py311\\lib\\site-packages (from ipykernel>=4.5.1->ipywidgets) (0.1.6)\n",
      "Requirement already satisfied: nest-asyncio in c:\\users\\robbi\\anaconda3\\envs\\proteobench_py311\\lib\\site-packages (from ipykernel>=4.5.1->ipywidgets) (1.5.6)\n",
      "Requirement already satisfied: packaging in c:\\users\\robbi\\anaconda3\\envs\\proteobench_py311\\lib\\site-packages (from ipykernel>=4.5.1->ipywidgets) (23.1)\n",
      "Requirement already satisfied: psutil in c:\\users\\robbi\\anaconda3\\envs\\proteobench_py311\\lib\\site-packages (from ipykernel>=4.5.1->ipywidgets) (5.9.0)\n",
      "Requirement already satisfied: pyzmq>=20 in c:\\users\\robbi\\anaconda3\\envs\\proteobench_py311\\lib\\site-packages (from ipykernel>=4.5.1->ipywidgets) (23.2.0)\n",
      "Requirement already satisfied: tornado>=6.1 in c:\\users\\robbi\\anaconda3\\envs\\proteobench_py311\\lib\\site-packages (from ipykernel>=4.5.1->ipywidgets) (6.3.2)\n",
      "Requirement already satisfied: backcall in c:\\users\\robbi\\anaconda3\\envs\\proteobench_py311\\lib\\site-packages (from ipython>=6.1.0->ipywidgets) (0.2.0)\n",
      "Requirement already satisfied: decorator in c:\\users\\robbi\\anaconda3\\envs\\proteobench_py311\\lib\\site-packages (from ipython>=6.1.0->ipywidgets) (5.1.1)\n",
      "Requirement already satisfied: jedi>=0.16 in c:\\users\\robbi\\anaconda3\\envs\\proteobench_py311\\lib\\site-packages (from ipython>=6.1.0->ipywidgets) (0.18.1)\n",
      "Requirement already satisfied: pickleshare in c:\\users\\robbi\\anaconda3\\envs\\proteobench_py311\\lib\\site-packages (from ipython>=6.1.0->ipywidgets) (0.7.5)\n",
      "Requirement already satisfied: prompt-toolkit!=3.0.37,<3.1.0,>=3.0.30 in c:\\users\\robbi\\anaconda3\\envs\\proteobench_py311\\lib\\site-packages (from ipython>=6.1.0->ipywidgets) (3.0.36)\n",
      "Requirement already satisfied: pygments>=2.4.0 in c:\\users\\robbi\\anaconda3\\envs\\proteobench_py311\\lib\\site-packages (from ipython>=6.1.0->ipywidgets) (2.15.1)\n",
      "Requirement already satisfied: stack-data in c:\\users\\robbi\\anaconda3\\envs\\proteobench_py311\\lib\\site-packages (from ipython>=6.1.0->ipywidgets) (0.2.0)\n",
      "Requirement already satisfied: colorama in c:\\users\\robbi\\anaconda3\\envs\\proteobench_py311\\lib\\site-packages (from ipython>=6.1.0->ipywidgets) (0.4.6)\n",
      "Requirement already satisfied: parso<0.9.0,>=0.8.0 in c:\\users\\robbi\\anaconda3\\envs\\proteobench_py311\\lib\\site-packages (from jedi>=0.16->ipython>=6.1.0->ipywidgets) (0.8.3)\n",
      "Requirement already satisfied: entrypoints in c:\\users\\robbi\\anaconda3\\envs\\proteobench_py311\\lib\\site-packages (from jupyter-client>=6.1.12->ipykernel>=4.5.1->ipywidgets) (0.4)\n",
      "Requirement already satisfied: python-dateutil>=2.8.2 in c:\\users\\robbi\\anaconda3\\envs\\proteobench_py311\\lib\\site-packages (from jupyter-client>=6.1.12->ipykernel>=4.5.1->ipywidgets) (2.8.2)\n",
      "Requirement already satisfied: platformdirs>=2.5 in c:\\users\\robbi\\anaconda3\\envs\\proteobench_py311\\lib\\site-packages (from jupyter-core!=5.0.*,>=4.12->ipykernel>=4.5.1->ipywidgets) (3.10.0)\n",
      "Requirement already satisfied: pywin32>=300 in c:\\users\\robbi\\anaconda3\\envs\\proteobench_py311\\lib\\site-packages (from jupyter-core!=5.0.*,>=4.12->ipykernel>=4.5.1->ipywidgets) (305.1)\n",
      "Requirement already satisfied: wcwidth in c:\\users\\robbi\\anaconda3\\envs\\proteobench_py311\\lib\\site-packages (from prompt-toolkit!=3.0.37,<3.1.0,>=3.0.30->ipython>=6.1.0->ipywidgets) (0.2.5)\n",
      "Requirement already satisfied: executing in c:\\users\\robbi\\anaconda3\\envs\\proteobench_py311\\lib\\site-packages (from stack-data->ipython>=6.1.0->ipywidgets) (0.8.3)\n",
      "Requirement already satisfied: asttokens in c:\\users\\robbi\\anaconda3\\envs\\proteobench_py311\\lib\\site-packages (from stack-data->ipython>=6.1.0->ipywidgets) (2.0.5)\n",
      "Requirement already satisfied: pure-eval in c:\\users\\robbi\\anaconda3\\envs\\proteobench_py311\\lib\\site-packages (from stack-data->ipython>=6.1.0->ipywidgets) (0.2.2)\n",
      "Requirement already satisfied: six>=1.5 in c:\\users\\robbi\\anaconda3\\envs\\proteobench_py311\\lib\\site-packages (from python-dateutil>=2.8.2->jupyter-client>=6.1.12->ipykernel>=4.5.1->ipywidgets) (1.16.0)\n"
     ]
    }
   ],
   "source": [
    "!pip install ipywidgets\n",
    "\n",
    "import pandas as pd\n",
    "import ipywidgets as widgets\n",
    "from IPython.display import display\n",
    "import requests\n",
    "from bs4 import BeautifulSoup\n",
    "import os\n",
    "import zipfile\n",
    "from tqdm import tqdm\n",
    "from pathlib import Path\n",
    "\n",
    "import requests\n",
    "import zipfile\n",
    "import io\n",
    "import os\n",
    "import json\n",
    "\n",
    "from collections import defaultdict\n",
    "import toml\n",
    "\n",
    "from proteobench.modules.quant.quant_lfq_ion_DDA import DDAQuantIonModule"
   ]
  },
  {
   "cell_type": "code",
   "execution_count": 2,
   "id": "56b53d36",
   "metadata": {},
   "outputs": [
    {
     "name": "stdout",
     "output_type": "stream",
     "text": [
      "Combined 51 JSON files into 'combined_results.json'.\n"
     ]
    },
    {
     "data": {
      "text/html": [
       "<div>\n",
       "<style scoped>\n",
       "    .dataframe tbody tr th:only-of-type {\n",
       "        vertical-align: middle;\n",
       "    }\n",
       "\n",
       "    .dataframe tbody tr th {\n",
       "        vertical-align: top;\n",
       "    }\n",
       "\n",
       "    .dataframe thead th {\n",
       "        text-align: right;\n",
       "    }\n",
       "</style>\n",
       "<table border=\"1\" class=\"dataframe\">\n",
       "  <thead>\n",
       "    <tr style=\"text-align: right;\">\n",
       "      <th></th>\n",
       "      <th>id</th>\n",
       "      <th>old_new</th>\n",
       "      <th>software_name</th>\n",
       "      <th>software_version</th>\n",
       "      <th>search_engine</th>\n",
       "      <th>search_engine_version</th>\n",
       "      <th>ident_fdr_psm</th>\n",
       "      <th>ident_fdr_peptide</th>\n",
       "      <th>ident_fdr_protein</th>\n",
       "      <th>enable_match_between_runs</th>\n",
       "      <th>...</th>\n",
       "      <th>results.2.CV_q75</th>\n",
       "      <th>results.2.CV_q95</th>\n",
       "      <th>results.1.median_abs_epsilon</th>\n",
       "      <th>results.1.mean_abs_epsilon</th>\n",
       "      <th>results.1.variance_epsilon</th>\n",
       "      <th>results.1.nr_prec</th>\n",
       "      <th>results.1.CV_median</th>\n",
       "      <th>results.1.CV_q90</th>\n",
       "      <th>results.1.CV_q75</th>\n",
       "      <th>results.1.CV_q95</th>\n",
       "    </tr>\n",
       "  </thead>\n",
       "  <tbody>\n",
       "    <tr>\n",
       "      <th>0</th>\n",
       "      <td>MaxQuant_20241216_122433</td>\n",
       "      <td>old</td>\n",
       "      <td>MaxQuant</td>\n",
       "      <td>2.5.1.0</td>\n",
       "      <td>Andromeda</td>\n",
       "      <td>None</td>\n",
       "      <td>None</td>\n",
       "      <td>0.01</td>\n",
       "      <td>0.01</td>\n",
       "      <td>False</td>\n",
       "      <td>...</td>\n",
       "      <td>0.291818</td>\n",
       "      <td>0.512293</td>\n",
       "      <td>0.199852</td>\n",
       "      <td>0.274547</td>\n",
       "      <td>0.160229</td>\n",
       "      <td>50302</td>\n",
       "      <td>0.202619</td>\n",
       "      <td>0.416519</td>\n",
       "      <td>0.291818</td>\n",
       "      <td>0.512293</td>\n",
       "    </tr>\n",
       "    <tr>\n",
       "      <th>1</th>\n",
       "      <td>MaxQuant_20241216_124040</td>\n",
       "      <td>old</td>\n",
       "      <td>MaxQuant</td>\n",
       "      <td>2.3.1.0</td>\n",
       "      <td>Andromeda</td>\n",
       "      <td>None</td>\n",
       "      <td>None</td>\n",
       "      <td>0.01</td>\n",
       "      <td>0.01</td>\n",
       "      <td>True</td>\n",
       "      <td>...</td>\n",
       "      <td>0.312472</td>\n",
       "      <td>0.569765</td>\n",
       "      <td>0.207123</td>\n",
       "      <td>0.304261</td>\n",
       "      <td>0.222469</td>\n",
       "      <td>50339</td>\n",
       "      <td>0.215507</td>\n",
       "      <td>0.460770</td>\n",
       "      <td>0.312472</td>\n",
       "      <td>0.569765</td>\n",
       "    </tr>\n",
       "    <tr>\n",
       "      <th>2</th>\n",
       "      <td>MaxQuant_20250506_151623</td>\n",
       "      <td>new</td>\n",
       "      <td>MaxQuant</td>\n",
       "      <td>2.3.1.0</td>\n",
       "      <td>Andromeda</td>\n",
       "      <td>NaN</td>\n",
       "      <td>0.01</td>\n",
       "      <td>None</td>\n",
       "      <td>0.01</td>\n",
       "      <td>True</td>\n",
       "      <td>...</td>\n",
       "      <td>0.312472</td>\n",
       "      <td>0.569765</td>\n",
       "      <td>0.207123</td>\n",
       "      <td>0.304261</td>\n",
       "      <td>0.222469</td>\n",
       "      <td>50339</td>\n",
       "      <td>0.215507</td>\n",
       "      <td>0.460770</td>\n",
       "      <td>0.312472</td>\n",
       "      <td>0.569765</td>\n",
       "    </tr>\n",
       "    <tr>\n",
       "      <th>3</th>\n",
       "      <td>FragPipe_20250504_164850</td>\n",
       "      <td>new</td>\n",
       "      <td>FragPipe</td>\n",
       "      <td>23.0</td>\n",
       "      <td>MSFragger</td>\n",
       "      <td>4.2</td>\n",
       "      <td>0.01</td>\n",
       "      <td>None</td>\n",
       "      <td>0.01</td>\n",
       "      <td>False</td>\n",
       "      <td>...</td>\n",
       "      <td>0.276832</td>\n",
       "      <td>0.560573</td>\n",
       "      <td>0.199952</td>\n",
       "      <td>0.309088</td>\n",
       "      <td>0.230707</td>\n",
       "      <td>57021</td>\n",
       "      <td>0.156473</td>\n",
       "      <td>0.437619</td>\n",
       "      <td>0.276832</td>\n",
       "      <td>0.560573</td>\n",
       "    </tr>\n",
       "    <tr>\n",
       "      <th>4</th>\n",
       "      <td>WOMBAT_20250506_073548</td>\n",
       "      <td>new</td>\n",
       "      <td>WOMBAT</td>\n",
       "      <td>0.9.11</td>\n",
       "      <td>Proline</td>\n",
       "      <td>nan</td>\n",
       "      <td>0.01</td>\n",
       "      <td>0.01</td>\n",
       "      <td>0.01</td>\n",
       "      <td>True</td>\n",
       "      <td>...</td>\n",
       "      <td>0.335215</td>\n",
       "      <td>0.643571</td>\n",
       "      <td>0.204178</td>\n",
       "      <td>0.329195</td>\n",
       "      <td>0.284523</td>\n",
       "      <td>61819</td>\n",
       "      <td>0.230370</td>\n",
       "      <td>0.507628</td>\n",
       "      <td>0.335215</td>\n",
       "      <td>0.643571</td>\n",
       "    </tr>\n",
       "  </tbody>\n",
       "</table>\n",
       "<p>5 rows × 88 columns</p>\n",
       "</div>"
      ],
      "text/plain": [
       "                         id old_new software_name software_version  \\\n",
       "0  MaxQuant_20241216_122433     old      MaxQuant          2.5.1.0   \n",
       "1  MaxQuant_20241216_124040     old      MaxQuant          2.3.1.0   \n",
       "2  MaxQuant_20250506_151623     new      MaxQuant          2.3.1.0   \n",
       "3  FragPipe_20250504_164850     new      FragPipe             23.0   \n",
       "4    WOMBAT_20250506_073548     new        WOMBAT           0.9.11   \n",
       "\n",
       "  search_engine search_engine_version ident_fdr_psm ident_fdr_peptide  \\\n",
       "0     Andromeda                  None          None              0.01   \n",
       "1     Andromeda                  None          None              0.01   \n",
       "2     Andromeda                   NaN          0.01              None   \n",
       "3     MSFragger                   4.2          0.01              None   \n",
       "4       Proline                   nan          0.01              0.01   \n",
       "\n",
       "  ident_fdr_protein  enable_match_between_runs  ... results.2.CV_q75  \\\n",
       "0              0.01                      False  ...         0.291818   \n",
       "1              0.01                       True  ...         0.312472   \n",
       "2              0.01                       True  ...         0.312472   \n",
       "3              0.01                      False  ...         0.276832   \n",
       "4              0.01                       True  ...         0.335215   \n",
       "\n",
       "  results.2.CV_q95 results.1.median_abs_epsilon results.1.mean_abs_epsilon  \\\n",
       "0         0.512293                     0.199852                   0.274547   \n",
       "1         0.569765                     0.207123                   0.304261   \n",
       "2         0.569765                     0.207123                   0.304261   \n",
       "3         0.560573                     0.199952                   0.309088   \n",
       "4         0.643571                     0.204178                   0.329195   \n",
       "\n",
       "  results.1.variance_epsilon results.1.nr_prec  results.1.CV_median  \\\n",
       "0                   0.160229             50302             0.202619   \n",
       "1                   0.222469             50339             0.215507   \n",
       "2                   0.222469             50339             0.215507   \n",
       "3                   0.230707             57021             0.156473   \n",
       "4                   0.284523             61819             0.230370   \n",
       "\n",
       "  results.1.CV_q90  results.1.CV_q75  results.1.CV_q95  \n",
       "0         0.416519          0.291818          0.512293  \n",
       "1         0.460770          0.312472          0.569765  \n",
       "2         0.460770          0.312472          0.569765  \n",
       "3         0.437619          0.276832          0.560573  \n",
       "4         0.507628          0.335215          0.643571  \n",
       "\n",
       "[5 rows x 88 columns]"
      ]
     },
     "execution_count": 2,
     "metadata": {},
     "output_type": "execute_result"
    }
   ],
   "source": [
    "# Examples to choose from:\n",
    "#\n",
    "# \"https://github.com/Proteobench/Results_quant_ion_DDA/archive/refs/heads/main.zip\"\n",
    "# \"https://github.com/Proteobench/Results_quant_peptidoform_DIA/archive/refs/heads/main.zip\"\n",
    "# \"https://github.com/Proteobench/Results_subcellprofile_DOMLFQ_protein_DIA_EXPL/archive/refs/heads/main.zip\"\n",
    "# \"https://github.com/Proteobench/Results_quant_peptidoform_DDA/archive/refs/heads/main.zip\"\n",
    "# \"https://github.com/Proteobench/Results_quant_ion_DIA_diaPASEF/archive/refs/heads/main.zip\"\n",
    "# \"https://github.com/Proteobench/Results_quant_ion_DIA_singlecell/archive/refs/heads/main.zip\"\n",
    "# \"https://github.com/Proteobench/Results_quant_ion_DIA/archive/refs/heads/main.zip\"\n",
    "\n",
    "repo_url = \"https://github.com/Proteobench/Results_quant_ion_DDA/archive/refs/heads/main.zip\"\n",
    "\n",
    "# Step 1: Download ZIP archive from GitHub\n",
    "response = requests.get(repo_url)\n",
    "zip_bytes = io.BytesIO(response.content)\n",
    "\n",
    "# Step 2: Extract ZIP contents to a local folder\n",
    "with zipfile.ZipFile(zip_bytes) as zip_ref:\n",
    "    zip_ref.extractall(\"Results_quant_ion_DDA\")\n",
    "\n",
    "# Step 3: Prepare base directory\n",
    "base_path = \"Results_quant_ion_DDA/Results_quant_ion_DDA-main\"\n",
    "\n",
    "# Step 4: Initialize combined JSON container\n",
    "combined_json = []\n",
    "\n",
    "# Step 5: Walk through directory and read all JSON files\n",
    "for root, dirs, files in os.walk(base_path):\n",
    "    for file in files:\n",
    "        if file.endswith(\".json\"):\n",
    "            file_path = os.path.join(root, file)\n",
    "            with open(file_path, \"r\", encoding=\"utf-8\") as f:\n",
    "                try:\n",
    "                    data = json.load(f)\n",
    "                    combined_json.append(data)\n",
    "                except json.JSONDecodeError as e:\n",
    "                    print(f\"Error reading {file_path}: {e}\")\n",
    "\n",
    "# Step 6: Write combined JSON to a single output file (optional)\n",
    "with open(\"combined_results.json\", \"w\", encoding=\"utf-8\") as out_file:\n",
    "    json.dump(combined_json, out_file, ensure_ascii=False, indent=2)\n",
    "\n",
    "print(f\"Combined {len(combined_json)} JSON files into 'combined_results.json'.\")\n",
    "\n",
    "df = pd.json_normalize(combined_json)\n",
    "df.head(5)"
   ]
  },
  {
   "cell_type": "code",
   "execution_count": 3,
   "id": "90eec923",
   "metadata": {},
   "outputs": [
    {
     "data": {
      "application/vnd.jupyter.widget-view+json": {
       "model_id": "d3643f863d40476eba13525232b2003f",
       "version_major": 2,
       "version_minor": 0
      },
      "text/plain": [
       "SelectMultiple(description='Select Rows:', layout=Layout(width='50%'), options=(('MaxQuant_20241216_122433 (ha…"
      ]
     },
     "metadata": {},
     "output_type": "display_data"
    },
    {
     "data": {
      "application/vnd.jupyter.widget-view+json": {
       "model_id": "497c9c3d9d8d45a2bb13273f250afdb3",
       "version_major": 2,
       "version_minor": 0
      },
      "text/plain": [
       "Button(description='Filter Rows', style=ButtonStyle())"
      ]
     },
     "metadata": {},
     "output_type": "display_data"
    },
    {
     "data": {
      "application/vnd.jupyter.widget-view+json": {
       "model_id": "d4ceba5a9a0644fda58e0ba34d876056",
       "version_major": 2,
       "version_minor": 0
      },
      "text/plain": [
       "Output()"
      ]
     },
     "metadata": {},
     "output_type": "display_data"
    }
   ],
   "source": [
    "# Create a SelectMultiple widget with names as options\n",
    "row_selector = widgets.SelectMultiple(\n",
    "    options=[(f\"{row['id']} (hash: {row['intermediate_hash']}, submission comments: {row['submission_comments']})\", idx) for idx, row in df.iterrows()],\n",
    "    description='Select Rows:',\n",
    "    rows=10,  # Number of visible rows in the widget\n",
    "    layout=widgets.Layout(width='50%')  # Adjust layout as needed\n",
    ")\n",
    "\n",
    "# Button to confirm selection\n",
    "button = widgets.Button(description='Filter Rows')\n",
    "\n",
    "# Output widget to display the filtered DataFrame\n",
    "output = widgets.Output()\n",
    "\n",
    "# Callback for filtering rows\n",
    "def on_button_click(b):\n",
    "    with output:\n",
    "        output.clear_output()\n",
    "        selected_indices = list(row_selector.value)\n",
    "        global filtered_df  # Store filtered DataFrame globally\n",
    "        filtered_df = df.iloc[selected_indices]\n",
    "        print(\"Filtered DataFrame:\")\n",
    "        display(filtered_df)\n",
    "\n",
    "# Attach callback\n",
    "button.on_click(on_button_click)\n",
    "\n",
    "# Display the widgets\n",
    "display(row_selector, button, output)\n",
    "\n"
   ]
  },
  {
   "cell_type": "code",
   "execution_count": 5,
   "id": "c79455a0",
   "metadata": {},
   "outputs": [
    {
     "data": {
      "text/plain": [
       "0     00e2f863939301a2a71178652972dad895b27520\n",
       "1     0280a06fabdbe84746419d0810deae56e7ab2406\n",
       "2     0b2ce2ef84562945a7ad4865ff11ff720f8d68ad\n",
       "3     0c88ca16d30d2911dc78febe087650427365e963\n",
       "4     0d33cae7fd689507eb8b31c7ee2adc72adc3befe\n",
       "5     1438823a0441d7a32c0d1095074cbc4a187ce2fb\n",
       "6     1bfa914c771321b285a9ca40d4aa538cb9fdc42e\n",
       "7     254d6c77ce656888918e738772ad5f5f6f1543e4\n",
       "8     2805f6b6d1fabd65448540bee743f2b05c1dda59\n",
       "9     2a5ef6191b8098757d490acf76bb9c2af5b89a39\n",
       "10    36b7b01b380f641722b3b34633bb53d72348eb80\n",
       "11    3bd27fcfd7013d81b578e850035874af14b1cc26\n",
       "12    3cffb02abcf3ce5950dae07bb94985e12d632da9\n",
       "13    4455fe37836eb6ae90f3592f214038c3a2b28b23\n",
       "14    45486140efcbe205e2485f1ef4d668ec3d79fb99\n",
       "15    45fbb2dc2468abd6dbaec4520c2a0e96cb7f7e0f\n",
       "16    47db7ef37a0fb5fec79f3bedbfb4f67835774f10\n",
       "17    4b50085fa82695a0d0b67283f022aff106c0a983\n",
       "18    4decb9e0d2d9ed9f9be6a9ad5aa066b1dcd1e616\n",
       "19    58dfec050e16a3ff10999c76d727f23a5cd6c6f9\n",
       "20    5d7209cf235899ad053ed7dc6b839ac67a226b3c\n",
       "21    5dc44925b46df18a2799648b5f975a41ba8bf89f\n",
       "22    5dfc20b3a720fb08c3e9ce1a4827e962664f6338\n",
       "23    6279a9e388c08ba4e4d676ae645179691270a93e\n",
       "24    6636a8c845b94a386a2f8ab8827e47e13dd87761\n",
       "25    6d76320c19398352cfbe0a0333e88d5eb59941c4\n",
       "26    7912158e0522a315917e20fe434966ca9a17192e\n",
       "27    7a1b33450db849167eac7f1ad2f96f25753e5484\n",
       "28    80b8a3f0c0c9ab8af7246868470026c6fdf277b2\n",
       "29    883e7c4e8dcc57f21ff2e5632455e81a913ca9ad\n",
       "30    88dfa519f8ea30521e209ef1c005eee9ac38e555\n",
       "31    8cbc0bce20eee581ad10326e02a09dbc316c30e1\n",
       "32    8f4fa9a7dd1f44ac4ae7a7e7fb9b9606660f4578\n",
       "33    94c4c0b7d00761d24fdde05276053b087cb99ea1\n",
       "34    982740480e3e36433d6691e3588bc4c2acea4430\n",
       "35    a1140a31b414d7b3110ee9b9c0456cc4f1709782\n",
       "36    a3d801fcb75c46b2e76fa7078ae0a004360ebe44\n",
       "37    bbd079eda4dd3d6a51b37924d83db50022530bb6\n",
       "38    bc6d394a74fdfe29e4af7c0154a3732037d64759\n",
       "39    c9b6df263cfd4491f6188ac49043fa78d0f8acdb\n",
       "40    d8db9ffd261d4e4f5810738c726453dc034b3789\n",
       "41    ddae18c13fb1c8b8ab82231e8c09dc27df896829\n",
       "42    e01ca9dd0be7bae4ec717df19842cef4061b5521\n",
       "43    e0ab1339a5354cb27d895ff252383ee4a3365b2e\n",
       "44    e683472e109ece5b3e0996d8bef476ed0ad6dbdb\n",
       "Name: intermediate_hash, dtype: object"
      ]
     },
     "execution_count": 5,
     "metadata": {},
     "output_type": "execute_result"
    }
   ],
   "source": [
    "filtered_df[\"intermediate_hash\"]"
   ]
  },
  {
   "cell_type": "code",
   "execution_count": 6,
   "id": "093bd9d5",
   "metadata": {},
   "outputs": [
    {
     "name": "stdout",
     "output_type": "stream",
     "text": [
      "Processing folder: https://proteobench.cubimed.rub.de/datasets/00e2f863939301a2a71178652972dad895b27520/\n",
      "Downloading: https://proteobench.cubimed.rub.de/datasets/00e2f863939301a2a71178652972dad895b27520/00e2f863939301a2a71178652972dad895b27520_data.zip\n"
     ]
    },
    {
     "name": "stderr",
     "output_type": "stream",
     "text": [
      "Downloading 00e2f863939301a2a71178652972dad895b27520_data.zip: 100%|██████████| 26.0M/26.0M [00:04<00:00, 5.53MB/s]\n"
     ]
    },
    {
     "name": "stdout",
     "output_type": "stream",
     "text": [
      "Extracted contents to: extracted_files/00e2f863939301a2a71178652972dad895b27520\n",
      "Processing folder: https://proteobench.cubimed.rub.de/datasets/0280a06fabdbe84746419d0810deae56e7ab2406/\n",
      "Downloading: https://proteobench.cubimed.rub.de/datasets/0280a06fabdbe84746419d0810deae56e7ab2406/0280a06fabdbe84746419d0810deae56e7ab2406_data.zip\n"
     ]
    },
    {
     "name": "stderr",
     "output_type": "stream",
     "text": [
      "Downloading 0280a06fabdbe84746419d0810deae56e7ab2406_data.zip: 100%|██████████| 33.6M/33.6M [00:06<00:00, 5.41MB/s]\n"
     ]
    },
    {
     "name": "stdout",
     "output_type": "stream",
     "text": [
      "Extracted contents to: extracted_files/0280a06fabdbe84746419d0810deae56e7ab2406\n",
      "Processing folder: https://proteobench.cubimed.rub.de/datasets/0c88ca16d30d2911dc78febe087650427365e963/\n",
      "Downloading: https://proteobench.cubimed.rub.de/datasets/0c88ca16d30d2911dc78febe087650427365e963/0c88ca16d30d2911dc78febe087650427365e963_data.zip\n"
     ]
    },
    {
     "name": "stderr",
     "output_type": "stream",
     "text": [
      "Downloading 0c88ca16d30d2911dc78febe087650427365e963_data.zip: 100%|██████████| 15.3M/15.3M [00:01<00:00, 11.3MB/s]\n"
     ]
    },
    {
     "name": "stdout",
     "output_type": "stream",
     "text": [
      "Extracted contents to: extracted_files/0c88ca16d30d2911dc78febe087650427365e963\n",
      "Processing folder: https://proteobench.cubimed.rub.de/datasets/0d33cae7fd689507eb8b31c7ee2adc72adc3befe/\n",
      "Downloading: https://proteobench.cubimed.rub.de/datasets/0d33cae7fd689507eb8b31c7ee2adc72adc3befe/0d33cae7fd689507eb8b31c7ee2adc72adc3befe_data.zip\n"
     ]
    },
    {
     "name": "stderr",
     "output_type": "stream",
     "text": [
      "Downloading 0d33cae7fd689507eb8b31c7ee2adc72adc3befe_data.zip: 100%|██████████| 10.9M/10.9M [00:00<00:00, 14.9MB/s]\n"
     ]
    },
    {
     "name": "stdout",
     "output_type": "stream",
     "text": [
      "Extracted contents to: extracted_files/0d33cae7fd689507eb8b31c7ee2adc72adc3befe\n",
      "Processing folder: https://proteobench.cubimed.rub.de/datasets/1438823a0441d7a32c0d1095074cbc4a187ce2fb/\n",
      "Downloading: https://proteobench.cubimed.rub.de/datasets/1438823a0441d7a32c0d1095074cbc4a187ce2fb/1438823a0441d7a32c0d1095074cbc4a187ce2fb_data.zip\n"
     ]
    },
    {
     "name": "stderr",
     "output_type": "stream",
     "text": [
      "Downloading 1438823a0441d7a32c0d1095074cbc4a187ce2fb_data.zip: 100%|██████████| 15.0M/15.0M [00:01<00:00, 8.72MB/s]\n"
     ]
    },
    {
     "name": "stdout",
     "output_type": "stream",
     "text": [
      "Extracted contents to: extracted_files/1438823a0441d7a32c0d1095074cbc4a187ce2fb\n",
      "Processing folder: https://proteobench.cubimed.rub.de/datasets/1bfa914c771321b285a9ca40d4aa538cb9fdc42e/\n",
      "Downloading: https://proteobench.cubimed.rub.de/datasets/1bfa914c771321b285a9ca40d4aa538cb9fdc42e/1bfa914c771321b285a9ca40d4aa538cb9fdc42e_data.zip\n"
     ]
    },
    {
     "name": "stderr",
     "output_type": "stream",
     "text": [
      "Downloading 1bfa914c771321b285a9ca40d4aa538cb9fdc42e_data.zip: 100%|██████████| 66.4M/66.4M [00:13<00:00, 5.25MB/s]\n"
     ]
    },
    {
     "name": "stdout",
     "output_type": "stream",
     "text": [
      "Extracted contents to: extracted_files/1bfa914c771321b285a9ca40d4aa538cb9fdc42e\n",
      "Processing folder: https://proteobench.cubimed.rub.de/datasets/254d6c77ce656888918e738772ad5f5f6f1543e4/\n",
      "Downloading: https://proteobench.cubimed.rub.de/datasets/254d6c77ce656888918e738772ad5f5f6f1543e4/254d6c77ce656888918e738772ad5f5f6f1543e4_data.zip\n"
     ]
    },
    {
     "name": "stderr",
     "output_type": "stream",
     "text": [
      "Downloading 254d6c77ce656888918e738772ad5f5f6f1543e4_data.zip: 100%|██████████| 32.2M/32.2M [00:07<00:00, 4.44MB/s]\n"
     ]
    },
    {
     "name": "stdout",
     "output_type": "stream",
     "text": [
      "Extracted contents to: extracted_files/254d6c77ce656888918e738772ad5f5f6f1543e4\n",
      "Processing folder: https://proteobench.cubimed.rub.de/datasets/2805f6b6d1fabd65448540bee743f2b05c1dda59/\n",
      "Downloading: https://proteobench.cubimed.rub.de/datasets/2805f6b6d1fabd65448540bee743f2b05c1dda59/2805f6b6d1fabd65448540bee743f2b05c1dda59_data.zip\n"
     ]
    },
    {
     "name": "stderr",
     "output_type": "stream",
     "text": [
      "Downloading 2805f6b6d1fabd65448540bee743f2b05c1dda59_data.zip: 100%|██████████| 33.2M/33.2M [00:05<00:00, 6.77MB/s]\n"
     ]
    },
    {
     "name": "stdout",
     "output_type": "stream",
     "text": [
      "Extracted contents to: extracted_files/2805f6b6d1fabd65448540bee743f2b05c1dda59\n",
      "Processing folder: https://proteobench.cubimed.rub.de/datasets/2a5ef6191b8098757d490acf76bb9c2af5b89a39/\n",
      "Downloading: https://proteobench.cubimed.rub.de/datasets/2a5ef6191b8098757d490acf76bb9c2af5b89a39/2a5ef6191b8098757d490acf76bb9c2af5b89a39_data.zip\n"
     ]
    },
    {
     "name": "stderr",
     "output_type": "stream",
     "text": [
      "Downloading 2a5ef6191b8098757d490acf76bb9c2af5b89a39_data.zip: 100%|██████████| 45.2M/45.2M [00:03<00:00, 15.0MB/s]\n"
     ]
    },
    {
     "name": "stdout",
     "output_type": "stream",
     "text": [
      "Extracted contents to: extracted_files/2a5ef6191b8098757d490acf76bb9c2af5b89a39\n",
      "Processing folder: https://proteobench.cubimed.rub.de/datasets/36b7b01b380f641722b3b34633bb53d72348eb80/\n",
      "Downloading: https://proteobench.cubimed.rub.de/datasets/36b7b01b380f641722b3b34633bb53d72348eb80/36b7b01b380f641722b3b34633bb53d72348eb80_data.zip\n"
     ]
    },
    {
     "name": "stderr",
     "output_type": "stream",
     "text": [
      "Downloading 36b7b01b380f641722b3b34633bb53d72348eb80_data.zip: 100%|██████████| 25.4M/25.4M [00:04<00:00, 6.49MB/s]\n"
     ]
    },
    {
     "name": "stdout",
     "output_type": "stream",
     "text": [
      "Extracted contents to: extracted_files/36b7b01b380f641722b3b34633bb53d72348eb80\n",
      "Processing folder: https://proteobench.cubimed.rub.de/datasets/3bd27fcfd7013d81b578e850035874af14b1cc26/\n",
      "Downloading: https://proteobench.cubimed.rub.de/datasets/3bd27fcfd7013d81b578e850035874af14b1cc26/3bd27fcfd7013d81b578e850035874af14b1cc26_data.zip\n"
     ]
    },
    {
     "name": "stderr",
     "output_type": "stream",
     "text": [
      "Downloading 3bd27fcfd7013d81b578e850035874af14b1cc26_data.zip: 100%|██████████| 13.6M/13.6M [00:02<00:00, 5.92MB/s]\n"
     ]
    },
    {
     "name": "stdout",
     "output_type": "stream",
     "text": [
      "Extracted contents to: extracted_files/3bd27fcfd7013d81b578e850035874af14b1cc26\n",
      "Processing folder: https://proteobench.cubimed.rub.de/datasets/3cffb02abcf3ce5950dae07bb94985e12d632da9/\n",
      "Downloading: https://proteobench.cubimed.rub.de/datasets/3cffb02abcf3ce5950dae07bb94985e12d632da9/3cffb02abcf3ce5950dae07bb94985e12d632da9_data.zip\n"
     ]
    },
    {
     "name": "stderr",
     "output_type": "stream",
     "text": [
      "Downloading 3cffb02abcf3ce5950dae07bb94985e12d632da9_data.zip: 100%|██████████| 20.2M/20.2M [00:01<00:00, 13.7MB/s]\n"
     ]
    },
    {
     "name": "stdout",
     "output_type": "stream",
     "text": [
      "Extracted contents to: extracted_files/3cffb02abcf3ce5950dae07bb94985e12d632da9\n",
      "Processing folder: https://proteobench.cubimed.rub.de/datasets/4455fe37836eb6ae90f3592f214038c3a2b28b23/\n",
      "Downloading: https://proteobench.cubimed.rub.de/datasets/4455fe37836eb6ae90f3592f214038c3a2b28b23/4455fe37836eb6ae90f3592f214038c3a2b28b23_data.zip\n"
     ]
    },
    {
     "name": "stderr",
     "output_type": "stream",
     "text": [
      "Downloading 4455fe37836eb6ae90f3592f214038c3a2b28b23_data.zip: 100%|██████████| 14.7M/14.7M [00:02<00:00, 6.13MB/s]\n"
     ]
    },
    {
     "name": "stdout",
     "output_type": "stream",
     "text": [
      "Extracted contents to: extracted_files/4455fe37836eb6ae90f3592f214038c3a2b28b23\n",
      "Processing folder: https://proteobench.cubimed.rub.de/datasets/45486140efcbe205e2485f1ef4d668ec3d79fb99/\n",
      "Downloading: https://proteobench.cubimed.rub.de/datasets/45486140efcbe205e2485f1ef4d668ec3d79fb99/45486140efcbe205e2485f1ef4d668ec3d79fb99_data.zip\n"
     ]
    },
    {
     "name": "stderr",
     "output_type": "stream",
     "text": [
      "Downloading 45486140efcbe205e2485f1ef4d668ec3d79fb99_data.zip: 100%|██████████| 11.1M/11.1M [00:02<00:00, 4.00MB/s]\n"
     ]
    },
    {
     "name": "stdout",
     "output_type": "stream",
     "text": [
      "Extracted contents to: extracted_files/45486140efcbe205e2485f1ef4d668ec3d79fb99\n",
      "Processing folder: https://proteobench.cubimed.rub.de/datasets/4b50085fa82695a0d0b67283f022aff106c0a983/\n",
      "Downloading: https://proteobench.cubimed.rub.de/datasets/4b50085fa82695a0d0b67283f022aff106c0a983/4b50085fa82695a0d0b67283f022aff106c0a983_data.zip\n"
     ]
    },
    {
     "name": "stderr",
     "output_type": "stream",
     "text": [
      "Downloading 4b50085fa82695a0d0b67283f022aff106c0a983_data.zip: 100%|██████████| 23.1M/23.1M [00:01<00:00, 12.7MB/s]\n"
     ]
    },
    {
     "name": "stdout",
     "output_type": "stream",
     "text": [
      "Extracted contents to: extracted_files/4b50085fa82695a0d0b67283f022aff106c0a983\n",
      "Processing folder: https://proteobench.cubimed.rub.de/datasets/4decb9e0d2d9ed9f9be6a9ad5aa066b1dcd1e616/\n",
      "Downloading: https://proteobench.cubimed.rub.de/datasets/4decb9e0d2d9ed9f9be6a9ad5aa066b1dcd1e616/4decb9e0d2d9ed9f9be6a9ad5aa066b1dcd1e616_data.zip\n"
     ]
    },
    {
     "name": "stderr",
     "output_type": "stream",
     "text": [
      "Downloading 4decb9e0d2d9ed9f9be6a9ad5aa066b1dcd1e616_data.zip: 100%|██████████| 8.89M/8.89M [00:00<00:00, 10.1MB/s]\n"
     ]
    },
    {
     "name": "stdout",
     "output_type": "stream",
     "text": [
      "Extracted contents to: extracted_files/4decb9e0d2d9ed9f9be6a9ad5aa066b1dcd1e616\n",
      "Processing folder: https://proteobench.cubimed.rub.de/datasets/58dfec050e16a3ff10999c76d727f23a5cd6c6f9/\n",
      "Downloading: https://proteobench.cubimed.rub.de/datasets/58dfec050e16a3ff10999c76d727f23a5cd6c6f9/58dfec050e16a3ff10999c76d727f23a5cd6c6f9_data.zip\n"
     ]
    },
    {
     "name": "stderr",
     "output_type": "stream",
     "text": [
      "Downloading 58dfec050e16a3ff10999c76d727f23a5cd6c6f9_data.zip: 100%|██████████| 7.88M/7.88M [00:00<00:00, 13.6MB/s]\n"
     ]
    },
    {
     "name": "stdout",
     "output_type": "stream",
     "text": [
      "Extracted contents to: extracted_files/58dfec050e16a3ff10999c76d727f23a5cd6c6f9\n",
      "Processing folder: https://proteobench.cubimed.rub.de/datasets/5d7209cf235899ad053ed7dc6b839ac67a226b3c/\n",
      "Downloading: https://proteobench.cubimed.rub.de/datasets/5d7209cf235899ad053ed7dc6b839ac67a226b3c/5d7209cf235899ad053ed7dc6b839ac67a226b3c_data.zip\n"
     ]
    },
    {
     "name": "stderr",
     "output_type": "stream",
     "text": [
      "Downloading 5d7209cf235899ad053ed7dc6b839ac67a226b3c_data.zip: 100%|██████████| 15.6M/15.6M [00:00<00:00, 17.4MB/s]\n"
     ]
    },
    {
     "name": "stdout",
     "output_type": "stream",
     "text": [
      "Extracted contents to: extracted_files/5d7209cf235899ad053ed7dc6b839ac67a226b3c\n",
      "Processing folder: https://proteobench.cubimed.rub.de/datasets/5dc44925b46df18a2799648b5f975a41ba8bf89f/\n",
      "Downloading: https://proteobench.cubimed.rub.de/datasets/5dc44925b46df18a2799648b5f975a41ba8bf89f/5dc44925b46df18a2799648b5f975a41ba8bf89f_data.zip\n"
     ]
    },
    {
     "name": "stderr",
     "output_type": "stream",
     "text": [
      "Downloading 5dc44925b46df18a2799648b5f975a41ba8bf89f_data.zip: 100%|██████████| 24.5M/24.5M [00:04<00:00, 5.52MB/s]\n"
     ]
    },
    {
     "name": "stdout",
     "output_type": "stream",
     "text": [
      "Extracted contents to: extracted_files/5dc44925b46df18a2799648b5f975a41ba8bf89f\n",
      "Processing folder: https://proteobench.cubimed.rub.de/datasets/5dfc20b3a720fb08c3e9ce1a4827e962664f6338/\n",
      "Downloading: https://proteobench.cubimed.rub.de/datasets/5dfc20b3a720fb08c3e9ce1a4827e962664f6338/5dfc20b3a720fb08c3e9ce1a4827e962664f6338_data.zip\n"
     ]
    },
    {
     "name": "stderr",
     "output_type": "stream",
     "text": [
      "Downloading 5dfc20b3a720fb08c3e9ce1a4827e962664f6338_data.zip: 100%|██████████| 19.1M/19.1M [00:03<00:00, 6.38MB/s]\n"
     ]
    },
    {
     "name": "stdout",
     "output_type": "stream",
     "text": [
      "Extracted contents to: extracted_files/5dfc20b3a720fb08c3e9ce1a4827e962664f6338\n",
      "Processing folder: https://proteobench.cubimed.rub.de/datasets/6279a9e388c08ba4e4d676ae645179691270a93e/\n",
      "Downloading: https://proteobench.cubimed.rub.de/datasets/6279a9e388c08ba4e4d676ae645179691270a93e/6279a9e388c08ba4e4d676ae645179691270a93e_data.zip\n"
     ]
    },
    {
     "name": "stderr",
     "output_type": "stream",
     "text": [
      "Downloading 6279a9e388c08ba4e4d676ae645179691270a93e_data.zip: 100%|██████████| 20.0M/20.0M [00:03<00:00, 5.43MB/s]\n"
     ]
    },
    {
     "name": "stdout",
     "output_type": "stream",
     "text": [
      "Extracted contents to: extracted_files/6279a9e388c08ba4e4d676ae645179691270a93e\n",
      "Processing folder: https://proteobench.cubimed.rub.de/datasets/6636a8c845b94a386a2f8ab8827e47e13dd87761/\n",
      "Downloading: https://proteobench.cubimed.rub.de/datasets/6636a8c845b94a386a2f8ab8827e47e13dd87761/6636a8c845b94a386a2f8ab8827e47e13dd87761_data.zip\n"
     ]
    },
    {
     "name": "stderr",
     "output_type": "stream",
     "text": [
      "Downloading 6636a8c845b94a386a2f8ab8827e47e13dd87761_data.zip: 100%|██████████| 6.53M/6.53M [00:00<00:00, 6.95MB/s]\n"
     ]
    },
    {
     "name": "stdout",
     "output_type": "stream",
     "text": [
      "Extracted contents to: extracted_files/6636a8c845b94a386a2f8ab8827e47e13dd87761\n",
      "Processing folder: https://proteobench.cubimed.rub.de/datasets/6d76320c19398352cfbe0a0333e88d5eb59941c4/\n",
      "Downloading: https://proteobench.cubimed.rub.de/datasets/6d76320c19398352cfbe0a0333e88d5eb59941c4/6d76320c19398352cfbe0a0333e88d5eb59941c4_data.zip\n"
     ]
    },
    {
     "name": "stderr",
     "output_type": "stream",
     "text": [
      "Downloading 6d76320c19398352cfbe0a0333e88d5eb59941c4_data.zip: 100%|██████████| 6.73M/6.73M [00:00<00:00, 9.31MB/s]\n"
     ]
    },
    {
     "name": "stdout",
     "output_type": "stream",
     "text": [
      "Extracted contents to: extracted_files/6d76320c19398352cfbe0a0333e88d5eb59941c4\n",
      "Processing folder: https://proteobench.cubimed.rub.de/datasets/7912158e0522a315917e20fe434966ca9a17192e/\n",
      "Downloading: https://proteobench.cubimed.rub.de/datasets/7912158e0522a315917e20fe434966ca9a17192e/7912158e0522a315917e20fe434966ca9a17192e_data.zip\n"
     ]
    },
    {
     "name": "stderr",
     "output_type": "stream",
     "text": [
      "Downloading 7912158e0522a315917e20fe434966ca9a17192e_data.zip: 100%|██████████| 26.5M/26.5M [00:05<00:00, 4.97MB/s]\n"
     ]
    },
    {
     "name": "stdout",
     "output_type": "stream",
     "text": [
      "Extracted contents to: extracted_files/7912158e0522a315917e20fe434966ca9a17192e\n",
      "Processing folder: https://proteobench.cubimed.rub.de/datasets/7a1b33450db849167eac7f1ad2f96f25753e5484/\n",
      "Downloading: https://proteobench.cubimed.rub.de/datasets/7a1b33450db849167eac7f1ad2f96f25753e5484/7a1b33450db849167eac7f1ad2f96f25753e5484_data.zip\n"
     ]
    },
    {
     "name": "stderr",
     "output_type": "stream",
     "text": [
      "Downloading 7a1b33450db849167eac7f1ad2f96f25753e5484_data.zip: 100%|██████████| 33.5M/33.5M [00:06<00:00, 5.19MB/s]\n"
     ]
    },
    {
     "name": "stdout",
     "output_type": "stream",
     "text": [
      "Extracted contents to: extracted_files/7a1b33450db849167eac7f1ad2f96f25753e5484\n",
      "Processing folder: https://proteobench.cubimed.rub.de/datasets/80b8a3f0c0c9ab8af7246868470026c6fdf277b2/\n",
      "Downloading: https://proteobench.cubimed.rub.de/datasets/80b8a3f0c0c9ab8af7246868470026c6fdf277b2/80b8a3f0c0c9ab8af7246868470026c6fdf277b2_data.zip\n"
     ]
    },
    {
     "name": "stderr",
     "output_type": "stream",
     "text": [
      "Downloading 80b8a3f0c0c9ab8af7246868470026c6fdf277b2_data.zip: 100%|██████████| 19.8M/19.8M [00:01<00:00, 12.1MB/s]\n"
     ]
    },
    {
     "name": "stdout",
     "output_type": "stream",
     "text": [
      "Extracted contents to: extracted_files/80b8a3f0c0c9ab8af7246868470026c6fdf277b2\n",
      "Processing folder: https://proteobench.cubimed.rub.de/datasets/883e7c4e8dcc57f21ff2e5632455e81a913ca9ad/\n",
      "Downloading: https://proteobench.cubimed.rub.de/datasets/883e7c4e8dcc57f21ff2e5632455e81a913ca9ad/883e7c4e8dcc57f21ff2e5632455e81a913ca9ad_data.zip\n"
     ]
    },
    {
     "name": "stderr",
     "output_type": "stream",
     "text": [
      "Downloading 883e7c4e8dcc57f21ff2e5632455e81a913ca9ad_data.zip: 100%|██████████| 20.0M/20.0M [00:01<00:00, 17.0MB/s]\n"
     ]
    },
    {
     "name": "stdout",
     "output_type": "stream",
     "text": [
      "Extracted contents to: extracted_files/883e7c4e8dcc57f21ff2e5632455e81a913ca9ad\n",
      "Processing folder: https://proteobench.cubimed.rub.de/datasets/88dfa519f8ea30521e209ef1c005eee9ac38e555/\n",
      "Downloading: https://proteobench.cubimed.rub.de/datasets/88dfa519f8ea30521e209ef1c005eee9ac38e555/88dfa519f8ea30521e209ef1c005eee9ac38e555_data.zip\n"
     ]
    },
    {
     "name": "stderr",
     "output_type": "stream",
     "text": [
      "Downloading 88dfa519f8ea30521e209ef1c005eee9ac38e555_data.zip: 100%|██████████| 13.5M/13.5M [00:02<00:00, 6.96MB/s]\n"
     ]
    },
    {
     "name": "stdout",
     "output_type": "stream",
     "text": [
      "Extracted contents to: extracted_files/88dfa519f8ea30521e209ef1c005eee9ac38e555\n",
      "Processing folder: https://proteobench.cubimed.rub.de/datasets/8cbc0bce20eee581ad10326e02a09dbc316c30e1/\n",
      "Downloading: https://proteobench.cubimed.rub.de/datasets/8cbc0bce20eee581ad10326e02a09dbc316c30e1/8cbc0bce20eee581ad10326e02a09dbc316c30e1_data.zip\n"
     ]
    },
    {
     "name": "stderr",
     "output_type": "stream",
     "text": [
      "Downloading 8cbc0bce20eee581ad10326e02a09dbc316c30e1_data.zip: 100%|██████████| 33.2M/33.2M [00:05<00:00, 5.83MB/s]\n"
     ]
    },
    {
     "name": "stdout",
     "output_type": "stream",
     "text": [
      "Extracted contents to: extracted_files/8cbc0bce20eee581ad10326e02a09dbc316c30e1\n",
      "Processing folder: https://proteobench.cubimed.rub.de/datasets/8f4fa9a7dd1f44ac4ae7a7e7fb9b9606660f4578/\n",
      "Downloading: https://proteobench.cubimed.rub.de/datasets/8f4fa9a7dd1f44ac4ae7a7e7fb9b9606660f4578/8f4fa9a7dd1f44ac4ae7a7e7fb9b9606660f4578_data.zip\n"
     ]
    },
    {
     "name": "stderr",
     "output_type": "stream",
     "text": [
      "Downloading 8f4fa9a7dd1f44ac4ae7a7e7fb9b9606660f4578_data.zip: 100%|██████████| 25.1M/25.1M [00:01<00:00, 18.0MB/s]\n"
     ]
    },
    {
     "name": "stdout",
     "output_type": "stream",
     "text": [
      "Extracted contents to: extracted_files/8f4fa9a7dd1f44ac4ae7a7e7fb9b9606660f4578\n",
      "Processing folder: https://proteobench.cubimed.rub.de/datasets/94c4c0b7d00761d24fdde05276053b087cb99ea1/\n",
      "Downloading: https://proteobench.cubimed.rub.de/datasets/94c4c0b7d00761d24fdde05276053b087cb99ea1/94c4c0b7d00761d24fdde05276053b087cb99ea1_data.zip\n"
     ]
    },
    {
     "name": "stderr",
     "output_type": "stream",
     "text": [
      "Downloading 94c4c0b7d00761d24fdde05276053b087cb99ea1_data.zip: 100%|██████████| 59.7M/59.7M [00:04<00:00, 13.5MB/s]\n"
     ]
    },
    {
     "name": "stdout",
     "output_type": "stream",
     "text": [
      "Extracted contents to: extracted_files/94c4c0b7d00761d24fdde05276053b087cb99ea1\n",
      "Processing folder: https://proteobench.cubimed.rub.de/datasets/982740480e3e36433d6691e3588bc4c2acea4430/\n",
      "Downloading: https://proteobench.cubimed.rub.de/datasets/982740480e3e36433d6691e3588bc4c2acea4430/982740480e3e36433d6691e3588bc4c2acea4430_data.zip\n"
     ]
    },
    {
     "name": "stderr",
     "output_type": "stream",
     "text": [
      "Downloading 982740480e3e36433d6691e3588bc4c2acea4430_data.zip: 100%|██████████| 12.8M/12.8M [00:01<00:00, 7.77MB/s]\n"
     ]
    },
    {
     "name": "stdout",
     "output_type": "stream",
     "text": [
      "Extracted contents to: extracted_files/982740480e3e36433d6691e3588bc4c2acea4430\n",
      "Processing folder: https://proteobench.cubimed.rub.de/datasets/a1140a31b414d7b3110ee9b9c0456cc4f1709782/\n",
      "Downloading: https://proteobench.cubimed.rub.de/datasets/a1140a31b414d7b3110ee9b9c0456cc4f1709782/a1140a31b414d7b3110ee9b9c0456cc4f1709782_data.zip\n"
     ]
    },
    {
     "name": "stderr",
     "output_type": "stream",
     "text": [
      "Downloading a1140a31b414d7b3110ee9b9c0456cc4f1709782_data.zip: 100%|██████████| 25.4M/25.4M [00:01<00:00, 17.2MB/s]\n"
     ]
    },
    {
     "name": "stdout",
     "output_type": "stream",
     "text": [
      "Extracted contents to: extracted_files/a1140a31b414d7b3110ee9b9c0456cc4f1709782\n",
      "Processing folder: https://proteobench.cubimed.rub.de/datasets/a3d801fcb75c46b2e76fa7078ae0a004360ebe44/\n",
      "Downloading: https://proteobench.cubimed.rub.de/datasets/a3d801fcb75c46b2e76fa7078ae0a004360ebe44/a3d801fcb75c46b2e76fa7078ae0a004360ebe44_data.zip\n"
     ]
    },
    {
     "name": "stderr",
     "output_type": "stream",
     "text": [
      "Downloading a3d801fcb75c46b2e76fa7078ae0a004360ebe44_data.zip: 100%|██████████| 24.1M/24.1M [00:05<00:00, 4.59MB/s]\n"
     ]
    },
    {
     "name": "stdout",
     "output_type": "stream",
     "text": [
      "Extracted contents to: extracted_files/a3d801fcb75c46b2e76fa7078ae0a004360ebe44\n",
      "Processing folder: https://proteobench.cubimed.rub.de/datasets/bbd079eda4dd3d6a51b37924d83db50022530bb6/\n",
      "Downloading: https://proteobench.cubimed.rub.de/datasets/bbd079eda4dd3d6a51b37924d83db50022530bb6/bbd079eda4dd3d6a51b37924d83db50022530bb6_data.zip\n"
     ]
    },
    {
     "name": "stderr",
     "output_type": "stream",
     "text": [
      "Downloading bbd079eda4dd3d6a51b37924d83db50022530bb6_data.zip: 100%|██████████| 15.7M/15.7M [00:02<00:00, 6.27MB/s]\n"
     ]
    },
    {
     "name": "stdout",
     "output_type": "stream",
     "text": [
      "Extracted contents to: extracted_files/bbd079eda4dd3d6a51b37924d83db50022530bb6\n",
      "Processing folder: https://proteobench.cubimed.rub.de/datasets/c9b6df263cfd4491f6188ac49043fa78d0f8acdb/\n",
      "Downloading: https://proteobench.cubimed.rub.de/datasets/c9b6df263cfd4491f6188ac49043fa78d0f8acdb/c9b6df263cfd4491f6188ac49043fa78d0f8acdb_data.zip\n"
     ]
    },
    {
     "name": "stderr",
     "output_type": "stream",
     "text": [
      "Downloading c9b6df263cfd4491f6188ac49043fa78d0f8acdb_data.zip: 100%|██████████| 10.1M/10.1M [00:02<00:00, 4.37MB/s]\n"
     ]
    },
    {
     "name": "stdout",
     "output_type": "stream",
     "text": [
      "Extracted contents to: extracted_files/c9b6df263cfd4491f6188ac49043fa78d0f8acdb\n",
      "Processing folder: https://proteobench.cubimed.rub.de/datasets/d8db9ffd261d4e4f5810738c726453dc034b3789/\n",
      "Downloading: https://proteobench.cubimed.rub.de/datasets/d8db9ffd261d4e4f5810738c726453dc034b3789/d8db9ffd261d4e4f5810738c726453dc034b3789_data.zip\n"
     ]
    },
    {
     "name": "stderr",
     "output_type": "stream",
     "text": [
      "Downloading d8db9ffd261d4e4f5810738c726453dc034b3789_data.zip: 100%|██████████| 20.8M/20.8M [00:01<00:00, 11.7MB/s]\n"
     ]
    },
    {
     "name": "stdout",
     "output_type": "stream",
     "text": [
      "Extracted contents to: extracted_files/d8db9ffd261d4e4f5810738c726453dc034b3789\n",
      "Processing folder: https://proteobench.cubimed.rub.de/datasets/ddae18c13fb1c8b8ab82231e8c09dc27df896829/\n",
      "Downloading: https://proteobench.cubimed.rub.de/datasets/ddae18c13fb1c8b8ab82231e8c09dc27df896829/ddae18c13fb1c8b8ab82231e8c09dc27df896829_data.zip\n"
     ]
    },
    {
     "name": "stderr",
     "output_type": "stream",
     "text": [
      "Downloading ddae18c13fb1c8b8ab82231e8c09dc27df896829_data.zip: 100%|██████████| 15.7M/15.7M [00:03<00:00, 5.19MB/s]\n"
     ]
    },
    {
     "name": "stdout",
     "output_type": "stream",
     "text": [
      "Extracted contents to: extracted_files/ddae18c13fb1c8b8ab82231e8c09dc27df896829\n",
      "Processing folder: https://proteobench.cubimed.rub.de/datasets/e0ab1339a5354cb27d895ff252383ee4a3365b2e/\n",
      "Downloading: https://proteobench.cubimed.rub.de/datasets/e0ab1339a5354cb27d895ff252383ee4a3365b2e/e0ab1339a5354cb27d895ff252383ee4a3365b2e_data.zip\n"
     ]
    },
    {
     "name": "stderr",
     "output_type": "stream",
     "text": [
      "Downloading e0ab1339a5354cb27d895ff252383ee4a3365b2e_data.zip: 100%|██████████| 18.7M/18.7M [00:03<00:00, 5.95MB/s]\n"
     ]
    },
    {
     "name": "stdout",
     "output_type": "stream",
     "text": [
      "Extracted contents to: extracted_files/e0ab1339a5354cb27d895ff252383ee4a3365b2e\n",
      "Processing folder: https://proteobench.cubimed.rub.de/datasets/e683472e109ece5b3e0996d8bef476ed0ad6dbdb/\n",
      "Downloading: https://proteobench.cubimed.rub.de/datasets/e683472e109ece5b3e0996d8bef476ed0ad6dbdb/e683472e109ece5b3e0996d8bef476ed0ad6dbdb_data.zip\n"
     ]
    },
    {
     "name": "stderr",
     "output_type": "stream",
     "text": [
      "Downloading e683472e109ece5b3e0996d8bef476ed0ad6dbdb_data.zip: 100%|██████████| 34.8M/34.8M [00:06<00:00, 5.74MB/s]\n"
     ]
    },
    {
     "name": "stdout",
     "output_type": "stream",
     "text": [
      "Extracted contents to: extracted_files/e683472e109ece5b3e0996d8bef476ed0ad6dbdb\n"
     ]
    }
   ],
   "source": [
    "# Step 1: Extract the hash list from the DataFrame\n",
    "hash_list = filtered_df[\"intermediate_hash\"].tolist()\n",
    "\n",
    "# Step 2: Fetch folder names from the webpage\n",
    "base_url = \"https://proteobench.cubimed.rub.de/datasets/\"\n",
    "response = requests.get(base_url)\n",
    "response.raise_for_status()  # Check for errors\n",
    "\n",
    "soup = BeautifulSoup(response.text, \"html.parser\")\n",
    "folder_links = [link['href'].strip(\"/\") for link in soup.find_all(\"a\") if link['href'].endswith(\"/\")]\n",
    "\n",
    "# Step 3: Filter folder links based on the hash list\n",
    "matching_folders = [folder for folder in folder_links if folder in hash_list]\n",
    "\n",
    "# Step 4: Download and extract zip files from matching folders\n",
    "for folder in matching_folders:\n",
    "    folder_url = f\"{base_url}{folder}/\"\n",
    "    print(f\"Processing folder: {folder_url}\")\n",
    "\n",
    "    # Fetch the folder page\n",
    "    folder_response = requests.get(folder_url)\n",
    "    folder_response.raise_for_status()\n",
    "\n",
    "    folder_soup = BeautifulSoup(folder_response.text, \"html.parser\")\n",
    "    zip_files = [link['href'] for link in folder_soup.find_all(\"a\") if link['href'].endswith(\".zip\")]\n",
    "\n",
    "    # Process each .zip file\n",
    "    for zip_file in zip_files:\n",
    "        zip_url = f\"{folder_url}{zip_file}\"\n",
    "        print(f\"Downloading: {zip_url}\")\n",
    "\n",
    "        # Download with a progress bar\n",
    "        zip_response = requests.get(zip_url, stream=True)\n",
    "        zip_response.raise_for_status()\n",
    "\n",
    "        zip_filename = os.path.basename(zip_file)\n",
    "        total_size = int(zip_response.headers.get('content-length', 0))\n",
    "        block_size = 1024  # 1 KB\n",
    "\n",
    "        # Save the zip file\n",
    "        with open(zip_filename, \"wb\") as f, tqdm(\n",
    "            desc=f\"Downloading {zip_filename}\",\n",
    "            total=total_size,\n",
    "            unit=\"B\",\n",
    "            unit_scale=True,\n",
    "            unit_divisor=1024,\n",
    "        ) as progress:\n",
    "            for data in zip_response.iter_content(block_size):\n",
    "                f.write(data)\n",
    "                progress.update(len(data))\n",
    "\n",
    "        # Extract the zip file\n",
    "        extract_dir = f\"extracted_files/{folder}\"\n",
    "        os.makedirs(extract_dir, exist_ok=True)\n",
    "        with zipfile.ZipFile(zip_filename, \"r\") as zip_ref:\n",
    "            zip_ref.extractall(extract_dir)\n",
    "            print(f\"Extracted contents to: {extract_dir}\")\n",
    "\n",
    "        # Cleanup downloaded .zip file\n",
    "        os.remove(zip_filename)\n"
   ]
  },
  {
   "cell_type": "code",
   "execution_count": 7,
   "id": "593739e9",
   "metadata": {},
   "outputs": [
    {
     "data": {
      "text/html": [
       "<div>\n",
       "<style scoped>\n",
       "    .dataframe tbody tr th:only-of-type {\n",
       "        vertical-align: middle;\n",
       "    }\n",
       "\n",
       "    .dataframe tbody tr th {\n",
       "        vertical-align: top;\n",
       "    }\n",
       "\n",
       "    .dataframe thead th {\n",
       "        text-align: right;\n",
       "    }\n",
       "</style>\n",
       "<table border=\"1\" class=\"dataframe\">\n",
       "  <thead>\n",
       "    <tr style=\"text-align: right;\">\n",
       "      <th></th>\n",
       "      <th>id</th>\n",
       "      <th>old_new</th>\n",
       "      <th>software_name</th>\n",
       "      <th>software_version</th>\n",
       "      <th>search_engine</th>\n",
       "      <th>search_engine_version</th>\n",
       "      <th>ident_fdr_psm</th>\n",
       "      <th>ident_fdr_peptide</th>\n",
       "      <th>ident_fdr_protein</th>\n",
       "      <th>enable_match_between_runs</th>\n",
       "      <th>...</th>\n",
       "      <th>hover_text</th>\n",
       "      <th>scatter_size</th>\n",
       "      <th>scan_window</th>\n",
       "      <th>quantification_method_DIANN</th>\n",
       "      <th>second_pass</th>\n",
       "      <th>protein_inference</th>\n",
       "      <th>predictors_library</th>\n",
       "      <th>quantification_method</th>\n",
       "      <th>mean_abs_epsilon</th>\n",
       "      <th>abundance_normalization_ions</th>\n",
       "    </tr>\n",
       "  </thead>\n",
       "  <tbody>\n",
       "    <tr>\n",
       "      <th>0</th>\n",
       "      <td>MaxQuant_20241216_122433</td>\n",
       "      <td>old</td>\n",
       "      <td>MaxQuant</td>\n",
       "      <td>2.5.1.0</td>\n",
       "      <td>Andromeda</td>\n",
       "      <td>None</td>\n",
       "      <td>None</td>\n",
       "      <td>0.01</td>\n",
       "      <td>0.01</td>\n",
       "      <td>False</td>\n",
       "      <td>...</td>\n",
       "      <td>ProteoBench ID: MaxQuant_20241216_122433&lt;br&gt;So...</td>\n",
       "      <td>20.0</td>\n",
       "      <td>None</td>\n",
       "      <td>None</td>\n",
       "      <td>None</td>\n",
       "      <td>None</td>\n",
       "      <td>None</td>\n",
       "      <td>None</td>\n",
       "      <td>0.259947</td>\n",
       "      <td>None</td>\n",
       "    </tr>\n",
       "    <tr>\n",
       "      <th>1</th>\n",
       "      <td>MaxQuant_20241216_124040</td>\n",
       "      <td>old</td>\n",
       "      <td>MaxQuant</td>\n",
       "      <td>2.3.1.0</td>\n",
       "      <td>Andromeda</td>\n",
       "      <td>None</td>\n",
       "      <td>None</td>\n",
       "      <td>0.01</td>\n",
       "      <td>0.01</td>\n",
       "      <td>True</td>\n",
       "      <td>...</td>\n",
       "      <td>ProteoBench ID: MaxQuant_20241216_124040&lt;br&gt;So...</td>\n",
       "      <td>20.0</td>\n",
       "      <td>None</td>\n",
       "      <td>None</td>\n",
       "      <td>None</td>\n",
       "      <td>None</td>\n",
       "      <td>None</td>\n",
       "      <td>None</td>\n",
       "      <td>0.294623</td>\n",
       "      <td>None</td>\n",
       "    </tr>\n",
       "    <tr>\n",
       "      <th>2</th>\n",
       "      <td>MaxQuant_20250506_151623</td>\n",
       "      <td>old</td>\n",
       "      <td>MaxQuant</td>\n",
       "      <td>2.3.1.0</td>\n",
       "      <td>Andromeda</td>\n",
       "      <td>None</td>\n",
       "      <td>0.01</td>\n",
       "      <td>None</td>\n",
       "      <td>0.01</td>\n",
       "      <td>True</td>\n",
       "      <td>...</td>\n",
       "      <td>None</td>\n",
       "      <td>NaN</td>\n",
       "      <td>None</td>\n",
       "      <td>None</td>\n",
       "      <td>None</td>\n",
       "      <td>None</td>\n",
       "      <td>None</td>\n",
       "      <td>None</td>\n",
       "      <td>0.294623</td>\n",
       "      <td>None</td>\n",
       "    </tr>\n",
       "    <tr>\n",
       "      <th>3</th>\n",
       "      <td>FragPipe_20250504_164850</td>\n",
       "      <td>old</td>\n",
       "      <td>FragPipe</td>\n",
       "      <td>23.0</td>\n",
       "      <td>MSFragger</td>\n",
       "      <td>4.2</td>\n",
       "      <td>0.01</td>\n",
       "      <td>None</td>\n",
       "      <td>0.01</td>\n",
       "      <td>False</td>\n",
       "      <td>...</td>\n",
       "      <td>ProteoBench ID: FragPipe_20250504_164850&lt;br&gt;So...</td>\n",
       "      <td>20.0</td>\n",
       "      <td>None</td>\n",
       "      <td>None</td>\n",
       "      <td>None</td>\n",
       "      <td>ProteinProphet: --maxppmdiff 2000000</td>\n",
       "      <td>None</td>\n",
       "      <td>IonQuant</td>\n",
       "      <td>0.285003</td>\n",
       "      <td>1</td>\n",
       "    </tr>\n",
       "    <tr>\n",
       "      <th>4</th>\n",
       "      <td>WOMBAT_20250506_073548</td>\n",
       "      <td>old</td>\n",
       "      <td>WOMBAT</td>\n",
       "      <td>0.9.11</td>\n",
       "      <td>Proline</td>\n",
       "      <td>nan</td>\n",
       "      <td>0.01</td>\n",
       "      <td>0.01</td>\n",
       "      <td>0.01</td>\n",
       "      <td>True</td>\n",
       "      <td>...</td>\n",
       "      <td>ProteoBench ID: WOMBAT_20250506_073548&lt;br&gt;Soft...</td>\n",
       "      <td>40.0</td>\n",
       "      <td>None</td>\n",
       "      <td>None</td>\n",
       "      <td>None</td>\n",
       "      <td>nan</td>\n",
       "      <td>None</td>\n",
       "      <td>nan</td>\n",
       "      <td>0.326503</td>\n",
       "      <td></td>\n",
       "    </tr>\n",
       "  </tbody>\n",
       "</table>\n",
       "<p>5 rows × 41 columns</p>\n",
       "</div>"
      ],
      "text/plain": [
       "                         id old_new software_name software_version  \\\n",
       "0  MaxQuant_20241216_122433     old      MaxQuant          2.5.1.0   \n",
       "1  MaxQuant_20241216_124040     old      MaxQuant          2.3.1.0   \n",
       "2  MaxQuant_20250506_151623     old      MaxQuant          2.3.1.0   \n",
       "3  FragPipe_20250504_164850     old      FragPipe             23.0   \n",
       "4    WOMBAT_20250506_073548     old        WOMBAT           0.9.11   \n",
       "\n",
       "  search_engine search_engine_version ident_fdr_psm ident_fdr_peptide  \\\n",
       "0     Andromeda                  None          None              0.01   \n",
       "1     Andromeda                  None          None              0.01   \n",
       "2     Andromeda                  None          0.01              None   \n",
       "3     MSFragger                   4.2          0.01              None   \n",
       "4       Proline                   nan          0.01              0.01   \n",
       "\n",
       "  ident_fdr_protein  enable_match_between_runs  ...  \\\n",
       "0              0.01                      False  ...   \n",
       "1              0.01                       True  ...   \n",
       "2              0.01                       True  ...   \n",
       "3              0.01                      False  ...   \n",
       "4              0.01                       True  ...   \n",
       "\n",
       "                                          hover_text scatter_size scan_window  \\\n",
       "0  ProteoBench ID: MaxQuant_20241216_122433<br>So...         20.0        None   \n",
       "1  ProteoBench ID: MaxQuant_20241216_124040<br>So...         20.0        None   \n",
       "2                                               None          NaN        None   \n",
       "3  ProteoBench ID: FragPipe_20250504_164850<br>So...         20.0        None   \n",
       "4  ProteoBench ID: WOMBAT_20250506_073548<br>Soft...         40.0        None   \n",
       "\n",
       "  quantification_method_DIANN second_pass  \\\n",
       "0                        None        None   \n",
       "1                        None        None   \n",
       "2                        None        None   \n",
       "3                        None        None   \n",
       "4                        None        None   \n",
       "\n",
       "                      protein_inference  predictors_library  \\\n",
       "0                                  None                None   \n",
       "1                                  None                None   \n",
       "2                                  None                None   \n",
       "3  ProteinProphet: --maxppmdiff 2000000                None   \n",
       "4                                   nan                None   \n",
       "\n",
       "  quantification_method mean_abs_epsilon  abundance_normalization_ions  \n",
       "0                  None         0.259947                          None  \n",
       "1                  None         0.294623                          None  \n",
       "2                  None         0.294623                          None  \n",
       "3              IonQuant         0.285003                             1  \n",
       "4                   nan         0.326503                                \n",
       "\n",
       "[5 rows x 41 columns]"
      ]
     },
     "execution_count": 7,
     "metadata": {},
     "output_type": "execute_result"
    }
   ],
   "source": [
    "token = toml.load(\"../webinterface/.streamlit/secrets.toml\")[\"gh\"][\"token\"]\n",
    "\n",
    "# TODO change to the correct module\n",
    "module_obj = DDAQuantIonModule(token=token)\n",
    "results_df = module_obj.obtain_all_data_points(all_datapoints=None)\n",
    "\n",
    "results_df.head(5)"
   ]
  },
  {
   "cell_type": "code",
   "execution_count": 8,
   "id": "ecb9cf7c",
   "metadata": {},
   "outputs": [
    {
     "name": "stdout",
     "output_type": "stream",
     "text": [
      "Warning: Base path extracted_files\\0b2ce2ef84562945a7ad4865ff11ff720f8d68ad does not exist. Skipping.\n",
      "Warning: Base path extracted_files\\45fbb2dc2468abd6dbaec4520c2a0e96cb7f7e0f does not exist. Skipping.\n",
      "Warning: Base path extracted_files\\47db7ef37a0fb5fec79f3bedbfb4f67835774f10 does not exist. Skipping.\n",
      "Warning: Base path extracted_files\\bc6d394a74fdfe29e4af7c0154a3732037d64759 does not exist. Skipping.\n",
      "Warning: Base path extracted_files\\e01ca9dd0be7bae4ec717df19842cef4061b5521 does not exist. Skipping.\n"
     ]
    }
   ],
   "source": [
    "from pathlib import Path\n",
    "\n",
    "extra_path = Path(\"extracted_files\")\n",
    "submission_files = []\n",
    "\n",
    "for idx, row in filtered_df.iterrows():\n",
    "    base_path = extra_path / row[\"intermediate_hash\"]\n",
    "\n",
    "    if not base_path.exists():\n",
    "        print(f\"Warning: Base path {base_path} does not exist. Skipping.\")\n",
    "        continue\n",
    "\n",
    "    # Read user comments\n",
    "    comments_file = base_path / \"comment.txt\"\n",
    "    if comments_file.exists():\n",
    "        comments = \"\\n\".join(open(comments_file).readlines())\n",
    "    else:\n",
    "        print(f\"Warning: Comment file not found in {base_path}.\")\n",
    "        comments = \"\"\n",
    "\n",
    "    # Search for input file starting with \"input_file\"\n",
    "    input_files = list(base_path.glob(\"input_file*\"))\n",
    "    if input_files:\n",
    "        input_file = input_files[0]  # Take the first match (or adjust selection logic)\n",
    "    else:\n",
    "        print(f\"Warning: No input file starting with 'input_file' found in {base_path}.\")\n",
    "        input_file = None  # Or handle according to your application\n",
    "\n",
    "    # Search for parameter file starting with \"param_\"\n",
    "    param_files = list(base_path.glob(\"param_*\"))\n",
    "    if param_files:\n",
    "        parameter_file = param_files[0]  # Take the first match\n",
    "    else:\n",
    "        print(f\"Warning: No parameter file starting with 'param_' found in {base_path}.\")\n",
    "        parameter_file = None\n",
    "\n",
    "    submission_files.append(\n",
    "        {\n",
    "            \"input_file\": input_file,\n",
    "            \"param_file\": parameter_file,\n",
    "            \"input_type\": row[\"software_name\"],\n",
    "            \"default_cutoff_min_prec\": 3,\n",
    "            \"user_comments\": comments,\n",
    "        }\n",
    "    )"
   ]
  },
  {
   "cell_type": "code",
   "execution_count": 9,
   "id": "e77c88b8",
   "metadata": {},
   "outputs": [
    {
     "data": {
      "text/plain": [
       "[{'input_file': WindowsPath('extracted_files/00e2f863939301a2a71178652972dad895b27520/input_file.txt'),\n",
       "  'param_file': WindowsPath('extracted_files/00e2f863939301a2a71178652972dad895b27520/param_0.txt'),\n",
       "  'input_type': 'MaxQuant',\n",
       "  'default_cutoff_min_prec': 3,\n",
       "  'user_comments': ''},\n",
       " {'input_file': WindowsPath('extracted_files/0280a06fabdbe84746419d0810deae56e7ab2406/input_file.txt'),\n",
       "  'param_file': WindowsPath('extracted_files/0280a06fabdbe84746419d0810deae56e7ab2406/param_0.txt'),\n",
       "  'input_type': 'MaxQuant',\n",
       "  'default_cutoff_min_prec': 3,\n",
       "  'user_comments': ''},\n",
       " {'input_file': WindowsPath('extracted_files/0c88ca16d30d2911dc78febe087650427365e963/input_file.tsv'),\n",
       "  'param_file': WindowsPath('extracted_files/0c88ca16d30d2911dc78febe087650427365e963/param_0..workflow'),\n",
       "  'input_type': 'FragPipe',\n",
       "  'default_cutoff_min_prec': 3,\n",
       "  'user_comments': ''},\n",
       " {'input_file': WindowsPath('extracted_files/0d33cae7fd689507eb8b31c7ee2adc72adc3befe/input_file.csv'),\n",
       "  'param_file': WindowsPath('extracted_files/0d33cae7fd689507eb8b31c7ee2adc72adc3befe/param_0..yml'),\n",
       "  'input_type': 'WOMBAT',\n",
       "  'default_cutoff_min_prec': 3,\n",
       "  'user_comments': 'Running Proline with lower precursor and fragment tolerance.\\n'},\n",
       " {'input_file': WindowsPath('extracted_files/1438823a0441d7a32c0d1095074cbc4a187ce2fb/input_file.txt'),\n",
       "  'param_file': WindowsPath('extracted_files/1438823a0441d7a32c0d1095074cbc4a187ce2fb/param_0.txt'),\n",
       "  'input_type': 'i2MassChroQ',\n",
       "  'default_cutoff_min_prec': 3,\n",
       "  'user_comments': ''},\n",
       " {'input_file': WindowsPath('extracted_files/1bfa914c771321b285a9ca40d4aa538cb9fdc42e/input_file.txt'),\n",
       "  'param_file': WindowsPath('extracted_files/1bfa914c771321b285a9ca40d4aa538cb9fdc42e/param_0.txt'),\n",
       "  'input_type': 'AlphaPept',\n",
       "  'default_cutoff_min_prec': 3,\n",
       "  'user_comments': 'Fixed mod of N-acetyl (N-term)'},\n",
       " {'input_file': WindowsPath('extracted_files/254d6c77ce656888918e738772ad5f5f6f1543e4/input_file.txt'),\n",
       "  'param_file': WindowsPath('extracted_files/254d6c77ce656888918e738772ad5f5f6f1543e4/param_0.txt'),\n",
       "  'input_type': 'MaxQuant',\n",
       "  'default_cutoff_min_prec': 3,\n",
       "  'user_comments': ''},\n",
       " {'input_file': WindowsPath('extracted_files/2805f6b6d1fabd65448540bee743f2b05c1dda59/input_file.txt'),\n",
       "  'param_file': WindowsPath('extracted_files/2805f6b6d1fabd65448540bee743f2b05c1dda59/param_0.txt'),\n",
       "  'input_type': 'MaxQuant',\n",
       "  'default_cutoff_min_prec': 3,\n",
       "  'user_comments': ''},\n",
       " {'input_file': WindowsPath('extracted_files/2a5ef6191b8098757d490acf76bb9c2af5b89a39/input_file.txt'),\n",
       "  'param_file': WindowsPath('extracted_files/2a5ef6191b8098757d490acf76bb9c2af5b89a39/param_0.txt'),\n",
       "  'input_type': 'MSAngel',\n",
       "  'default_cutoff_min_prec': 3,\n",
       "  'user_comments': 'MS2Rescore'},\n",
       " {'input_file': WindowsPath('extracted_files/36b7b01b380f641722b3b34633bb53d72348eb80/input_file.txt'),\n",
       "  'param_file': WindowsPath('extracted_files/36b7b01b380f641722b3b34633bb53d72348eb80/param_0.txt'),\n",
       "  'input_type': 'MaxQuant',\n",
       "  'default_cutoff_min_prec': 3,\n",
       "  'user_comments': ''},\n",
       " {'input_file': WindowsPath('extracted_files/3bd27fcfd7013d81b578e850035874af14b1cc26/input_file.txt'),\n",
       "  'param_file': WindowsPath('extracted_files/3bd27fcfd7013d81b578e850035874af14b1cc26/param_0.txt'),\n",
       "  'input_type': 'FragPipe',\n",
       "  'default_cutoff_min_prec': 3,\n",
       "  'user_comments': ''},\n",
       " {'input_file': WindowsPath('extracted_files/3cffb02abcf3ce5950dae07bb94985e12d632da9/input_file.txt'),\n",
       "  'param_file': WindowsPath('extracted_files/3cffb02abcf3ce5950dae07bb94985e12d632da9/param_0.txt'),\n",
       "  'input_type': 'i2MassChroQ',\n",
       "  'default_cutoff_min_prec': 3,\n",
       "  'user_comments': 'i2MassChroQ 1.2.0, MassChroQ 3.0'},\n",
       " {'input_file': WindowsPath('extracted_files/4455fe37836eb6ae90f3592f214038c3a2b28b23/input_file.txt'),\n",
       "  'param_file': WindowsPath('extracted_files/4455fe37836eb6ae90f3592f214038c3a2b28b23/param_0.txt'),\n",
       "  'input_type': 'i2MassChroQ',\n",
       "  'default_cutoff_min_prec': 3,\n",
       "  'user_comments': 'NO MBR, MassChroQ 3.0'},\n",
       " {'input_file': WindowsPath('extracted_files/45486140efcbe205e2485f1ef4d668ec3d79fb99/input_file.txt'),\n",
       "  'param_file': WindowsPath('extracted_files/45486140efcbe205e2485f1ef4d668ec3d79fb99/param_0.txt'),\n",
       "  'input_type': 'FragPipe',\n",
       "  'default_cutoff_min_prec': 3,\n",
       "  'user_comments': ''},\n",
       " {'input_file': WindowsPath('extracted_files/4b50085fa82695a0d0b67283f022aff106c0a983/input_file.txt'),\n",
       "  'param_file': WindowsPath('extracted_files/4b50085fa82695a0d0b67283f022aff106c0a983/param_0.txt'),\n",
       "  'input_type': 'i2MassChroQ',\n",
       "  'default_cutoff_min_prec': 3,\n",
       "  'user_comments': 'MassChroQ 3.0'},\n",
       " {'input_file': WindowsPath('extracted_files/4decb9e0d2d9ed9f9be6a9ad5aa066b1dcd1e616/input_file.csv'),\n",
       "  'param_file': WindowsPath('extracted_files/4decb9e0d2d9ed9f9be6a9ad5aa066b1dcd1e616/param_0..yml'),\n",
       "  'input_type': 'WOMBAT',\n",
       "  'default_cutoff_min_prec': 3,\n",
       "  'user_comments': 'Running Compomics with lower precursor and fragment tolerance.\\n'},\n",
       " {'input_file': WindowsPath('extracted_files/58dfec050e16a3ff10999c76d727f23a5cd6c6f9/input_file.csv'),\n",
       "  'param_file': WindowsPath('extracted_files/58dfec050e16a3ff10999c76d727f23a5cd6c6f9/param_0..yml'),\n",
       "  'input_type': 'WOMBAT',\n",
       "  'default_cutoff_min_prec': 3,\n",
       "  'user_comments': 'WOMBAT-P running Compomics workflow'},\n",
       " {'input_file': WindowsPath('extracted_files/5d7209cf235899ad053ed7dc6b839ac67a226b3c/input_file.tsv'),\n",
       "  'param_file': WindowsPath('extracted_files/5d7209cf235899ad053ed7dc6b839ac67a226b3c/param_0..json'),\n",
       "  'input_type': 'Sage',\n",
       "  'default_cutoff_min_prec': 3,\n",
       "  'user_comments': ''},\n",
       " {'input_file': WindowsPath('extracted_files/5dc44925b46df18a2799648b5f975a41ba8bf89f/input_file.txt'),\n",
       "  'param_file': WindowsPath('extracted_files/5dc44925b46df18a2799648b5f975a41ba8bf89f/param_0.txt'),\n",
       "  'input_type': 'MaxQuant',\n",
       "  'default_cutoff_min_prec': 3,\n",
       "  'user_comments': ''},\n",
       " {'input_file': WindowsPath('extracted_files/5dfc20b3a720fb08c3e9ce1a4827e962664f6338/input_file.txt'),\n",
       "  'param_file': WindowsPath('extracted_files/5dfc20b3a720fb08c3e9ce1a4827e962664f6338/param_0.txt'),\n",
       "  'input_type': 'i2MassChroQ',\n",
       "  'default_cutoff_min_prec': 3,\n",
       "  'user_comments': ''},\n",
       " {'input_file': WindowsPath('extracted_files/6279a9e388c08ba4e4d676ae645179691270a93e/input_file.tsv'),\n",
       "  'param_file': WindowsPath('extracted_files/6279a9e388c08ba4e4d676ae645179691270a93e/param_0..workflow'),\n",
       "  'input_type': 'FragPipe',\n",
       "  'default_cutoff_min_prec': 3,\n",
       "  'user_comments': ''},\n",
       " {'input_file': WindowsPath('extracted_files/6636a8c845b94a386a2f8ab8827e47e13dd87761/input_file.csv'),\n",
       "  'param_file': WindowsPath('extracted_files/6636a8c845b94a386a2f8ab8827e47e13dd87761/param_0..yml'),\n",
       "  'input_type': 'WOMBAT',\n",
       "  'default_cutoff_min_prec': 3,\n",
       "  'user_comments': 'WOMBAT-P running MaxQuant workflow'},\n",
       " {'input_file': WindowsPath('extracted_files/6d76320c19398352cfbe0a0333e88d5eb59941c4/input_file.csv'),\n",
       "  'param_file': WindowsPath('extracted_files/6d76320c19398352cfbe0a0333e88d5eb59941c4/param_0..yml'),\n",
       "  'input_type': 'WOMBAT',\n",
       "  'default_cutoff_min_prec': 3,\n",
       "  'user_comments': 'Running MaxQuant with lower precursor and fragment tolerance.\\n'},\n",
       " {'input_file': WindowsPath('extracted_files/7912158e0522a315917e20fe434966ca9a17192e/input_file.txt'),\n",
       "  'param_file': WindowsPath('extracted_files/7912158e0522a315917e20fe434966ca9a17192e/param_0.txt'),\n",
       "  'input_type': 'MaxQuant',\n",
       "  'default_cutoff_min_prec': 3,\n",
       "  'user_comments': ''},\n",
       " {'input_file': WindowsPath('extracted_files/7a1b33450db849167eac7f1ad2f96f25753e5484/input_file.txt'),\n",
       "  'param_file': WindowsPath('extracted_files/7a1b33450db849167eac7f1ad2f96f25753e5484/param_0.txt'),\n",
       "  'input_type': 'MaxQuant',\n",
       "  'default_cutoff_min_prec': 3,\n",
       "  'user_comments': ''},\n",
       " {'input_file': WindowsPath('extracted_files/80b8a3f0c0c9ab8af7246868470026c6fdf277b2/input_file.tsv'),\n",
       "  'param_file': WindowsPath('extracted_files/80b8a3f0c0c9ab8af7246868470026c6fdf277b2/param_0..workflow'),\n",
       "  'input_type': 'FragPipe',\n",
       "  'default_cutoff_min_prec': 3,\n",
       "  'user_comments': ''},\n",
       " {'input_file': WindowsPath('extracted_files/883e7c4e8dcc57f21ff2e5632455e81a913ca9ad/input_file.tsv'),\n",
       "  'param_file': WindowsPath('extracted_files/883e7c4e8dcc57f21ff2e5632455e81a913ca9ad/param_0..workflow'),\n",
       "  'input_type': 'FragPipe',\n",
       "  'default_cutoff_min_prec': 3,\n",
       "  'user_comments': ''},\n",
       " {'input_file': WindowsPath('extracted_files/88dfa519f8ea30521e209ef1c005eee9ac38e555/input_file.txt'),\n",
       "  'param_file': WindowsPath('extracted_files/88dfa519f8ea30521e209ef1c005eee9ac38e555/param_0.txt'),\n",
       "  'input_type': 'FragPipe',\n",
       "  'default_cutoff_min_prec': 3,\n",
       "  'user_comments': ''},\n",
       " {'input_file': WindowsPath('extracted_files/8cbc0bce20eee581ad10326e02a09dbc316c30e1/input_file.txt'),\n",
       "  'param_file': WindowsPath('extracted_files/8cbc0bce20eee581ad10326e02a09dbc316c30e1/param_0.txt'),\n",
       "  'input_type': 'MaxQuant',\n",
       "  'default_cutoff_min_prec': 3,\n",
       "  'user_comments': ''},\n",
       " {'input_file': WindowsPath('extracted_files/8f4fa9a7dd1f44ac4ae7a7e7fb9b9606660f4578/input_file.txt'),\n",
       "  'param_file': WindowsPath('extracted_files/8f4fa9a7dd1f44ac4ae7a7e7fb9b9606660f4578/param_0.txt'),\n",
       "  'input_type': 'MaxQuant',\n",
       "  'default_cutoff_min_prec': 3,\n",
       "  'user_comments': ''},\n",
       " {'input_file': WindowsPath('extracted_files/94c4c0b7d00761d24fdde05276053b087cb99ea1/input_file.txt'),\n",
       "  'param_file': WindowsPath('extracted_files/94c4c0b7d00761d24fdde05276053b087cb99ea1/param_0.txt'),\n",
       "  'input_type': 'AlphaPept',\n",
       "  'default_cutoff_min_prec': 3,\n",
       "  'user_comments': 'Variable mods: oxM, a<^ (Protein N-Term)'},\n",
       " {'input_file': WindowsPath('extracted_files/982740480e3e36433d6691e3588bc4c2acea4430/input_file.txt'),\n",
       "  'param_file': WindowsPath('extracted_files/982740480e3e36433d6691e3588bc4c2acea4430/param_0.txt'),\n",
       "  'input_type': 'i2MassChroQ',\n",
       "  'default_cutoff_min_prec': 3,\n",
       "  'user_comments': 'NO MBR, MassChroQ 3.0'},\n",
       " {'input_file': WindowsPath('extracted_files/a1140a31b414d7b3110ee9b9c0456cc4f1709782/input_file.txt'),\n",
       "  'param_file': WindowsPath('extracted_files/a1140a31b414d7b3110ee9b9c0456cc4f1709782/param_0.txt'),\n",
       "  'input_type': 'MaxQuant',\n",
       "  'default_cutoff_min_prec': 3,\n",
       "  'user_comments': ''},\n",
       " {'input_file': WindowsPath('extracted_files/a3d801fcb75c46b2e76fa7078ae0a004360ebe44/input_file.txt'),\n",
       "  'param_file': WindowsPath('extracted_files/a3d801fcb75c46b2e76fa7078ae0a004360ebe44/param_0.txt'),\n",
       "  'input_type': 'MaxQuant',\n",
       "  'default_cutoff_min_prec': 3,\n",
       "  'user_comments': ''},\n",
       " {'input_file': WindowsPath('extracted_files/bbd079eda4dd3d6a51b37924d83db50022530bb6/input_file.tsv'),\n",
       "  'param_file': WindowsPath('extracted_files/bbd079eda4dd3d6a51b37924d83db50022530bb6/param_0..json'),\n",
       "  'input_type': 'Sage',\n",
       "  'default_cutoff_min_prec': 3,\n",
       "  'user_comments': ''},\n",
       " {'input_file': WindowsPath('extracted_files/c9b6df263cfd4491f6188ac49043fa78d0f8acdb/input_file.csv'),\n",
       "  'param_file': WindowsPath('extracted_files/c9b6df263cfd4491f6188ac49043fa78d0f8acdb/param_0..yml'),\n",
       "  'input_type': 'WOMBAT',\n",
       "  'default_cutoff_min_prec': 3,\n",
       "  'user_comments': 'WOMBAT-P running Proline workflow'},\n",
       " {'input_file': WindowsPath('extracted_files/d8db9ffd261d4e4f5810738c726453dc034b3789/input_file.txt'),\n",
       "  'param_file': WindowsPath('extracted_files/d8db9ffd261d4e4f5810738c726453dc034b3789/param_0.txt'),\n",
       "  'input_type': 'i2MassChroQ',\n",
       "  'default_cutoff_min_prec': 3,\n",
       "  'user_comments': ''},\n",
       " {'input_file': WindowsPath('extracted_files/ddae18c13fb1c8b8ab82231e8c09dc27df896829/input_file.tsv'),\n",
       "  'param_file': WindowsPath('extracted_files/ddae18c13fb1c8b8ab82231e8c09dc27df896829/param_0..json'),\n",
       "  'input_type': 'Sage',\n",
       "  'default_cutoff_min_prec': 3,\n",
       "  'user_comments': ''},\n",
       " {'input_file': WindowsPath('extracted_files/e0ab1339a5354cb27d895ff252383ee4a3365b2e/input_file.txt'),\n",
       "  'param_file': WindowsPath('extracted_files/e0ab1339a5354cb27d895ff252383ee4a3365b2e/param_0.txt'),\n",
       "  'input_type': 'i2MassChroQ',\n",
       "  'default_cutoff_min_prec': 3,\n",
       "  'user_comments': ''},\n",
       " {'input_file': WindowsPath('extracted_files/e683472e109ece5b3e0996d8bef476ed0ad6dbdb/input_file.txt'),\n",
       "  'param_file': WindowsPath('extracted_files/e683472e109ece5b3e0996d8bef476ed0ad6dbdb/param_0.txt'),\n",
       "  'input_type': 'MaxQuant',\n",
       "  'default_cutoff_min_prec': 3,\n",
       "  'user_comments': ''}]"
      ]
     },
     "execution_count": 9,
     "metadata": {},
     "output_type": "execute_result"
    }
   ],
   "source": [
    "submission_files"
   ]
  },
  {
   "cell_type": "code",
   "execution_count": 10,
   "id": "a40c51ba",
   "metadata": {},
   "outputs": [
    {
     "name": "stdout",
     "output_type": "stream",
     "text": [
      "C:\\Users\\robbi\\AppData\\Local\\Temp\\tmpebe1w6ci\n",
      "extracted_files\\00e2f863939301a2a71178652972dad895b27520\\param_0.txt extracted_files\\00e2f863939301a2a71178652972dad895b27520\\input_file.txt MaxQuant 3 \n"
     ]
    },
    {
     "name": "stderr",
     "output_type": "stream",
     "text": [
      "C:\\Users\\robbi\\OneDrive\\Documents\\GitHub\\ProteoBench\\proteobench\\io\\parsing\\parse_ion.py:31: UserWarning: \n",
      "                WARNING: MaxQuant proforma parsing does not take into account fixed modifications\n",
      "\n",
      "                because they are implicit. Only after providing the appropriate parameter file,\n",
      "\n",
      "                fixed modifications will be added correctly.\n",
      "                \n",
      "  warnings.warn(\n",
      "Following Github server redirection from /repos/Proteobot/Results_quant_ion_DDA/branches/master to /repos/Proteobot/Results_quant_ion_DDA/branches/main\n",
      "INFO:github.Requester:Following Github server redirection from /repos/Proteobot/Results_quant_ion_DDA/branches/master to /repos/Proteobot/Results_quant_ion_DDA/branches/main\n"
     ]
    },
    {
     "name": "stdout",
     "output_type": "stream",
     "text": [
      "Submitted: {'input_file': WindowsPath('extracted_files/00e2f863939301a2a71178652972dad895b27520/input_file.txt'), 'param_file': WindowsPath('extracted_files/00e2f863939301a2a71178652972dad895b27520/param_0.txt'), 'input_type': 'MaxQuant', 'default_cutoff_min_prec': 3, 'user_comments': ''}\n",
      "------------------------\n",
      "C:\\Users\\robbi\\AppData\\Local\\Temp\\tmpo9ktw2ni\n",
      "extracted_files\\0280a06fabdbe84746419d0810deae56e7ab2406\\param_0.txt extracted_files\\0280a06fabdbe84746419d0810deae56e7ab2406\\input_file.txt MaxQuant 3 \n"
     ]
    },
    {
     "name": "stderr",
     "output_type": "stream",
     "text": [
      "C:\\Users\\robbi\\OneDrive\\Documents\\GitHub\\ProteoBench\\proteobench\\io\\parsing\\parse_ion.py:31: UserWarning: \n",
      "                WARNING: MaxQuant proforma parsing does not take into account fixed modifications\n",
      "\n",
      "                because they are implicit. Only after providing the appropriate parameter file,\n",
      "\n",
      "                fixed modifications will be added correctly.\n",
      "                \n",
      "  warnings.warn(\n",
      "Following Github server redirection from /repos/Proteobot/Results_quant_ion_DDA/branches/master to /repos/Proteobot/Results_quant_ion_DDA/branches/main\n",
      "INFO:github.Requester:Following Github server redirection from /repos/Proteobot/Results_quant_ion_DDA/branches/master to /repos/Proteobot/Results_quant_ion_DDA/branches/main\n"
     ]
    },
    {
     "name": "stdout",
     "output_type": "stream",
     "text": [
      "Submitted: {'input_file': WindowsPath('extracted_files/0280a06fabdbe84746419d0810deae56e7ab2406/input_file.txt'), 'param_file': WindowsPath('extracted_files/0280a06fabdbe84746419d0810deae56e7ab2406/param_0.txt'), 'input_type': 'MaxQuant', 'default_cutoff_min_prec': 3, 'user_comments': ''}\n",
      "------------------------\n",
      "C:\\Users\\robbi\\AppData\\Local\\Temp\\tmpgpdiym13\n",
      "extracted_files\\0c88ca16d30d2911dc78febe087650427365e963\\param_0..workflow extracted_files\\0c88ca16d30d2911dc78febe087650427365e963\\input_file.tsv FragPipe 3 \n",
      "C:\\Users\\robbi\\AppData\\Local\\Temp\\tmpvel2r80y\n",
      "extracted_files\\0d33cae7fd689507eb8b31c7ee2adc72adc3befe\\param_0..yml extracted_files\\0d33cae7fd689507eb8b31c7ee2adc72adc3befe\\input_file.csv WOMBAT 3 Running Proline with lower precursor and fragment tolerance.\n",
      "\n",
      "Load locally: extracted_files\\0d33cae7fd689507eb8b31c7ee2adc72adc3befe\\param_0..yml\n"
     ]
    },
    {
     "name": "stderr",
     "output_type": "stream",
     "text": [
      "Following Github server redirection from /repos/Proteobot/Results_quant_ion_DDA/branches/master to /repos/Proteobot/Results_quant_ion_DDA/branches/main\n",
      "INFO:github.Requester:Following Github server redirection from /repos/Proteobot/Results_quant_ion_DDA/branches/master to /repos/Proteobot/Results_quant_ion_DDA/branches/main\n"
     ]
    },
    {
     "name": "stdout",
     "output_type": "stream",
     "text": [
      "Submitted: {'input_file': WindowsPath('extracted_files/0d33cae7fd689507eb8b31c7ee2adc72adc3befe/input_file.csv'), 'param_file': WindowsPath('extracted_files/0d33cae7fd689507eb8b31c7ee2adc72adc3befe/param_0..yml'), 'input_type': 'WOMBAT', 'default_cutoff_min_prec': 3, 'user_comments': 'Running Proline with lower precursor and fragment tolerance.\\n'}\n",
      "------------------------\n",
      "C:\\Users\\robbi\\AppData\\Local\\Temp\\tmp9fogrjba\n",
      "extracted_files\\1438823a0441d7a32c0d1095074cbc4a187ce2fb\\param_0.txt extracted_files\\1438823a0441d7a32c0d1095074cbc4a187ce2fb\\input_file.txt i2MassChroQ 3 \n",
      "software_name i2MassChroQ\n",
      "software_version 1.0.16\n",
      "search_engine X! Tandem\n",
      "search_engine_version X! Tandem Alanine (2017.2.1.4)\n",
      "ident_fdr_psm 0.008998493465\n",
      "ident_fdr_peptide 0.01196294798\n",
      "ident_fdr_protein 0.009873268494\n",
      "enable_match_between_runs False\n",
      "precursor_mass_tolerance [-10 ppm, 10 ppm]\n",
      "fragment_mass_tolerance [-0.02 Da, 0.02 Da]\n",
      "enzyme [RK]|{P}\n",
      "allowed_miscleavages 3\n",
      "min_peptide_length None\n",
      "max_peptide_length None\n",
      "fixed_mods 57.02146@C\n",
      "variable_mods 15.99491@M;Acetyl(N-term);Pyrolidone(N-term)\n",
      "max_mods None\n",
      "min_precursor_charge 1\n",
      "max_precursor_charge 4\n"
     ]
    },
    {
     "name": "stderr",
     "output_type": "stream",
     "text": [
      "Following Github server redirection from /repos/Proteobot/Results_quant_ion_DDA/branches/master to /repos/Proteobot/Results_quant_ion_DDA/branches/main\n",
      "INFO:github.Requester:Following Github server redirection from /repos/Proteobot/Results_quant_ion_DDA/branches/master to /repos/Proteobot/Results_quant_ion_DDA/branches/main\n"
     ]
    },
    {
     "name": "stdout",
     "output_type": "stream",
     "text": [
      "Submitted: {'input_file': WindowsPath('extracted_files/1438823a0441d7a32c0d1095074cbc4a187ce2fb/input_file.txt'), 'param_file': WindowsPath('extracted_files/1438823a0441d7a32c0d1095074cbc4a187ce2fb/param_0.txt'), 'input_type': 'i2MassChroQ', 'default_cutoff_min_prec': 3, 'user_comments': ''}\n",
      "------------------------\n",
      "C:\\Users\\robbi\\AppData\\Local\\Temp\\tmpf38h7qkf\n",
      "extracted_files\\1bfa914c771321b285a9ca40d4aa538cb9fdc42e\\param_0.txt extracted_files\\1bfa914c771321b285a9ca40d4aa538cb9fdc42e\\input_file.txt AlphaPept 3 Fixed mod of N-acetyl (N-term)\n",
      "Load locally: extracted_files\\1bfa914c771321b285a9ca40d4aa538cb9fdc42e\\param_0.txt\n"
     ]
    },
    {
     "name": "stderr",
     "output_type": "stream",
     "text": [
      "Following Github server redirection from /repos/Proteobot/Results_quant_ion_DDA/branches/master to /repos/Proteobot/Results_quant_ion_DDA/branches/main\n",
      "INFO:github.Requester:Following Github server redirection from /repos/Proteobot/Results_quant_ion_DDA/branches/master to /repos/Proteobot/Results_quant_ion_DDA/branches/main\n"
     ]
    },
    {
     "name": "stdout",
     "output_type": "stream",
     "text": [
      "Submitted: {'input_file': WindowsPath('extracted_files/1bfa914c771321b285a9ca40d4aa538cb9fdc42e/input_file.txt'), 'param_file': WindowsPath('extracted_files/1bfa914c771321b285a9ca40d4aa538cb9fdc42e/param_0.txt'), 'input_type': 'AlphaPept', 'default_cutoff_min_prec': 3, 'user_comments': 'Fixed mod of N-acetyl (N-term)'}\n",
      "------------------------\n",
      "C:\\Users\\robbi\\AppData\\Local\\Temp\\tmpr9bwmq30\n",
      "extracted_files\\254d6c77ce656888918e738772ad5f5f6f1543e4\\param_0.txt extracted_files\\254d6c77ce656888918e738772ad5f5f6f1543e4\\input_file.txt MaxQuant 3 \n"
     ]
    },
    {
     "name": "stderr",
     "output_type": "stream",
     "text": [
      "C:\\Users\\robbi\\OneDrive\\Documents\\GitHub\\ProteoBench\\proteobench\\io\\parsing\\parse_ion.py:31: UserWarning: \n",
      "                WARNING: MaxQuant proforma parsing does not take into account fixed modifications\n",
      "\n",
      "                because they are implicit. Only after providing the appropriate parameter file,\n",
      "\n",
      "                fixed modifications will be added correctly.\n",
      "                \n",
      "  warnings.warn(\n",
      "Following Github server redirection from /repos/Proteobot/Results_quant_ion_DDA/branches/master to /repos/Proteobot/Results_quant_ion_DDA/branches/main\n",
      "INFO:github.Requester:Following Github server redirection from /repos/Proteobot/Results_quant_ion_DDA/branches/master to /repos/Proteobot/Results_quant_ion_DDA/branches/main\n"
     ]
    },
    {
     "name": "stdout",
     "output_type": "stream",
     "text": [
      "Submitted: {'input_file': WindowsPath('extracted_files/254d6c77ce656888918e738772ad5f5f6f1543e4/input_file.txt'), 'param_file': WindowsPath('extracted_files/254d6c77ce656888918e738772ad5f5f6f1543e4/param_0.txt'), 'input_type': 'MaxQuant', 'default_cutoff_min_prec': 3, 'user_comments': ''}\n",
      "------------------------\n",
      "C:\\Users\\robbi\\AppData\\Local\\Temp\\tmpnaeu08jn\n",
      "extracted_files\\2805f6b6d1fabd65448540bee743f2b05c1dda59\\param_0.txt extracted_files\\2805f6b6d1fabd65448540bee743f2b05c1dda59\\input_file.txt MaxQuant 3 \n"
     ]
    },
    {
     "name": "stderr",
     "output_type": "stream",
     "text": [
      "C:\\Users\\robbi\\OneDrive\\Documents\\GitHub\\ProteoBench\\proteobench\\io\\parsing\\parse_ion.py:31: UserWarning: \n",
      "                WARNING: MaxQuant proforma parsing does not take into account fixed modifications\n",
      "\n",
      "                because they are implicit. Only after providing the appropriate parameter file,\n",
      "\n",
      "                fixed modifications will be added correctly.\n",
      "                \n",
      "  warnings.warn(\n",
      "Following Github server redirection from /repos/Proteobot/Results_quant_ion_DDA/branches/master to /repos/Proteobot/Results_quant_ion_DDA/branches/main\n",
      "INFO:github.Requester:Following Github server redirection from /repos/Proteobot/Results_quant_ion_DDA/branches/master to /repos/Proteobot/Results_quant_ion_DDA/branches/main\n"
     ]
    },
    {
     "name": "stdout",
     "output_type": "stream",
     "text": [
      "Submitted: {'input_file': WindowsPath('extracted_files/2805f6b6d1fabd65448540bee743f2b05c1dda59/input_file.txt'), 'param_file': WindowsPath('extracted_files/2805f6b6d1fabd65448540bee743f2b05c1dda59/param_0.txt'), 'input_type': 'MaxQuant', 'default_cutoff_min_prec': 3, 'user_comments': ''}\n",
      "------------------------\n",
      "C:\\Users\\robbi\\AppData\\Local\\Temp\\tmpgy4pi281\n",
      "extracted_files\\2a5ef6191b8098757d490acf76bb9c2af5b89a39\\param_0.txt extracted_files\\2a5ef6191b8098757d490acf76bb9c2af5b89a39\\input_file.txt MSAngel 3 MS2Rescore\n"
     ]
    },
    {
     "name": "stderr",
     "output_type": "stream",
     "text": [
      "c:\\Users\\robbi\\anaconda3\\envs\\proteobench_py311\\Lib\\site-packages\\openpyxl\\styles\\stylesheet.py:226: UserWarning: Workbook contains no default style, apply openpyxl's default\n",
      "  warn(\"Workbook contains no default style, apply openpyxl's default\")\n"
     ]
    },
    {
     "name": "stdout",
     "output_type": "stream",
     "text": [
      "10.0\n"
     ]
    },
    {
     "name": "stderr",
     "output_type": "stream",
     "text": [
      "Following Github server redirection from /repos/Proteobot/Results_quant_ion_DDA/branches/master to /repos/Proteobot/Results_quant_ion_DDA/branches/main\n",
      "INFO:github.Requester:Following Github server redirection from /repos/Proteobot/Results_quant_ion_DDA/branches/master to /repos/Proteobot/Results_quant_ion_DDA/branches/main\n"
     ]
    },
    {
     "name": "stdout",
     "output_type": "stream",
     "text": [
      "Submitted: {'input_file': WindowsPath('extracted_files/2a5ef6191b8098757d490acf76bb9c2af5b89a39/input_file.txt'), 'param_file': WindowsPath('extracted_files/2a5ef6191b8098757d490acf76bb9c2af5b89a39/param_0.txt'), 'input_type': 'MSAngel', 'default_cutoff_min_prec': 3, 'user_comments': 'MS2Rescore'}\n",
      "------------------------\n",
      "C:\\Users\\robbi\\AppData\\Local\\Temp\\tmpmt8cuow1\n",
      "extracted_files\\36b7b01b380f641722b3b34633bb53d72348eb80\\param_0.txt extracted_files\\36b7b01b380f641722b3b34633bb53d72348eb80\\input_file.txt MaxQuant 3 \n"
     ]
    },
    {
     "name": "stderr",
     "output_type": "stream",
     "text": [
      "C:\\Users\\robbi\\OneDrive\\Documents\\GitHub\\ProteoBench\\proteobench\\io\\parsing\\parse_ion.py:31: UserWarning: \n",
      "                WARNING: MaxQuant proforma parsing does not take into account fixed modifications\n",
      "\n",
      "                because they are implicit. Only after providing the appropriate parameter file,\n",
      "\n",
      "                fixed modifications will be added correctly.\n",
      "                \n",
      "  warnings.warn(\n",
      "Following Github server redirection from /repos/Proteobot/Results_quant_ion_DDA/branches/master to /repos/Proteobot/Results_quant_ion_DDA/branches/main\n",
      "INFO:github.Requester:Following Github server redirection from /repos/Proteobot/Results_quant_ion_DDA/branches/master to /repos/Proteobot/Results_quant_ion_DDA/branches/main\n"
     ]
    },
    {
     "name": "stdout",
     "output_type": "stream",
     "text": [
      "Submitted: {'input_file': WindowsPath('extracted_files/36b7b01b380f641722b3b34633bb53d72348eb80/input_file.txt'), 'param_file': WindowsPath('extracted_files/36b7b01b380f641722b3b34633bb53d72348eb80/param_0.txt'), 'input_type': 'MaxQuant', 'default_cutoff_min_prec': 3, 'user_comments': ''}\n",
      "------------------------\n",
      "C:\\Users\\robbi\\AppData\\Local\\Temp\\tmpznzvfoqc\n",
      "extracted_files\\3bd27fcfd7013d81b578e850035874af14b1cc26\\param_0.txt extracted_files\\3bd27fcfd7013d81b578e850035874af14b1cc26\\input_file.txt FragPipe 3 \n",
      "C:\\Users\\robbi\\AppData\\Local\\Temp\\tmpgii9z46n\n",
      "extracted_files\\3cffb02abcf3ce5950dae07bb94985e12d632da9\\param_0.txt extracted_files\\3cffb02abcf3ce5950dae07bb94985e12d632da9\\input_file.txt i2MassChroQ 3 i2MassChroQ 1.2.0, MassChroQ 3.0\n",
      "software_name i2MassChroQ\n",
      "software_version 1.2.0\n",
      "search_engine Sage\n",
      "search_engine_version 0.15.0-alpha\n",
      "ident_fdr_psm 0.0099991764759\n",
      "ident_fdr_peptide 0.0141726898633\n",
      "ident_fdr_protein 0.00948714423209\n",
      "enable_match_between_runs True\n",
      "precursor_mass_tolerance -10 10 ppm\n",
      "fragment_mass_tolerance -0.02 0.02 da\n",
      "enzyme KR,P,T\n",
      "allowed_miscleavages 2\n",
      "min_peptide_length 5\n",
      "max_peptide_length 50\n",
      "fixed_mods C:57.021465\n",
      "variable_mods M:15.994915 [:42.0106 ^E:-18.010565 ^Q:-17.026548\n",
      "max_mods 2\n",
      "min_precursor_charge 2\n",
      "max_precursor_charge 4\n"
     ]
    },
    {
     "name": "stderr",
     "output_type": "stream",
     "text": [
      "Following Github server redirection from /repos/Proteobot/Results_quant_ion_DDA/branches/master to /repos/Proteobot/Results_quant_ion_DDA/branches/main\n",
      "INFO:github.Requester:Following Github server redirection from /repos/Proteobot/Results_quant_ion_DDA/branches/master to /repos/Proteobot/Results_quant_ion_DDA/branches/main\n"
     ]
    },
    {
     "name": "stdout",
     "output_type": "stream",
     "text": [
      "Submitted: {'input_file': WindowsPath('extracted_files/3cffb02abcf3ce5950dae07bb94985e12d632da9/input_file.txt'), 'param_file': WindowsPath('extracted_files/3cffb02abcf3ce5950dae07bb94985e12d632da9/param_0.txt'), 'input_type': 'i2MassChroQ', 'default_cutoff_min_prec': 3, 'user_comments': 'i2MassChroQ 1.2.0, MassChroQ 3.0'}\n",
      "------------------------\n",
      "C:\\Users\\robbi\\AppData\\Local\\Temp\\tmp_5xqwqw1\n",
      "extracted_files\\4455fe37836eb6ae90f3592f214038c3a2b28b23\\param_0.txt extracted_files\\4455fe37836eb6ae90f3592f214038c3a2b28b23\\input_file.txt i2MassChroQ 3 NO MBR, MassChroQ 3.0\n",
      "software_name i2MassChroQ\n",
      "software_version 1.2.0\n",
      "search_engine Sage\n",
      "search_engine_version 0.15.0-alpha\n",
      "ident_fdr_psm 0.0099991764759\n",
      "ident_fdr_peptide 0.0141726898633\n",
      "ident_fdr_protein 0.00948714423209\n",
      "enable_match_between_runs False\n",
      "precursor_mass_tolerance -10 10 ppm\n",
      "fragment_mass_tolerance -0.02 0.02 da\n",
      "enzyme KR,P,T\n",
      "allowed_miscleavages 2\n",
      "min_peptide_length 5\n",
      "max_peptide_length 50\n",
      "fixed_mods C:57.021465\n",
      "variable_mods M:15.994915 [:42.0106 ^E:-18.010565 ^Q:-17.026548\n",
      "max_mods 2\n",
      "min_precursor_charge 2\n",
      "max_precursor_charge 4\n"
     ]
    },
    {
     "name": "stderr",
     "output_type": "stream",
     "text": [
      "Following Github server redirection from /repos/Proteobot/Results_quant_ion_DDA/branches/master to /repos/Proteobot/Results_quant_ion_DDA/branches/main\n",
      "INFO:github.Requester:Following Github server redirection from /repos/Proteobot/Results_quant_ion_DDA/branches/master to /repos/Proteobot/Results_quant_ion_DDA/branches/main\n"
     ]
    },
    {
     "name": "stdout",
     "output_type": "stream",
     "text": [
      "Submitted: {'input_file': WindowsPath('extracted_files/4455fe37836eb6ae90f3592f214038c3a2b28b23/input_file.txt'), 'param_file': WindowsPath('extracted_files/4455fe37836eb6ae90f3592f214038c3a2b28b23/param_0.txt'), 'input_type': 'i2MassChroQ', 'default_cutoff_min_prec': 3, 'user_comments': 'NO MBR, MassChroQ 3.0'}\n",
      "------------------------\n",
      "C:\\Users\\robbi\\AppData\\Local\\Temp\\tmp317iay3j\n",
      "extracted_files\\45486140efcbe205e2485f1ef4d668ec3d79fb99\\param_0.txt extracted_files\\45486140efcbe205e2485f1ef4d668ec3d79fb99\\input_file.txt FragPipe 3 \n",
      "C:\\Users\\robbi\\AppData\\Local\\Temp\\tmpfi6k_rak\n",
      "extracted_files\\4b50085fa82695a0d0b67283f022aff106c0a983\\param_0.txt extracted_files\\4b50085fa82695a0d0b67283f022aff106c0a983\\input_file.txt i2MassChroQ 3 MassChroQ 3.0\n",
      "software_name i2MassChroQ\n",
      "software_version 1.2.1\n",
      "search_engine X!Tandem\n",
      "search_engine_version nan\n",
      "ident_fdr_psm 0.00999799237101\n",
      "ident_fdr_peptide 0.0133552379471\n",
      "ident_fdr_protein 0.00985995998857\n",
      "enable_match_between_runs True\n",
      "precursor_mass_tolerance [-10 ppm, 10 ppm]\n",
      "fragment_mass_tolerance [-0.02 Da, 0.02 Da]\n",
      "enzyme [RK]|{P}\n",
      "allowed_miscleavages 3\n",
      "min_peptide_length None\n",
      "max_peptide_length None\n",
      "fixed_mods 57.02146@C\n",
      "variable_mods 15.99491@M;Acetyl(N-term);Pyrolidone(N-term)\n",
      "max_mods None\n",
      "min_precursor_charge 1\n",
      "max_precursor_charge 4\n"
     ]
    },
    {
     "name": "stderr",
     "output_type": "stream",
     "text": [
      "Following Github server redirection from /repos/Proteobot/Results_quant_ion_DDA/branches/master to /repos/Proteobot/Results_quant_ion_DDA/branches/main\n",
      "INFO:github.Requester:Following Github server redirection from /repos/Proteobot/Results_quant_ion_DDA/branches/master to /repos/Proteobot/Results_quant_ion_DDA/branches/main\n"
     ]
    },
    {
     "name": "stdout",
     "output_type": "stream",
     "text": [
      "Submitted: {'input_file': WindowsPath('extracted_files/4b50085fa82695a0d0b67283f022aff106c0a983/input_file.txt'), 'param_file': WindowsPath('extracted_files/4b50085fa82695a0d0b67283f022aff106c0a983/param_0.txt'), 'input_type': 'i2MassChroQ', 'default_cutoff_min_prec': 3, 'user_comments': 'MassChroQ 3.0'}\n",
      "------------------------\n",
      "C:\\Users\\robbi\\AppData\\Local\\Temp\\tmp5vn0qtoj\n",
      "extracted_files\\4decb9e0d2d9ed9f9be6a9ad5aa066b1dcd1e616\\param_0..yml extracted_files\\4decb9e0d2d9ed9f9be6a9ad5aa066b1dcd1e616\\input_file.csv WOMBAT 3 Running Compomics with lower precursor and fragment tolerance.\n",
      "\n",
      "Load locally: extracted_files\\4decb9e0d2d9ed9f9be6a9ad5aa066b1dcd1e616\\param_0..yml\n"
     ]
    },
    {
     "name": "stderr",
     "output_type": "stream",
     "text": [
      "Following Github server redirection from /repos/Proteobot/Results_quant_ion_DDA/branches/master to /repos/Proteobot/Results_quant_ion_DDA/branches/main\n",
      "INFO:github.Requester:Following Github server redirection from /repos/Proteobot/Results_quant_ion_DDA/branches/master to /repos/Proteobot/Results_quant_ion_DDA/branches/main\n"
     ]
    },
    {
     "name": "stdout",
     "output_type": "stream",
     "text": [
      "Submitted: {'input_file': WindowsPath('extracted_files/4decb9e0d2d9ed9f9be6a9ad5aa066b1dcd1e616/input_file.csv'), 'param_file': WindowsPath('extracted_files/4decb9e0d2d9ed9f9be6a9ad5aa066b1dcd1e616/param_0..yml'), 'input_type': 'WOMBAT', 'default_cutoff_min_prec': 3, 'user_comments': 'Running Compomics with lower precursor and fragment tolerance.\\n'}\n",
      "------------------------\n",
      "C:\\Users\\robbi\\AppData\\Local\\Temp\\tmp6m9mm8xj\n",
      "extracted_files\\58dfec050e16a3ff10999c76d727f23a5cd6c6f9\\param_0..yml extracted_files\\58dfec050e16a3ff10999c76d727f23a5cd6c6f9\\input_file.csv WOMBAT 3 WOMBAT-P running Compomics workflow\n",
      "Load locally: extracted_files\\58dfec050e16a3ff10999c76d727f23a5cd6c6f9\\param_0..yml\n"
     ]
    },
    {
     "name": "stderr",
     "output_type": "stream",
     "text": [
      "Following Github server redirection from /repos/Proteobot/Results_quant_ion_DDA/branches/master to /repos/Proteobot/Results_quant_ion_DDA/branches/main\n",
      "INFO:github.Requester:Following Github server redirection from /repos/Proteobot/Results_quant_ion_DDA/branches/master to /repos/Proteobot/Results_quant_ion_DDA/branches/main\n"
     ]
    },
    {
     "name": "stdout",
     "output_type": "stream",
     "text": [
      "Submitted: {'input_file': WindowsPath('extracted_files/58dfec050e16a3ff10999c76d727f23a5cd6c6f9/input_file.csv'), 'param_file': WindowsPath('extracted_files/58dfec050e16a3ff10999c76d727f23a5cd6c6f9/param_0..yml'), 'input_type': 'WOMBAT', 'default_cutoff_min_prec': 3, 'user_comments': 'WOMBAT-P running Compomics workflow'}\n",
      "------------------------\n",
      "C:\\Users\\robbi\\AppData\\Local\\Temp\\tmpne4_kzfd\n",
      "extracted_files\\5d7209cf235899ad053ed7dc6b839ac67a226b3c\\param_0..json extracted_files\\5d7209cf235899ad053ed7dc6b839ac67a226b3c\\input_file.tsv Sage 3 \n"
     ]
    },
    {
     "name": "stderr",
     "output_type": "stream",
     "text": [
      "Following Github server redirection from /repos/Proteobot/Results_quant_ion_DDA/branches/master to /repos/Proteobot/Results_quant_ion_DDA/branches/main\n",
      "INFO:github.Requester:Following Github server redirection from /repos/Proteobot/Results_quant_ion_DDA/branches/master to /repos/Proteobot/Results_quant_ion_DDA/branches/main\n"
     ]
    },
    {
     "name": "stdout",
     "output_type": "stream",
     "text": [
      "Submitted: {'input_file': WindowsPath('extracted_files/5d7209cf235899ad053ed7dc6b839ac67a226b3c/input_file.tsv'), 'param_file': WindowsPath('extracted_files/5d7209cf235899ad053ed7dc6b839ac67a226b3c/param_0..json'), 'input_type': 'Sage', 'default_cutoff_min_prec': 3, 'user_comments': ''}\n",
      "------------------------\n",
      "C:\\Users\\robbi\\AppData\\Local\\Temp\\tmpzs694zut\n",
      "extracted_files\\5dc44925b46df18a2799648b5f975a41ba8bf89f\\param_0.txt extracted_files\\5dc44925b46df18a2799648b5f975a41ba8bf89f\\input_file.txt MaxQuant 3 \n"
     ]
    },
    {
     "name": "stderr",
     "output_type": "stream",
     "text": [
      "C:\\Users\\robbi\\OneDrive\\Documents\\GitHub\\ProteoBench\\proteobench\\io\\parsing\\parse_ion.py:31: UserWarning: \n",
      "                WARNING: MaxQuant proforma parsing does not take into account fixed modifications\n",
      "\n",
      "                because they are implicit. Only after providing the appropriate parameter file,\n",
      "\n",
      "                fixed modifications will be added correctly.\n",
      "                \n",
      "  warnings.warn(\n",
      "Following Github server redirection from /repos/Proteobot/Results_quant_ion_DDA/branches/master to /repos/Proteobot/Results_quant_ion_DDA/branches/main\n",
      "INFO:github.Requester:Following Github server redirection from /repos/Proteobot/Results_quant_ion_DDA/branches/master to /repos/Proteobot/Results_quant_ion_DDA/branches/main\n"
     ]
    },
    {
     "name": "stdout",
     "output_type": "stream",
     "text": [
      "Submitted: {'input_file': WindowsPath('extracted_files/5dc44925b46df18a2799648b5f975a41ba8bf89f/input_file.txt'), 'param_file': WindowsPath('extracted_files/5dc44925b46df18a2799648b5f975a41ba8bf89f/param_0.txt'), 'input_type': 'MaxQuant', 'default_cutoff_min_prec': 3, 'user_comments': ''}\n",
      "------------------------\n",
      "C:\\Users\\robbi\\AppData\\Local\\Temp\\tmp9coyu1ph\n",
      "extracted_files\\5dfc20b3a720fb08c3e9ce1a4827e962664f6338\\param_0.txt extracted_files\\5dfc20b3a720fb08c3e9ce1a4827e962664f6338\\input_file.txt i2MassChroQ 3 \n",
      "software_name i2MassChroQ\n",
      "software_version 1.0.18\n",
      "search_engine X!Tandem\n",
      "search_engine_version nan\n",
      "ident_fdr_psm 0.009952004517\n",
      "ident_fdr_peptide 0.01356727105\n",
      "ident_fdr_protein 0.008595988539\n",
      "enable_match_between_runs True\n",
      "precursor_mass_tolerance [-10 ppm, 10 ppm]\n",
      "fragment_mass_tolerance [-0.02 Da, 0.02 Da]\n",
      "enzyme [RK]|{P}\n",
      "allowed_miscleavages 2\n",
      "min_peptide_length None\n",
      "max_peptide_length None\n",
      "fixed_mods 57.02146@C\n",
      "variable_mods 15.99491@M;Acetyl(N-term);Pyrolidone(N-term)\n",
      "max_mods None\n",
      "min_precursor_charge 1\n",
      "max_precursor_charge 4\n"
     ]
    },
    {
     "name": "stderr",
     "output_type": "stream",
     "text": [
      "Following Github server redirection from /repos/Proteobot/Results_quant_ion_DDA/branches/master to /repos/Proteobot/Results_quant_ion_DDA/branches/main\n",
      "INFO:github.Requester:Following Github server redirection from /repos/Proteobot/Results_quant_ion_DDA/branches/master to /repos/Proteobot/Results_quant_ion_DDA/branches/main\n"
     ]
    },
    {
     "name": "stdout",
     "output_type": "stream",
     "text": [
      "Submitted: {'input_file': WindowsPath('extracted_files/5dfc20b3a720fb08c3e9ce1a4827e962664f6338/input_file.txt'), 'param_file': WindowsPath('extracted_files/5dfc20b3a720fb08c3e9ce1a4827e962664f6338/param_0.txt'), 'input_type': 'i2MassChroQ', 'default_cutoff_min_prec': 3, 'user_comments': ''}\n",
      "------------------------\n",
      "C:\\Users\\robbi\\AppData\\Local\\Temp\\tmp90pwbeg2\n",
      "extracted_files\\6279a9e388c08ba4e4d676ae645179691270a93e\\param_0..workflow extracted_files\\6279a9e388c08ba4e4d676ae645179691270a93e\\input_file.tsv FragPipe 3 \n",
      "C:\\Users\\robbi\\AppData\\Local\\Temp\\tmpkwy529qt\n",
      "extracted_files\\6636a8c845b94a386a2f8ab8827e47e13dd87761\\param_0..yml extracted_files\\6636a8c845b94a386a2f8ab8827e47e13dd87761\\input_file.csv WOMBAT 3 WOMBAT-P running MaxQuant workflow\n",
      "Load locally: extracted_files\\6636a8c845b94a386a2f8ab8827e47e13dd87761\\param_0..yml\n"
     ]
    },
    {
     "name": "stderr",
     "output_type": "stream",
     "text": [
      "Following Github server redirection from /repos/Proteobot/Results_quant_ion_DDA/branches/master to /repos/Proteobot/Results_quant_ion_DDA/branches/main\n",
      "INFO:github.Requester:Following Github server redirection from /repos/Proteobot/Results_quant_ion_DDA/branches/master to /repos/Proteobot/Results_quant_ion_DDA/branches/main\n"
     ]
    },
    {
     "name": "stdout",
     "output_type": "stream",
     "text": [
      "Submitted: {'input_file': WindowsPath('extracted_files/6636a8c845b94a386a2f8ab8827e47e13dd87761/input_file.csv'), 'param_file': WindowsPath('extracted_files/6636a8c845b94a386a2f8ab8827e47e13dd87761/param_0..yml'), 'input_type': 'WOMBAT', 'default_cutoff_min_prec': 3, 'user_comments': 'WOMBAT-P running MaxQuant workflow'}\n",
      "------------------------\n",
      "C:\\Users\\robbi\\AppData\\Local\\Temp\\tmp8jpd9pob\n",
      "extracted_files\\6d76320c19398352cfbe0a0333e88d5eb59941c4\\param_0..yml extracted_files\\6d76320c19398352cfbe0a0333e88d5eb59941c4\\input_file.csv WOMBAT 3 Running MaxQuant with lower precursor and fragment tolerance.\n",
      "\n",
      "Load locally: extracted_files\\6d76320c19398352cfbe0a0333e88d5eb59941c4\\param_0..yml\n"
     ]
    },
    {
     "name": "stderr",
     "output_type": "stream",
     "text": [
      "Following Github server redirection from /repos/Proteobot/Results_quant_ion_DDA/branches/master to /repos/Proteobot/Results_quant_ion_DDA/branches/main\n",
      "INFO:github.Requester:Following Github server redirection from /repos/Proteobot/Results_quant_ion_DDA/branches/master to /repos/Proteobot/Results_quant_ion_DDA/branches/main\n"
     ]
    },
    {
     "name": "stdout",
     "output_type": "stream",
     "text": [
      "Submitted: {'input_file': WindowsPath('extracted_files/6d76320c19398352cfbe0a0333e88d5eb59941c4/input_file.csv'), 'param_file': WindowsPath('extracted_files/6d76320c19398352cfbe0a0333e88d5eb59941c4/param_0..yml'), 'input_type': 'WOMBAT', 'default_cutoff_min_prec': 3, 'user_comments': 'Running MaxQuant with lower precursor and fragment tolerance.\\n'}\n",
      "------------------------\n",
      "C:\\Users\\robbi\\AppData\\Local\\Temp\\tmph4krzz43\n",
      "extracted_files\\7912158e0522a315917e20fe434966ca9a17192e\\param_0.txt extracted_files\\7912158e0522a315917e20fe434966ca9a17192e\\input_file.txt MaxQuant 3 \n"
     ]
    },
    {
     "name": "stderr",
     "output_type": "stream",
     "text": [
      "C:\\Users\\robbi\\OneDrive\\Documents\\GitHub\\ProteoBench\\proteobench\\io\\parsing\\parse_ion.py:31: UserWarning: \n",
      "                WARNING: MaxQuant proforma parsing does not take into account fixed modifications\n",
      "\n",
      "                because they are implicit. Only after providing the appropriate parameter file,\n",
      "\n",
      "                fixed modifications will be added correctly.\n",
      "                \n",
      "  warnings.warn(\n",
      "Following Github server redirection from /repos/Proteobot/Results_quant_ion_DDA/branches/master to /repos/Proteobot/Results_quant_ion_DDA/branches/main\n",
      "INFO:github.Requester:Following Github server redirection from /repos/Proteobot/Results_quant_ion_DDA/branches/master to /repos/Proteobot/Results_quant_ion_DDA/branches/main\n"
     ]
    },
    {
     "name": "stdout",
     "output_type": "stream",
     "text": [
      "Submitted: {'input_file': WindowsPath('extracted_files/7912158e0522a315917e20fe434966ca9a17192e/input_file.txt'), 'param_file': WindowsPath('extracted_files/7912158e0522a315917e20fe434966ca9a17192e/param_0.txt'), 'input_type': 'MaxQuant', 'default_cutoff_min_prec': 3, 'user_comments': ''}\n",
      "------------------------\n",
      "C:\\Users\\robbi\\AppData\\Local\\Temp\\tmpoa3121wy\n",
      "extracted_files\\7a1b33450db849167eac7f1ad2f96f25753e5484\\param_0.txt extracted_files\\7a1b33450db849167eac7f1ad2f96f25753e5484\\input_file.txt MaxQuant 3 \n"
     ]
    },
    {
     "name": "stderr",
     "output_type": "stream",
     "text": [
      "C:\\Users\\robbi\\OneDrive\\Documents\\GitHub\\ProteoBench\\proteobench\\io\\parsing\\parse_ion.py:31: UserWarning: \n",
      "                WARNING: MaxQuant proforma parsing does not take into account fixed modifications\n",
      "\n",
      "                because they are implicit. Only after providing the appropriate parameter file,\n",
      "\n",
      "                fixed modifications will be added correctly.\n",
      "                \n",
      "  warnings.warn(\n",
      "Following Github server redirection from /repos/Proteobot/Results_quant_ion_DDA/branches/master to /repos/Proteobot/Results_quant_ion_DDA/branches/main\n",
      "INFO:github.Requester:Following Github server redirection from /repos/Proteobot/Results_quant_ion_DDA/branches/master to /repos/Proteobot/Results_quant_ion_DDA/branches/main\n"
     ]
    },
    {
     "name": "stdout",
     "output_type": "stream",
     "text": [
      "Submitted: {'input_file': WindowsPath('extracted_files/7a1b33450db849167eac7f1ad2f96f25753e5484/input_file.txt'), 'param_file': WindowsPath('extracted_files/7a1b33450db849167eac7f1ad2f96f25753e5484/param_0.txt'), 'input_type': 'MaxQuant', 'default_cutoff_min_prec': 3, 'user_comments': ''}\n",
      "------------------------\n",
      "C:\\Users\\robbi\\AppData\\Local\\Temp\\tmpl6ikgp9_\n",
      "extracted_files\\80b8a3f0c0c9ab8af7246868470026c6fdf277b2\\param_0..workflow extracted_files\\80b8a3f0c0c9ab8af7246868470026c6fdf277b2\\input_file.tsv FragPipe 3 \n",
      "C:\\Users\\robbi\\AppData\\Local\\Temp\\tmpwio8u0fk\n",
      "extracted_files\\883e7c4e8dcc57f21ff2e5632455e81a913ca9ad\\param_0..workflow extracted_files\\883e7c4e8dcc57f21ff2e5632455e81a913ca9ad\\input_file.tsv FragPipe 3 \n",
      "C:\\Users\\robbi\\AppData\\Local\\Temp\\tmp7n34sr2m\n",
      "extracted_files\\88dfa519f8ea30521e209ef1c005eee9ac38e555\\param_0.txt extracted_files\\88dfa519f8ea30521e209ef1c005eee9ac38e555\\input_file.txt FragPipe 3 \n",
      "C:\\Users\\robbi\\AppData\\Local\\Temp\\tmpymtnat7w\n",
      "extracted_files\\8cbc0bce20eee581ad10326e02a09dbc316c30e1\\param_0.txt extracted_files\\8cbc0bce20eee581ad10326e02a09dbc316c30e1\\input_file.txt MaxQuant 3 \n"
     ]
    },
    {
     "name": "stderr",
     "output_type": "stream",
     "text": [
      "C:\\Users\\robbi\\OneDrive\\Documents\\GitHub\\ProteoBench\\proteobench\\io\\parsing\\parse_ion.py:31: UserWarning: \n",
      "                WARNING: MaxQuant proforma parsing does not take into account fixed modifications\n",
      "\n",
      "                because they are implicit. Only after providing the appropriate parameter file,\n",
      "\n",
      "                fixed modifications will be added correctly.\n",
      "                \n",
      "  warnings.warn(\n",
      "Following Github server redirection from /repos/Proteobot/Results_quant_ion_DDA/branches/master to /repos/Proteobot/Results_quant_ion_DDA/branches/main\n",
      "INFO:github.Requester:Following Github server redirection from /repos/Proteobot/Results_quant_ion_DDA/branches/master to /repos/Proteobot/Results_quant_ion_DDA/branches/main\n"
     ]
    },
    {
     "name": "stdout",
     "output_type": "stream",
     "text": [
      "Submitted: {'input_file': WindowsPath('extracted_files/8cbc0bce20eee581ad10326e02a09dbc316c30e1/input_file.txt'), 'param_file': WindowsPath('extracted_files/8cbc0bce20eee581ad10326e02a09dbc316c30e1/param_0.txt'), 'input_type': 'MaxQuant', 'default_cutoff_min_prec': 3, 'user_comments': ''}\n",
      "------------------------\n",
      "C:\\Users\\robbi\\AppData\\Local\\Temp\\tmpqcvpcrar\n",
      "extracted_files\\8f4fa9a7dd1f44ac4ae7a7e7fb9b9606660f4578\\param_0.txt extracted_files\\8f4fa9a7dd1f44ac4ae7a7e7fb9b9606660f4578\\input_file.txt MaxQuant 3 \n"
     ]
    },
    {
     "name": "stderr",
     "output_type": "stream",
     "text": [
      "C:\\Users\\robbi\\OneDrive\\Documents\\GitHub\\ProteoBench\\proteobench\\io\\parsing\\parse_ion.py:31: UserWarning: \n",
      "                WARNING: MaxQuant proforma parsing does not take into account fixed modifications\n",
      "\n",
      "                because they are implicit. Only after providing the appropriate parameter file,\n",
      "\n",
      "                fixed modifications will be added correctly.\n",
      "                \n",
      "  warnings.warn(\n",
      "Following Github server redirection from /repos/Proteobot/Results_quant_ion_DDA/branches/master to /repos/Proteobot/Results_quant_ion_DDA/branches/main\n",
      "INFO:github.Requester:Following Github server redirection from /repos/Proteobot/Results_quant_ion_DDA/branches/master to /repos/Proteobot/Results_quant_ion_DDA/branches/main\n"
     ]
    },
    {
     "name": "stdout",
     "output_type": "stream",
     "text": [
      "Submitted: {'input_file': WindowsPath('extracted_files/8f4fa9a7dd1f44ac4ae7a7e7fb9b9606660f4578/input_file.txt'), 'param_file': WindowsPath('extracted_files/8f4fa9a7dd1f44ac4ae7a7e7fb9b9606660f4578/param_0.txt'), 'input_type': 'MaxQuant', 'default_cutoff_min_prec': 3, 'user_comments': ''}\n",
      "------------------------\n",
      "C:\\Users\\robbi\\AppData\\Local\\Temp\\tmphtqx8yfw\n",
      "extracted_files\\94c4c0b7d00761d24fdde05276053b087cb99ea1\\param_0.txt extracted_files\\94c4c0b7d00761d24fdde05276053b087cb99ea1\\input_file.txt AlphaPept 3 Variable mods: oxM, a<^ (Protein N-Term)\n",
      "Load locally: extracted_files\\94c4c0b7d00761d24fdde05276053b087cb99ea1\\param_0.txt\n"
     ]
    },
    {
     "name": "stderr",
     "output_type": "stream",
     "text": [
      "Following Github server redirection from /repos/Proteobot/Results_quant_ion_DDA/branches/master to /repos/Proteobot/Results_quant_ion_DDA/branches/main\n",
      "INFO:github.Requester:Following Github server redirection from /repos/Proteobot/Results_quant_ion_DDA/branches/master to /repos/Proteobot/Results_quant_ion_DDA/branches/main\n"
     ]
    },
    {
     "name": "stdout",
     "output_type": "stream",
     "text": [
      "Submitted: {'input_file': WindowsPath('extracted_files/94c4c0b7d00761d24fdde05276053b087cb99ea1/input_file.txt'), 'param_file': WindowsPath('extracted_files/94c4c0b7d00761d24fdde05276053b087cb99ea1/param_0.txt'), 'input_type': 'AlphaPept', 'default_cutoff_min_prec': 3, 'user_comments': 'Variable mods: oxM, a<^ (Protein N-Term)'}\n",
      "------------------------\n",
      "C:\\Users\\robbi\\AppData\\Local\\Temp\\tmp6xvl2h9f\n",
      "extracted_files\\982740480e3e36433d6691e3588bc4c2acea4430\\param_0.txt extracted_files\\982740480e3e36433d6691e3588bc4c2acea4430\\input_file.txt i2MassChroQ 3 NO MBR, MassChroQ 3.0\n",
      "software_name i2MassChroQ\n",
      "software_version 1.2.1\n",
      "search_engine X!Tandem\n",
      "search_engine_version nan\n",
      "ident_fdr_psm 0.00969835888743\n",
      "ident_fdr_peptide 0.0132251725326\n",
      "ident_fdr_protein 0.00859598853868\n",
      "enable_match_between_runs False\n",
      "precursor_mass_tolerance [-10 ppm, 10 ppm]\n",
      "fragment_mass_tolerance [-0.02 Da, 0.02 Da]\n",
      "enzyme [RK]|{P}\n",
      "allowed_miscleavages 2\n",
      "min_peptide_length None\n",
      "max_peptide_length None\n",
      "fixed_mods 57.02146@C\n",
      "variable_mods 15.99491@M;Acetyl(N-term);Pyrolidone(N-term)\n",
      "max_mods None\n",
      "min_precursor_charge 1\n",
      "max_precursor_charge 4\n"
     ]
    },
    {
     "name": "stderr",
     "output_type": "stream",
     "text": [
      "Following Github server redirection from /repos/Proteobot/Results_quant_ion_DDA/branches/master to /repos/Proteobot/Results_quant_ion_DDA/branches/main\n",
      "INFO:github.Requester:Following Github server redirection from /repos/Proteobot/Results_quant_ion_DDA/branches/master to /repos/Proteobot/Results_quant_ion_DDA/branches/main\n"
     ]
    },
    {
     "name": "stdout",
     "output_type": "stream",
     "text": [
      "Submitted: {'input_file': WindowsPath('extracted_files/982740480e3e36433d6691e3588bc4c2acea4430/input_file.txt'), 'param_file': WindowsPath('extracted_files/982740480e3e36433d6691e3588bc4c2acea4430/param_0.txt'), 'input_type': 'i2MassChroQ', 'default_cutoff_min_prec': 3, 'user_comments': 'NO MBR, MassChroQ 3.0'}\n",
      "------------------------\n",
      "C:\\Users\\robbi\\AppData\\Local\\Temp\\tmpe8c4rnz0\n",
      "extracted_files\\a1140a31b414d7b3110ee9b9c0456cc4f1709782\\param_0.txt extracted_files\\a1140a31b414d7b3110ee9b9c0456cc4f1709782\\input_file.txt MaxQuant 3 \n"
     ]
    },
    {
     "name": "stderr",
     "output_type": "stream",
     "text": [
      "C:\\Users\\robbi\\OneDrive\\Documents\\GitHub\\ProteoBench\\proteobench\\io\\parsing\\parse_ion.py:31: UserWarning: \n",
      "                WARNING: MaxQuant proforma parsing does not take into account fixed modifications\n",
      "\n",
      "                because they are implicit. Only after providing the appropriate parameter file,\n",
      "\n",
      "                fixed modifications will be added correctly.\n",
      "                \n",
      "  warnings.warn(\n",
      "Following Github server redirection from /repos/Proteobot/Results_quant_ion_DDA/branches/master to /repos/Proteobot/Results_quant_ion_DDA/branches/main\n",
      "INFO:github.Requester:Following Github server redirection from /repos/Proteobot/Results_quant_ion_DDA/branches/master to /repos/Proteobot/Results_quant_ion_DDA/branches/main\n"
     ]
    },
    {
     "name": "stdout",
     "output_type": "stream",
     "text": [
      "Submitted: {'input_file': WindowsPath('extracted_files/a1140a31b414d7b3110ee9b9c0456cc4f1709782/input_file.txt'), 'param_file': WindowsPath('extracted_files/a1140a31b414d7b3110ee9b9c0456cc4f1709782/param_0.txt'), 'input_type': 'MaxQuant', 'default_cutoff_min_prec': 3, 'user_comments': ''}\n",
      "------------------------\n",
      "C:\\Users\\robbi\\AppData\\Local\\Temp\\tmp485g0eon\n",
      "extracted_files\\a3d801fcb75c46b2e76fa7078ae0a004360ebe44\\param_0.txt extracted_files\\a3d801fcb75c46b2e76fa7078ae0a004360ebe44\\input_file.txt MaxQuant 3 \n"
     ]
    },
    {
     "name": "stderr",
     "output_type": "stream",
     "text": [
      "C:\\Users\\robbi\\OneDrive\\Documents\\GitHub\\ProteoBench\\proteobench\\io\\parsing\\parse_ion.py:31: UserWarning: \n",
      "                WARNING: MaxQuant proforma parsing does not take into account fixed modifications\n",
      "\n",
      "                because they are implicit. Only after providing the appropriate parameter file,\n",
      "\n",
      "                fixed modifications will be added correctly.\n",
      "                \n",
      "  warnings.warn(\n",
      "Following Github server redirection from /repos/Proteobot/Results_quant_ion_DDA/branches/master to /repos/Proteobot/Results_quant_ion_DDA/branches/main\n",
      "INFO:github.Requester:Following Github server redirection from /repos/Proteobot/Results_quant_ion_DDA/branches/master to /repos/Proteobot/Results_quant_ion_DDA/branches/main\n"
     ]
    },
    {
     "name": "stdout",
     "output_type": "stream",
     "text": [
      "Submitted: {'input_file': WindowsPath('extracted_files/a3d801fcb75c46b2e76fa7078ae0a004360ebe44/input_file.txt'), 'param_file': WindowsPath('extracted_files/a3d801fcb75c46b2e76fa7078ae0a004360ebe44/param_0.txt'), 'input_type': 'MaxQuant', 'default_cutoff_min_prec': 3, 'user_comments': ''}\n",
      "------------------------\n",
      "C:\\Users\\robbi\\AppData\\Local\\Temp\\tmp4qkxn7hp\n",
      "extracted_files\\bbd079eda4dd3d6a51b37924d83db50022530bb6\\param_0..json extracted_files\\bbd079eda4dd3d6a51b37924d83db50022530bb6\\input_file.tsv Sage 3 \n"
     ]
    },
    {
     "name": "stderr",
     "output_type": "stream",
     "text": [
      "Following Github server redirection from /repos/Proteobot/Results_quant_ion_DDA/branches/master to /repos/Proteobot/Results_quant_ion_DDA/branches/main\n",
      "INFO:github.Requester:Following Github server redirection from /repos/Proteobot/Results_quant_ion_DDA/branches/master to /repos/Proteobot/Results_quant_ion_DDA/branches/main\n"
     ]
    },
    {
     "name": "stdout",
     "output_type": "stream",
     "text": [
      "Submitted: {'input_file': WindowsPath('extracted_files/bbd079eda4dd3d6a51b37924d83db50022530bb6/input_file.tsv'), 'param_file': WindowsPath('extracted_files/bbd079eda4dd3d6a51b37924d83db50022530bb6/param_0..json'), 'input_type': 'Sage', 'default_cutoff_min_prec': 3, 'user_comments': ''}\n",
      "------------------------\n",
      "C:\\Users\\robbi\\AppData\\Local\\Temp\\tmpj6phi7ne\n",
      "extracted_files\\c9b6df263cfd4491f6188ac49043fa78d0f8acdb\\param_0..yml extracted_files\\c9b6df263cfd4491f6188ac49043fa78d0f8acdb\\input_file.csv WOMBAT 3 WOMBAT-P running Proline workflow\n",
      "Load locally: extracted_files\\c9b6df263cfd4491f6188ac49043fa78d0f8acdb\\param_0..yml\n"
     ]
    },
    {
     "name": "stderr",
     "output_type": "stream",
     "text": [
      "Following Github server redirection from /repos/Proteobot/Results_quant_ion_DDA/branches/master to /repos/Proteobot/Results_quant_ion_DDA/branches/main\n",
      "INFO:github.Requester:Following Github server redirection from /repos/Proteobot/Results_quant_ion_DDA/branches/master to /repos/Proteobot/Results_quant_ion_DDA/branches/main\n"
     ]
    },
    {
     "name": "stdout",
     "output_type": "stream",
     "text": [
      "Submitted: {'input_file': WindowsPath('extracted_files/c9b6df263cfd4491f6188ac49043fa78d0f8acdb/input_file.csv'), 'param_file': WindowsPath('extracted_files/c9b6df263cfd4491f6188ac49043fa78d0f8acdb/param_0..yml'), 'input_type': 'WOMBAT', 'default_cutoff_min_prec': 3, 'user_comments': 'WOMBAT-P running Proline workflow'}\n",
      "------------------------\n",
      "C:\\Users\\robbi\\AppData\\Local\\Temp\\tmp6wdfzxsr\n",
      "extracted_files\\d8db9ffd261d4e4f5810738c726453dc034b3789\\param_0.txt extracted_files\\d8db9ffd261d4e4f5810738c726453dc034b3789\\input_file.txt i2MassChroQ 3 \n",
      "software_name i2MassChroQ\n",
      "software_version 1.0.18\n",
      "search_engine Sage\n",
      "search_engine_version 0.14.7\n",
      "ident_fdr_psm 0.005999419143\n",
      "ident_fdr_peptide 0.008561447245\n",
      "ident_fdr_protein 0.009234643907\n",
      "enable_match_between_runs True\n",
      "precursor_mass_tolerance -10 10 ppm\n",
      "fragment_mass_tolerance -0.02 0.02 da\n",
      "enzyme KR,P,true\n",
      "allowed_miscleavages 2\n",
      "min_peptide_length 5\n",
      "max_peptide_length 50\n",
      "fixed_mods C:57.021465\n",
      "variable_mods M:15.994915 ^E:-18.010565 ^Q:-17.026548\n",
      "max_mods 2\n",
      "min_precursor_charge 2\n",
      "max_precursor_charge 4\n"
     ]
    },
    {
     "name": "stderr",
     "output_type": "stream",
     "text": [
      "Following Github server redirection from /repos/Proteobot/Results_quant_ion_DDA/branches/master to /repos/Proteobot/Results_quant_ion_DDA/branches/main\n",
      "INFO:github.Requester:Following Github server redirection from /repos/Proteobot/Results_quant_ion_DDA/branches/master to /repos/Proteobot/Results_quant_ion_DDA/branches/main\n"
     ]
    },
    {
     "name": "stdout",
     "output_type": "stream",
     "text": [
      "Submitted: {'input_file': WindowsPath('extracted_files/d8db9ffd261d4e4f5810738c726453dc034b3789/input_file.txt'), 'param_file': WindowsPath('extracted_files/d8db9ffd261d4e4f5810738c726453dc034b3789/param_0.txt'), 'input_type': 'i2MassChroQ', 'default_cutoff_min_prec': 3, 'user_comments': ''}\n",
      "------------------------\n",
      "C:\\Users\\robbi\\AppData\\Local\\Temp\\tmpopx8zk3y\n",
      "extracted_files\\ddae18c13fb1c8b8ab82231e8c09dc27df896829\\param_0..json extracted_files\\ddae18c13fb1c8b8ab82231e8c09dc27df896829\\input_file.tsv Sage 3 \n"
     ]
    },
    {
     "name": "stderr",
     "output_type": "stream",
     "text": [
      "Following Github server redirection from /repos/Proteobot/Results_quant_ion_DDA/branches/master to /repos/Proteobot/Results_quant_ion_DDA/branches/main\n",
      "INFO:github.Requester:Following Github server redirection from /repos/Proteobot/Results_quant_ion_DDA/branches/master to /repos/Proteobot/Results_quant_ion_DDA/branches/main\n"
     ]
    },
    {
     "name": "stdout",
     "output_type": "stream",
     "text": [
      "Submitted: {'input_file': WindowsPath('extracted_files/ddae18c13fb1c8b8ab82231e8c09dc27df896829/input_file.tsv'), 'param_file': WindowsPath('extracted_files/ddae18c13fb1c8b8ab82231e8c09dc27df896829/param_0..json'), 'input_type': 'Sage', 'default_cutoff_min_prec': 3, 'user_comments': ''}\n",
      "------------------------\n",
      "C:\\Users\\robbi\\AppData\\Local\\Temp\\tmpx0115f1q\n",
      "extracted_files\\e0ab1339a5354cb27d895ff252383ee4a3365b2e\\param_0.txt extracted_files\\e0ab1339a5354cb27d895ff252383ee4a3365b2e\\input_file.txt i2MassChroQ 3 \n",
      "software_name i2MassChroQ\n",
      "software_version 1.2.1\n",
      "search_engine X!Tandem\n",
      "search_engine_version nan\n",
      "ident_fdr_psm 0.00969835888743\n",
      "ident_fdr_peptide 0.0132251725326\n",
      "ident_fdr_protein 0.00859598853868\n",
      "enable_match_between_runs True\n",
      "precursor_mass_tolerance [-10 ppm, 10 ppm]\n",
      "fragment_mass_tolerance [-0.02 Da, 0.02 Da]\n",
      "enzyme [RK]|{P}\n",
      "allowed_miscleavages 2\n",
      "min_peptide_length None\n",
      "max_peptide_length None\n",
      "fixed_mods 57.02146@C\n",
      "variable_mods 15.99491@M;Acetyl(N-term);Pyrolidone(N-term)\n",
      "max_mods None\n",
      "min_precursor_charge 1\n",
      "max_precursor_charge 4\n"
     ]
    },
    {
     "name": "stderr",
     "output_type": "stream",
     "text": [
      "Following Github server redirection from /repos/Proteobot/Results_quant_ion_DDA/branches/master to /repos/Proteobot/Results_quant_ion_DDA/branches/main\n",
      "INFO:github.Requester:Following Github server redirection from /repos/Proteobot/Results_quant_ion_DDA/branches/master to /repos/Proteobot/Results_quant_ion_DDA/branches/main\n"
     ]
    },
    {
     "name": "stdout",
     "output_type": "stream",
     "text": [
      "Submitted: {'input_file': WindowsPath('extracted_files/e0ab1339a5354cb27d895ff252383ee4a3365b2e/input_file.txt'), 'param_file': WindowsPath('extracted_files/e0ab1339a5354cb27d895ff252383ee4a3365b2e/param_0.txt'), 'input_type': 'i2MassChroQ', 'default_cutoff_min_prec': 3, 'user_comments': ''}\n",
      "------------------------\n",
      "C:\\Users\\robbi\\AppData\\Local\\Temp\\tmpgphw4z_a\n",
      "extracted_files\\e683472e109ece5b3e0996d8bef476ed0ad6dbdb\\param_0.txt extracted_files\\e683472e109ece5b3e0996d8bef476ed0ad6dbdb\\input_file.txt MaxQuant 3 \n"
     ]
    },
    {
     "name": "stderr",
     "output_type": "stream",
     "text": [
      "C:\\Users\\robbi\\OneDrive\\Documents\\GitHub\\ProteoBench\\proteobench\\io\\parsing\\parse_ion.py:31: UserWarning: \n",
      "                WARNING: MaxQuant proforma parsing does not take into account fixed modifications\n",
      "\n",
      "                because they are implicit. Only after providing the appropriate parameter file,\n",
      "\n",
      "                fixed modifications will be added correctly.\n",
      "                \n",
      "  warnings.warn(\n",
      "Following Github server redirection from /repos/Proteobot/Results_quant_ion_DDA/branches/master to /repos/Proteobot/Results_quant_ion_DDA/branches/main\n",
      "INFO:github.Requester:Following Github server redirection from /repos/Proteobot/Results_quant_ion_DDA/branches/master to /repos/Proteobot/Results_quant_ion_DDA/branches/main\n"
     ]
    },
    {
     "name": "stdout",
     "output_type": "stream",
     "text": [
      "Submitted: {'input_file': WindowsPath('extracted_files/e683472e109ece5b3e0996d8bef476ed0ad6dbdb/input_file.txt'), 'param_file': WindowsPath('extracted_files/e683472e109ece5b3e0996d8bef476ed0ad6dbdb/param_0.txt'), 'input_type': 'MaxQuant', 'default_cutoff_min_prec': 3, 'user_comments': ''}\n",
      "------------------------\n"
     ]
    }
   ],
   "source": [
    "token = toml.load(\"../webinterface/.streamlit/secrets.toml\")[\"gh\"][\"token\"]\n",
    "\n",
    "for submission_settings in submission_files:\n",
    "    # TODO change to the correct module\n",
    "    module_obj = DDAQuantIonModule(token=token)\n",
    "    results_df = module_obj.obtain_all_data_points(all_datapoints=None)\n",
    "\n",
    "    param_file = submission_settings[\"param_file\"]\n",
    "    input_file = submission_settings[\"input_file\"]\n",
    "    input_type = submission_settings[\"input_type\"]\n",
    "    default_cutoff_min_prec = submission_settings[\"default_cutoff_min_prec\"]\n",
    "    user_comments = submission_settings[\"user_comments\"]\n",
    "\n",
    "    user_config = defaultdict(lambda: \"\")\n",
    "\n",
    "    results_intermediates, results_df_new, parsed_input = module_obj.benchmarking(\n",
    "        input_file,\n",
    "        input_type,\n",
    "        user_config,\n",
    "        results_df,\n",
    "        default_cutoff_min_prec=default_cutoff_min_prec,\n",
    "    )\n",
    "\n",
    "    results_df_new.tail(5)\n",
    "\n",
    "    try:\n",
    "        param_obj = module_obj.load_params_file(\n",
    "            [param_file], input_type\n",
    "        )\n",
    "    except:\n",
    "        continue\n",
    "\n",
    "    pr_url = module_obj.clone_pr(\n",
    "        results_df_new,\n",
    "        param_obj,\n",
    "        remote_git=\"\",\n",
    "        submission_comments=user_comments,\n",
    "    )\n",
    "\n",
    "    print(f\"Submitted: {submission_settings}\")\n",
    "    print(\"------------------------\")"
   ]
  },
  {
   "cell_type": "code",
   "execution_count": 11,
   "id": "7c8b7f6f",
   "metadata": {},
   "outputs": [],
   "source": [
    "import importlib\n",
    "import proteobench.modules.quant.quant_base_module\n",
    "import proteobench.modules.quant.quant_lfq_ion_DDA\n",
    "\n",
    "importlib.reload(proteobench.modules.quant.quant_base_module)\n",
    "importlib.reload(proteobench.modules.quant.quant_lfq_ion_DDA)\n",
    "\n",
    "from proteobench.modules.quant.quant_lfq_ion_DDA import DDAQuantIonModule"
   ]
  },
  {
   "cell_type": "code",
   "execution_count": null,
   "id": "7c3583ff",
   "metadata": {},
   "outputs": [],
   "source": []
  },
  {
   "cell_type": "code",
   "execution_count": null,
   "id": "3e5ef4fc",
   "metadata": {},
   "outputs": [],
   "source": []
  }
 ],
 "metadata": {
  "kernelspec": {
   "display_name": "proteobench_py311",
   "language": "python",
   "name": "python3"
  },
  "language_info": {
   "codemirror_mode": {
    "name": "ipython",
    "version": 3
   },
   "file_extension": ".py",
   "mimetype": "text/x-python",
   "name": "python",
   "nbconvert_exporter": "python",
   "pygments_lexer": "ipython3",
   "version": "3.11.4"
  }
 },
 "nbformat": 4,
 "nbformat_minor": 5
}
