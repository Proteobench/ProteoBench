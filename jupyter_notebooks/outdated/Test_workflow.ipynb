{
 "cells": [
  {
   "cell_type": "code",
   "execution_count": 1,
   "metadata": {
    "ExecuteTime": {
     "end_time": "2024-07-19T07:22:16.434929Z",
     "start_time": "2024-07-19T07:22:16.432313Z"
    }
   },
   "outputs": [],
   "source": [
    "import os"
   ]
  },
  {
   "cell_type": "code",
   "execution_count": null,
   "metadata": {
    "ExecuteTime": {
     "end_time": "2024-07-19T07:38:02.197007Z",
     "start_time": "2024-07-19T07:37:14.482772Z"
    }
   },
   "outputs": [],
   "source": [
    "from proteobench.io.parsing.parse_settings_ion import ParseSettingsBuilder\n",
    "from proteobench.io.parsing.parse_ion import load_input_file\n",
    "\n",
    "TESTDATA_DIR = \"../test/data/dda_quant/\"\n",
    "TESTDATA_FILES = { \"Proline\"         : os.path.join(TESTDATA_DIR, 'Proline_DDA_quan_ions_subset.xlsx'),\n",
    "                 \"MaxQuant\"         : os.path.join(TESTDATA_DIR, 'MaxQuant_2_5_1_evidence_sample.txt')\n",
    "}\n",
    "\n",
    "\n",
    "user_input = dict()\n",
    "user_input[\"input_csv\"] = TESTDATA_FILES[\"Proline\"]\n",
    "user_input[\"input_format\"] = \"Proline\"\n",
    "user_input[\"mbr\"] = True\n",
    "#df = module_dda_quant.benchmarking(\n",
    "#    user_input[\"input_csv\"],\n",
    "#    user_input[\"input_format\"],\n",
    "#    user_input[\"mbr\"]\n",
    "#)\n",
    "\n",
    "input_file = user_input[\"input_csv\"]\n",
    "input_format =user_input[\"input_format\"]\n",
    "\n",
    "# Parse user config\n",
    "print(input_file)\n",
    "input_df = load_input_file(input_file,input_format)"
   ]
  },
  {
   "cell_type": "markdown",
   "metadata": {},
   "source": [
    "now create the standard format"
   ]
  },
  {
   "cell_type": "code",
   "execution_count": null,
   "metadata": {
    "ExecuteTime": {
     "start_time": "2024-07-19T08:02:02.273185Z"
    },
    "jupyter": {
     "is_executing": true
    }
   },
   "outputs": [
    {
     "data": {
      "text/plain": [
       "{'YEAST': {'A_vs_B': 2.0, 'color': 'red'},\n",
       " 'ECOLI': {'A_vs_B': 0.25, 'color': 'blue'},\n",
       " 'HUMAN': {'A_vs_B': 1.0, 'color': 'green'}}"
      ]
     },
     "metadata": {},
     "output_type": "display_data"
    },
    {
     "data": {
      "text/plain": [
       "{'_YEAST': 'YEAST', '_ECOLI': 'ECOLI', '_HUMAN': 'HUMAN'}"
      ]
     },
     "metadata": {},
     "output_type": "display_data"
    },
    {
     "data": {
      "text/plain": [
       "Index(['peptide_id', 'Sequence', 'Modifications', 'ptm_protein_positions',\n",
       "       'master_quant_peptide_id', 'master_elution_time',\n",
       "       'is_validated_for_quanti', '#psm_prot_sets',\n",
       "       'master_quant_peptide_ion_id', 'master_quant_peptide_ion_moz', 'Charge',\n",
       "       'master_quant_peptide_ion_elution_time',\n",
       "       'master_quant_peptide_ion_feature_id', 'protein_set_id', 'accession',\n",
       "       'gene_name', 'Proteins', 'subsets_accessions', 'description',\n",
       "       'protein_set_score', 'is_protein_set_validated',\n",
       "       'protein_set_selection_level', '#sameset_protein_matches',\n",
       "       '#subset_protein_matches', 'coverage', 'MW', '#observable_peptides',\n",
       "       '#sequences', '#specific_sequences', '#peptides', '#specific_peptides',\n",
       "       'spectral_count', 'specific_spectral_count',\n",
       "       'best_score_DDA_Condition_A_Sample_Alpha_01',\n",
       "       'best_score_DDA_Condition_A_Sample_Alpha_02',\n",
       "       'best_score_DDA_Condition_A_Sample_Alpha_03',\n",
       "       'best_score_DDA_Condition_B_Sample_Alpha_01',\n",
       "       'best_score_DDA_Condition_B_Sample_Alpha_02',\n",
       "       'best_score_DDA_Condition_B_Sample_Alpha_03',\n",
       "       'psm_count_DDA_Condition_A_Sample_Alpha_01',\n",
       "       'psm_count_DDA_Condition_A_Sample_Alpha_02',\n",
       "       'psm_count_DDA_Condition_A_Sample_Alpha_03',\n",
       "       'psm_count_DDA_Condition_B_Sample_Alpha_01',\n",
       "       'psm_count_DDA_Condition_B_Sample_Alpha_02',\n",
       "       'psm_count_DDA_Condition_B_Sample_Alpha_03',\n",
       "       'elution_time_DDA_Condition_A_Sample_Alpha_01',\n",
       "       'elution_time_DDA_Condition_A_Sample_Alpha_02',\n",
       "       'elution_time_DDA_Condition_A_Sample_Alpha_03',\n",
       "       'elution_time_DDA_Condition_B_Sample_Alpha_01',\n",
       "       'elution_time_DDA_Condition_B_Sample_Alpha_02',\n",
       "       'elution_time_DDA_Condition_B_Sample_Alpha_03',\n",
       "       'corrected_time_DDA_Condition_A_Sample_Alpha_01',\n",
       "       'corrected_time_DDA_Condition_A_Sample_Alpha_02',\n",
       "       'corrected_time_DDA_Condition_A_Sample_Alpha_03',\n",
       "       'corrected_time_DDA_Condition_B_Sample_Alpha_01',\n",
       "       'corrected_time_DDA_Condition_B_Sample_Alpha_02',\n",
       "       'corrected_time_DDA_Condition_B_Sample_Alpha_03',\n",
       "       'raw_abundance_DDA_Condition_A_Sample_Alpha_01',\n",
       "       'raw_abundance_DDA_Condition_A_Sample_Alpha_02',\n",
       "       'raw_abundance_DDA_Condition_A_Sample_Alpha_03',\n",
       "       'raw_abundance_DDA_Condition_B_Sample_Alpha_01',\n",
       "       'raw_abundance_DDA_Condition_B_Sample_Alpha_02',\n",
       "       'raw_abundance_DDA_Condition_B_Sample_Alpha_03',\n",
       "       'abundance_DDA_Condition_A_Sample_Alpha_01',\n",
       "       'abundance_DDA_Condition_A_Sample_Alpha_02',\n",
       "       'abundance_DDA_Condition_A_Sample_Alpha_03',\n",
       "       'abundance_DDA_Condition_B_Sample_Alpha_01',\n",
       "       'abundance_DDA_Condition_B_Sample_Alpha_02',\n",
       "       'abundance_DDA_Condition_B_Sample_Alpha_03', 'proforma'],\n",
       "      dtype='object')"
      ]
     },
     "metadata": {},
     "output_type": "display_data"
    }
   ],
   "source": [
    "#parse_settings_dir = os.path.join(os.path.dirname(__package__), \"io\", \"parsing\", \"io_parse_settings\")\n",
    "\n",
    "parser = ParseSettingsBuilder().build_parser(input_format)\n",
    "\n",
    "\n",
    "\n",
    "exp_ratios = parser.species_expected_ratio()\n",
    "display(exp_ratios)\n",
    "species = parser.species_dict()\n",
    "display(species)\n",
    "display(input_df.columns)\n",
    "\n",
    "\n",
    "standard_format = parser.convert_to_standard_format(input_df)\n",
    "print(standard_format)\n",
    "\n",
    "#print(prepared_df.columns)\n",
    "\n"
   ]
  },
  {
   "cell_type": "code",
   "execution_count": null,
   "metadata": {},
   "outputs": [],
   "source": []
  }
 ],
 "metadata": {
  "kernelspec": {
   "display_name": "Python 3 (ipykernel)",
   "language": "python",
   "name": "python3"
  },
  "language_info": {
   "codemirror_mode": {
    "name": "ipython",
    "version": 3
   },
   "file_extension": ".py",
   "mimetype": "text/x-python",
   "name": "python",
   "nbconvert_exporter": "python",
   "pygments_lexer": "ipython3",
   "version": "3.11.4"
  },
  "vscode": {
   "interpreter": {
    "hash": "916dbcbb3f70747c44a77c7bcd40155683ae19c65e1c03b4aa3499c5328201f1"
   }
  }
 },
 "nbformat": 4,
 "nbformat_minor": 2
}
