{
 "cells": [
  {
   "cell_type": "code",
   "execution_count": 2,
   "metadata": {},
   "outputs": [],
   "source": [
    "import pandas as pd"
   ]
  },
  {
   "cell_type": "markdown",
   "metadata": {},
   "source": [
    "This Jupyter Notebook serves to prepare ProteoBench inputs from software tool outputs that have important information, needed by ProteoBench, in more than one file"
   ]
  },
  {
   "cell_type": "markdown",
   "metadata": {},
   "source": [
    "# MSAID output preparation"
   ]
  },
  {
   "cell_type": "code",
   "execution_count": null,
   "metadata": {},
   "outputs": [],
   "source": [
    "# Change paths to your local paths\n",
    "input_path = \"./path/to/your/MSAID/output/dir/\"  # path should contain the proteingroups.tsv and precursors.tsv files\n",
    "output_path = \"./path/to/your/desired/output/dir/\"  # path where the output files will be saved"
   ]
  },
  {
   "cell_type": "code",
   "execution_count": null,
   "metadata": {},
   "outputs": [],
   "source": [
    "# Change the path to your proteingroups.tsv and precursors.tsv files\n",
    "protein_file = pd.read_csv(input_path + \"proteingroups.tsv\", sep=\"\\t\")\n",
    "precursor_file = pd.read_csv(input_path + \"precursors.tsv\", sep=\"\\t\")"
   ]
  },
  {
   "cell_type": "code",
   "execution_count": null,
   "metadata": {},
   "outputs": [],
   "source": [
    "# Map the proteins to the precursors using the \"PROTEIN_IDS\" column in the precursor file\n",
    "def add_fasta_headers(prec_df, protein_df):\n",
    "    # Create a dictionary from the second DataFrame for fast look-up\n",
    "    protein_to_header = dict(zip(protein_df[\"PROTEIN_IDS\"], protein_df[\"FASTA_HEADERS\"]))\n",
    "\n",
    "    # Function to find and join headers for each PROTEIN_IDS entry\n",
    "    def get_fasta_headers(protein_ids):\n",
    "        ids = protein_ids.split(\";\")  # Split the IDs by the separator\n",
    "        headers = [protein_to_header.get(protein_id.strip(), \"\") for protein_id in ids]\n",
    "        headers = [header for header in headers if header]  # Remove empty headers\n",
    "        return \"; \".join(headers) if headers else None\n",
    "\n",
    "    # Apply the function to the PROTEIN_IDS column and create a new FASTA_HEADERS column\n",
    "    prec_df[\"FASTA_HEADERS\"] = prec_df[\"PROTEIN_IDS\"].apply(get_fasta_headers)\n",
    "\n",
    "    return prec_df"
   ]
  },
  {
   "cell_type": "code",
   "execution_count": 20,
   "metadata": {},
   "outputs": [],
   "source": [
    "prec_df_with_headers = add_fasta_headers(precursor_file, protein_file)"
   ]
  },
  {
   "cell_type": "code",
   "execution_count": null,
   "metadata": {},
   "outputs": [],
   "source": [
    "# Change the path to the output file\n",
    "prec_df_with_headers.to_csv(\n",
    "    output_path + \"precursors_with_headers.tsv\", sep=\"\\t\", index=False\n",
    ")  # This file can be uploaded to ProteoBench"
   ]
  },
  {
   "cell_type": "markdown",
   "metadata": {},
   "source": [
    "# AlphaDIA output preparation"
   ]
  },
  {
   "cell_type": "code",
   "execution_count": null,
   "metadata": {},
   "outputs": [],
   "source": [
    "input_path = \"/mnt/d/Proteobench_manuscript_data/run_output/AlphaDIA_1.10_default/transfer/\"  # path should contain the precursors.tsv file and the precursor.matrix.tsv file\n",
    "output_path = \"/mnt/d/Proteobench_manuscript_data/run_output/AlphaDIA_1.10_default/transfer/\"  # path where the output files will be saved"
   ]
  },
  {
   "cell_type": "code",
   "execution_count": 4,
   "metadata": {},
   "outputs": [],
   "source": [
    "precursors_long = pd.read_csv(input_path + \"precursors.tsv\", sep=\"\\t\")\n",
    "precursor_matrix = pd.read_csv(input_path + \"precursor.matrix.tsv\", sep=\"\\t\")"
   ]
  },
  {
   "cell_type": "code",
   "execution_count": null,
   "metadata": {},
   "outputs": [
    {
     "data": {
      "application/vnd.microsoft.datawrangler.viewer.v0+json": {
       "columns": [
        {
         "name": "index",
         "rawType": "int64",
         "type": "integer"
        },
        {
         "name": "mod_seq_charge_hash",
         "rawType": "uint64",
         "type": "integer"
        },
        {
         "name": "LFQ_Orbitrap_AIF_Condition_A_Sample_Alpha_01",
         "rawType": "float64",
         "type": "float"
        },
        {
         "name": "LFQ_Orbitrap_AIF_Condition_A_Sample_Alpha_02",
         "rawType": "float64",
         "type": "float"
        },
        {
         "name": "LFQ_Orbitrap_AIF_Condition_A_Sample_Alpha_03",
         "rawType": "float64",
         "type": "float"
        },
        {
         "name": "LFQ_Orbitrap_AIF_Condition_B_Sample_Alpha_01",
         "rawType": "float64",
         "type": "float"
        },
        {
         "name": "LFQ_Orbitrap_AIF_Condition_B_Sample_Alpha_02",
         "rawType": "float64",
         "type": "float"
        },
        {
         "name": "LFQ_Orbitrap_AIF_Condition_B_Sample_Alpha_03",
         "rawType": "float64",
         "type": "float"
        }
       ],
       "conversionMethod": "pd.DataFrame",
       "ref": "e38af35e-939a-417d-9b68-36726baa6399",
       "rows": [
        [
         "0",
         "15481211221274",
         "438876672.671111",
         "454209842.962811",
         "432766871.578186",
         "484460943.732975",
         "0.0",
         "432449445.054915"
        ],
        [
         "1",
         "159521083995512",
         "325184915.324324",
         "0.0",
         "0.0",
         "314547756.675676",
         "0.0",
         "0.0"
        ],
        [
         "2",
         "321833340036170",
         "510590238.625727",
         "706795870.976174",
         "651021058.398097",
         "0.0",
         "0.0",
         "0.0"
        ],
        [
         "3",
         "724298168523893",
         "48219412.610393",
         "0.0",
         "25323684.684647",
         "197310740.449207",
         "194247241.581435",
         "185391144.674318"
        ],
        [
         "4",
         "842012188086435",
         "0.0",
         "0.0",
         "0.0",
         "373241832.781766",
         "372570354.432934",
         "366304036.785299"
        ],
        [
         "5",
         "1354109432335427",
         "501769729.27878",
         "197216364.607699",
         "433927373.937982",
         "323765052.412307",
         "108164487.763231",
         "0.0"
        ],
        [
         "6",
         "1715844758145652",
         "0.0",
         "332565807.910522",
         "262125200.415546",
         "264030485.402254",
         "335154090.271677",
         "0.0"
        ],
        [
         "7",
         "1756317291686211",
         "538884325.871547",
         "568418814.518073",
         "448061979.610378",
         "0.0",
         "0.0",
         "0.0"
        ],
        [
         "8",
         "1801767973591112",
         "621286653.905683",
         "549622176.417216",
         "562163983.882322",
         "672266103.765657",
         "591796456.762721",
         "537140697.193629"
        ],
        [
         "9",
         "2021658604446914",
         "774062057.603147",
         "856041346.968822",
         "889080823.000424",
         "833674332.141266",
         "916550334.014316",
         "931251574.245091"
        ],
        [
         "10",
         "2079847146908008",
         "81530583.969954",
         "164452378.689995",
         "187426601.450505",
         "153420183.963059",
         "173303412.639221",
         "163729101.931019"
        ],
        [
         "11",
         "2959582283933422",
         "184245567.957082",
         "251007444.084793",
         "212804833.055299",
         "0.0",
         "108769708.032069",
         "108449502.870757"
        ],
        [
         "12",
         "3349224165367585",
         "11608139609.65369",
         "11391645300.580467",
         "7912617506.908336",
         "9551271483.889336",
         "9298318269.923244",
         "6353158936.333168"
        ],
        [
         "13",
         "3613077784645462",
         "1171698041.380369",
         "910690959.805578",
         "603972079.129311",
         "1604543167.247875",
         "1275728686.309036",
         "800227115.673547"
        ],
        [
         "14",
         "4337166426282190",
         "1004186048.443632",
         "1115754313.593832",
         "1287926830.999844",
         "493103591.99671",
         "525900578.806709",
         "584587887.393118"
        ],
        [
         "15",
         "4337166426282191",
         "68263693.942169",
         "117745682.057831",
         "0.0",
         "0.0",
         "0.0",
         "0.0"
        ],
        [
         "16",
         "4472418760645949",
         "418597192.953442",
         "457314653.954501",
         "337296257.631245",
         "455879164.510036",
         "456388132.014945",
         "334838369.833209"
        ],
        [
         "17",
         "4477584949775604",
         "47076489.03236",
         "0.0",
         "0.0",
         "123900950.96764",
         "0.0",
         "0.0"
        ],
        [
         "18",
         "4790757141530181",
         "394466935.132551",
         "476795455.968306",
         "609300168.899145",
         "0.0",
         "0.0",
         "0.0"
        ],
        [
         "19",
         "4850165432743164",
         "249313356.45953",
         "200133495.646178",
         "195634657.425441",
         "273336345.375692",
         "228582368.431649",
         "197527193.817004"
        ],
        [
         "20",
         "5125489022756888",
         "175729922.675976",
         "103197218.737736",
         "0.0",
         "135194039.422415",
         "121230885.882612",
         "23156541.281261"
        ],
        [
         "21",
         "5667261406743257",
         "235814308.63681",
         "272192837.548317",
         "251547851.996725",
         "258358214.819877",
         "268354552.964754",
         "254154941.693819"
        ],
        [
         "22",
         "5953816361841333",
         "947574412.881972",
         "877953890.180968",
         "768744571.651606",
         "898187359.221716",
         "879629244.050419",
         "728685737.252572"
        ],
        [
         "23",
         "5970958736575351",
         "0.0",
         "0.0",
         "0.0",
         "523827985.449314",
         "444293145.71952",
         "402370260.831166"
        ],
        [
         "24",
         "6424655746584429",
         "162468758.187507",
         "223764476.028183",
         "263946420.620248",
         "156114469.83915",
         "225858953.104274",
         "295044301.568802"
        ],
        [
         "25",
         "6424655746584430",
         "415130638.792304",
         "487659055.990201",
         "502559895.215201",
         "465005069.468069",
         "531338467.671269",
         "513910915.392737"
        ],
        [
         "26",
         "6902572598486488",
         "37387539.926938",
         "58759695.082258",
         "65799511.754508",
         "0.0",
         "35616516.194871",
         "59274657.041424"
        ],
        [
         "27",
         "6902572598486489",
         "82625829.245412",
         "127038554.754588",
         "0.0",
         "0.0",
         "0.0",
         "0.0"
        ],
        [
         "28",
         "6933993004197221",
         "911254202.221905",
         "867570081.468692",
         "0.0",
         "1025992625.899019",
         "887348359.611301",
         "794961770.799081"
        ],
        [
         "29",
         "7000356000696426",
         "540458399.868339",
         "0.0",
         "0.0",
         "500992672.131662",
         "0.0",
         "0.0"
        ],
        [
         "30",
         "7889784271016042",
         "204764483.331775",
         "147082418.207522",
         "577926906.529633",
         "1013716748.321",
         "829624875.165266",
         "1041134409.8852"
        ],
        [
         "31",
         "7911438415840389",
         "790955339.678562",
         "757873179.195375",
         "845534684.999338",
         "427381712.45992",
         "439732061.435527",
         "427921091.12052"
        ],
        [
         "32",
         "8542196850450464",
         "436651819.700279",
         "504886752.420048",
         "479350564.335261",
         "516166114.467772",
         "556518027.01385",
         "460364726.655258"
        ],
        [
         "33",
         "8878963431139711",
         "0.0",
         "968280522.871027",
         "851559349.128975",
         "0.0",
         "0.0",
         "0.0"
        ],
        [
         "34",
         "8911705558359075",
         "0.0",
         "107487318.250633",
         "0.0",
         "0.0",
         "132176025.749367",
         "0.0"
        ],
        [
         "35",
         "9934925180615463",
         "2803949672.066556",
         "3075242545.501111",
         "3278029765.231905",
         "1013590776.608542",
         "1030088179.578626",
         "1121009186.776185"
        ],
        [
         "36",
         "10915372582539340",
         "50642305.035989",
         "39924279.33447",
         "67199959.629541",
         "0.0",
         "0.0",
         "0.0"
        ],
        [
         "37",
         "11459970525221934",
         "7313083751.528038",
         "0.0",
         "9239565490.640133",
         "3658655038.744375",
         "1956870277.307808",
         "4348747809.779656"
        ],
        [
         "38",
         "11459970525221935",
         "146660460.174359",
         "0.0",
         "94879658.435818",
         "75607473.944608",
         "238539447.445216",
         "0.0"
        ],
        [
         "39",
         "11563439483010147",
         "577332772.097261",
         "526466840.658594",
         "549285844.665992",
         "560945678.614328",
         "492837680.724756",
         "549127556.713528"
        ],
        [
         "40",
         "11734397993500475",
         "196223626.869543",
         "236773283.36551",
         "243708585.125585",
         "0.0",
         "225288070.173034",
         "223306914.466327"
        ],
        [
         "41",
         "11836411941701905",
         "758386358.38646",
         "882263738.880147",
         "843925383.823116",
         "806072424.875652",
         "872104863.194383",
         "879386224.345231"
        ],
        [
         "42",
         "12624585908288742",
         "536558698.424364",
         "590866915.956418",
         "606528667.600787",
         "536030477.992984",
         "602988336.355945",
         "607626625.69407"
        ],
        [
         "43",
         "12784899888220069",
         "358555600.833083",
         "244717632.876208",
         "74500625.705457",
         "409230207.809006",
         "280260077.597872",
         "100624067.800554"
        ],
        [
         "44",
         "12978258429719005",
         "2335817915.962006",
         "2410295750.093452",
         "2160152162.127939",
         "2417348407.10473",
         "2480675728.386897",
         "2070360866.837516"
        ],
        [
         "45",
         "13210941742557725",
         "231765406.503867",
         "233049749.449543",
         "211075404.046589",
         "0.0",
         "0.0",
         "0.0"
        ],
        [
         "46",
         "13640308536999287",
         "188086887.739521",
         "158189611.701835",
         "194386563.167755",
         "149774468.86091",
         "161261603.106988",
         "153471915.029515"
        ],
        [
         "47",
         "13679133108618506",
         "347650430.174983",
         "392577127.359341",
         "279346375.065313",
         "382226711.743339",
         "389115077.707809",
         "286754631.400901"
        ],
        [
         "48",
         "13920252338361234",
         "23424918.293027",
         "29482946.557942",
         "48383483.969984",
         "25717127.921807",
         "25666585.75835",
         "38107882.782924"
        ],
        [
         "49",
         "13920252338361235",
         "850743361.545794",
         "0.0",
         "595860998.259336",
         "920388946.377146",
         "818217223.838667",
         "631959389.97906"
        ]
       ],
       "shape": {
        "columns": 7,
        "rows": 62548
       }
      },
      "text/html": [
       "<div>\n",
       "<style scoped>\n",
       "    .dataframe tbody tr th:only-of-type {\n",
       "        vertical-align: middle;\n",
       "    }\n",
       "\n",
       "    .dataframe tbody tr th {\n",
       "        vertical-align: top;\n",
       "    }\n",
       "\n",
       "    .dataframe thead th {\n",
       "        text-align: right;\n",
       "    }\n",
       "</style>\n",
       "<table border=\"1\" class=\"dataframe\">\n",
       "  <thead>\n",
       "    <tr style=\"text-align: right;\">\n",
       "      <th></th>\n",
       "      <th>mod_seq_charge_hash</th>\n",
       "      <th>LFQ_Orbitrap_AIF_Condition_A_Sample_Alpha_01</th>\n",
       "      <th>LFQ_Orbitrap_AIF_Condition_A_Sample_Alpha_02</th>\n",
       "      <th>LFQ_Orbitrap_AIF_Condition_A_Sample_Alpha_03</th>\n",
       "      <th>LFQ_Orbitrap_AIF_Condition_B_Sample_Alpha_01</th>\n",
       "      <th>LFQ_Orbitrap_AIF_Condition_B_Sample_Alpha_02</th>\n",
       "      <th>LFQ_Orbitrap_AIF_Condition_B_Sample_Alpha_03</th>\n",
       "    </tr>\n",
       "  </thead>\n",
       "  <tbody>\n",
       "    <tr>\n",
       "      <th>0</th>\n",
       "      <td>15481211221274</td>\n",
       "      <td>4.388767e+08</td>\n",
       "      <td>4.542098e+08</td>\n",
       "      <td>4.327669e+08</td>\n",
       "      <td>4.844609e+08</td>\n",
       "      <td>0.000000e+00</td>\n",
       "      <td>4.324494e+08</td>\n",
       "    </tr>\n",
       "    <tr>\n",
       "      <th>1</th>\n",
       "      <td>159521083995512</td>\n",
       "      <td>3.251849e+08</td>\n",
       "      <td>0.000000e+00</td>\n",
       "      <td>0.000000e+00</td>\n",
       "      <td>3.145478e+08</td>\n",
       "      <td>0.000000e+00</td>\n",
       "      <td>0.000000e+00</td>\n",
       "    </tr>\n",
       "    <tr>\n",
       "      <th>2</th>\n",
       "      <td>321833340036170</td>\n",
       "      <td>5.105902e+08</td>\n",
       "      <td>7.067959e+08</td>\n",
       "      <td>6.510211e+08</td>\n",
       "      <td>0.000000e+00</td>\n",
       "      <td>0.000000e+00</td>\n",
       "      <td>0.000000e+00</td>\n",
       "    </tr>\n",
       "    <tr>\n",
       "      <th>3</th>\n",
       "      <td>724298168523893</td>\n",
       "      <td>4.821941e+07</td>\n",
       "      <td>0.000000e+00</td>\n",
       "      <td>2.532368e+07</td>\n",
       "      <td>1.973107e+08</td>\n",
       "      <td>1.942472e+08</td>\n",
       "      <td>1.853911e+08</td>\n",
       "    </tr>\n",
       "    <tr>\n",
       "      <th>4</th>\n",
       "      <td>842012188086435</td>\n",
       "      <td>0.000000e+00</td>\n",
       "      <td>0.000000e+00</td>\n",
       "      <td>0.000000e+00</td>\n",
       "      <td>3.732418e+08</td>\n",
       "      <td>3.725704e+08</td>\n",
       "      <td>3.663040e+08</td>\n",
       "    </tr>\n",
       "    <tr>\n",
       "      <th>...</th>\n",
       "      <td>...</td>\n",
       "      <td>...</td>\n",
       "      <td>...</td>\n",
       "      <td>...</td>\n",
       "      <td>...</td>\n",
       "      <td>...</td>\n",
       "      <td>...</td>\n",
       "    </tr>\n",
       "    <tr>\n",
       "      <th>62543</th>\n",
       "      <td>18445773035312378183</td>\n",
       "      <td>0.000000e+00</td>\n",
       "      <td>0.000000e+00</td>\n",
       "      <td>0.000000e+00</td>\n",
       "      <td>2.110023e+08</td>\n",
       "      <td>2.820278e+08</td>\n",
       "      <td>0.000000e+00</td>\n",
       "    </tr>\n",
       "    <tr>\n",
       "      <th>62544</th>\n",
       "      <td>18445899706933904523</td>\n",
       "      <td>6.227492e+07</td>\n",
       "      <td>7.216148e+07</td>\n",
       "      <td>1.495587e+08</td>\n",
       "      <td>0.000000e+00</td>\n",
       "      <td>0.000000e+00</td>\n",
       "      <td>0.000000e+00</td>\n",
       "    </tr>\n",
       "    <tr>\n",
       "      <th>62545</th>\n",
       "      <td>18445980366100704500</td>\n",
       "      <td>0.000000e+00</td>\n",
       "      <td>0.000000e+00</td>\n",
       "      <td>0.000000e+00</td>\n",
       "      <td>1.284837e+08</td>\n",
       "      <td>1.158165e+08</td>\n",
       "      <td>7.537017e+07</td>\n",
       "    </tr>\n",
       "    <tr>\n",
       "      <th>62546</th>\n",
       "      <td>18446123786064586938</td>\n",
       "      <td>8.531072e+08</td>\n",
       "      <td>9.023949e+08</td>\n",
       "      <td>8.646071e+08</td>\n",
       "      <td>8.663234e+08</td>\n",
       "      <td>9.044181e+08</td>\n",
       "      <td>8.176428e+08</td>\n",
       "    </tr>\n",
       "    <tr>\n",
       "      <th>62547</th>\n",
       "      <td>18446611503322769757</td>\n",
       "      <td>6.109608e+08</td>\n",
       "      <td>0.000000e+00</td>\n",
       "      <td>3.901918e+08</td>\n",
       "      <td>5.752886e+08</td>\n",
       "      <td>0.000000e+00</td>\n",
       "      <td>3.361798e+08</td>\n",
       "    </tr>\n",
       "  </tbody>\n",
       "</table>\n",
       "<p>62548 rows × 7 columns</p>\n",
       "</div>"
      ],
      "text/plain": [
       "        mod_seq_charge_hash  LFQ_Orbitrap_AIF_Condition_A_Sample_Alpha_01   \n",
       "0            15481211221274                                  4.388767e+08  \\\n",
       "1           159521083995512                                  3.251849e+08   \n",
       "2           321833340036170                                  5.105902e+08   \n",
       "3           724298168523893                                  4.821941e+07   \n",
       "4           842012188086435                                  0.000000e+00   \n",
       "...                     ...                                           ...   \n",
       "62543  18445773035312378183                                  0.000000e+00   \n",
       "62544  18445899706933904523                                  6.227492e+07   \n",
       "62545  18445980366100704500                                  0.000000e+00   \n",
       "62546  18446123786064586938                                  8.531072e+08   \n",
       "62547  18446611503322769757                                  6.109608e+08   \n",
       "\n",
       "       LFQ_Orbitrap_AIF_Condition_A_Sample_Alpha_02   \n",
       "0                                      4.542098e+08  \\\n",
       "1                                      0.000000e+00   \n",
       "2                                      7.067959e+08   \n",
       "3                                      0.000000e+00   \n",
       "4                                      0.000000e+00   \n",
       "...                                             ...   \n",
       "62543                                  0.000000e+00   \n",
       "62544                                  7.216148e+07   \n",
       "62545                                  0.000000e+00   \n",
       "62546                                  9.023949e+08   \n",
       "62547                                  0.000000e+00   \n",
       "\n",
       "       LFQ_Orbitrap_AIF_Condition_A_Sample_Alpha_03   \n",
       "0                                      4.327669e+08  \\\n",
       "1                                      0.000000e+00   \n",
       "2                                      6.510211e+08   \n",
       "3                                      2.532368e+07   \n",
       "4                                      0.000000e+00   \n",
       "...                                             ...   \n",
       "62543                                  0.000000e+00   \n",
       "62544                                  1.495587e+08   \n",
       "62545                                  0.000000e+00   \n",
       "62546                                  8.646071e+08   \n",
       "62547                                  3.901918e+08   \n",
       "\n",
       "       LFQ_Orbitrap_AIF_Condition_B_Sample_Alpha_01   \n",
       "0                                      4.844609e+08  \\\n",
       "1                                      3.145478e+08   \n",
       "2                                      0.000000e+00   \n",
       "3                                      1.973107e+08   \n",
       "4                                      3.732418e+08   \n",
       "...                                             ...   \n",
       "62543                                  2.110023e+08   \n",
       "62544                                  0.000000e+00   \n",
       "62545                                  1.284837e+08   \n",
       "62546                                  8.663234e+08   \n",
       "62547                                  5.752886e+08   \n",
       "\n",
       "       LFQ_Orbitrap_AIF_Condition_B_Sample_Alpha_02   \n",
       "0                                      0.000000e+00  \\\n",
       "1                                      0.000000e+00   \n",
       "2                                      0.000000e+00   \n",
       "3                                      1.942472e+08   \n",
       "4                                      3.725704e+08   \n",
       "...                                             ...   \n",
       "62543                                  2.820278e+08   \n",
       "62544                                  0.000000e+00   \n",
       "62545                                  1.158165e+08   \n",
       "62546                                  9.044181e+08   \n",
       "62547                                  0.000000e+00   \n",
       "\n",
       "       LFQ_Orbitrap_AIF_Condition_B_Sample_Alpha_03  \n",
       "0                                      4.324494e+08  \n",
       "1                                      0.000000e+00  \n",
       "2                                      0.000000e+00  \n",
       "3                                      1.853911e+08  \n",
       "4                                      3.663040e+08  \n",
       "...                                             ...  \n",
       "62543                                  0.000000e+00  \n",
       "62544                                  0.000000e+00  \n",
       "62545                                  7.537017e+07  \n",
       "62546                                  8.176428e+08  \n",
       "62547                                  3.361798e+08  \n",
       "\n",
       "[62548 rows x 7 columns]"
      ]
     },
     "execution_count": 7,
     "metadata": {},
     "output_type": "execute_result"
    }
   ],
   "source": [
    "precursors"
   ]
  },
  {
   "cell_type": "code",
   "execution_count": null,
   "metadata": {},
   "outputs": [],
   "source": [
    "precursor_matrix_with_precursor_info = pd.merge(\n",
    "    precursor_matrix,\n",
    "    precursors_long[[\"genes\", \"decoy\", \"mods\", \"mod_sites\", \"sequence\", \"charge\", \"mod_seq_charge_hash\"]],\n",
    "    on=\"mod_seq_charge_hash\",\n",
    ")"
   ]
  },
  {
   "cell_type": "code",
   "execution_count": 10,
   "metadata": {},
   "outputs": [],
   "source": [
    "precursor_matrix_with_precursor_info.to_csv(\n",
    "    output_path + \"precursor_matrix_with_precursor_info.tsv\", sep=\"\\t\", index=False\n",
    ")  # This file can be uploaded to ProteoBench"
   ]
  }
 ],
 "metadata": {
  "kernelspec": {
   "display_name": "Python 3 (ipykernel)",
   "language": "python",
   "name": "python3"
  },
  "language_info": {
   "codemirror_mode": {
    "name": "ipython",
    "version": 3
   },
   "file_extension": ".py",
   "mimetype": "text/x-python",
   "name": "python",
   "nbconvert_exporter": "python",
   "pygments_lexer": "ipython3",
   "version": "3.11.4"
  }
 },
 "nbformat": 4,
 "nbformat_minor": 2
}
