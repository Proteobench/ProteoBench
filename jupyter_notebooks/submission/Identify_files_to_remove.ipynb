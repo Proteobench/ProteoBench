{
 "cells": [
  {
   "cell_type": "code",
   "execution_count": 19,
   "id": "c08cbac1",
   "metadata": {},
   "outputs": [],
   "source": [
    "import requests\n",
    "from bs4 import BeautifulSoup\n",
    "import pandas as pd\n"
   ]
  },
  {
   "cell_type": "code",
   "execution_count": 20,
   "id": "5a8f45da",
   "metadata": {},
   "outputs": [],
   "source": [
    "url = \"https://proteobench.cubimed.rub.de/datasets/\"\n",
    "\n",
    "response = requests.get(url)\n",
    "\n",
    "if response.status_code == 200:\n",
    "    html_content = response.text\n",
    "    \n",
    "\n",
    "    soup = BeautifulSoup(html_content, \"html.parser\")\n",
    "    \n",
    "    entries = []\n",
    "    for link in soup.find_all(\"a\"):\n",
    "        href = link.get(\"href\")\n",
    "        text = link.text.strip()\n",
    "        if href and text:\n",
    "            entries.append(text)\n",
    "else:\n",
    "    print(f\"Failed to retrieve the page. Status code: {response.status_code}\")"
   ]
  },
  {
   "cell_type": "code",
   "execution_count": 21,
   "id": "a896dd43",
   "metadata": {},
   "outputs": [],
   "source": [
    "remove_entries = [\"../\",\"fasta/\",\"raw_files/\",\"README.txt\"]\n",
    "entries = [v for v in entries if v not in remove_entries]\n",
    "entries = [v.rstrip(\"/\") for v in entries if v not in remove_entries]"
   ]
  },
  {
   "cell_type": "code",
   "execution_count": 22,
   "id": "3aa81c40",
   "metadata": {},
   "outputs": [
    {
     "name": "stdout",
     "output_type": "stream",
     "text": [
      "Failed to retrieve the repository contents. Status code: 404\n",
      "https://api.github.com/repos/Proteobench/Results_quant_peptidoform_DIA/contents/\n"
     ]
    }
   ],
   "source": [
    "repo_urls = [\n",
    "    \"https://api.github.com/repos/Proteobench/Results_quant_ion_DDA/contents/\",\n",
    "    \"https://api.github.com/repos/Proteobench/Results_quant_peptidoform_DIA/contents/\",\n",
    "    \"https://api.github.com/repos/Proteobench/Results_subcellprofile_DOMLFQ_protein_DIA_EXPL/contents/\",\n",
    "    \"https://api.github.com/repos/Proteobench/Results_quant_peptidoform_DDA/contents/\",\n",
    "    \"https://api.github.com/repos/Proteobench/Results_quant_ion_DIA_diaPASEF/contents/\",\n",
    "    \"https://api.github.com/repos/Proteobench/Results_quant_ion_DIA/contents/\",\n",
    "    \"https://api.github.com/repos/Proteobench/Results_quant_ion_DIA_singlecell/contents/\",\n",
    "]\n",
    "file_names = []\n",
    "\n",
    "for repo_url in repo_urls:\n",
    "    response = requests.get(repo_url)\n",
    "\n",
    "    if response.status_code == 200:\n",
    "        repo_contents = response.json()\n",
    "\n",
    "        for item in repo_contents:\n",
    "            file_name = item.get(\"name\")\n",
    "            if file_name:\n",
    "                file_names.append(file_name)    \n",
    "    else:\n",
    "        print(f\"Failed to retrieve the repository contents. Status code: {response.status_code}\")\n",
    "        print(repo_url)"
   ]
  },
  {
   "cell_type": "code",
   "execution_count": 23,
   "id": "660d5d82",
   "metadata": {},
   "outputs": [],
   "source": [
    "file_names = [v.replace(\".json\",\"\") for v in file_names if v.endswith(\".json\")]"
   ]
  },
  {
   "cell_type": "code",
   "execution_count": 24,
   "id": "5acbd8a2",
   "metadata": {},
   "outputs": [
    {
     "name": "stdout",
     "output_type": "stream",
     "text": [
      "Should be deleted: \n"
     ]
    },
    {
     "data": {
      "text/plain": [
       "['0acc083d3e50884d151839d6e8495d668cb849ff',\n",
       " '2408c6ee1a52eb2f9a25410428df30b0f655ad31',\n",
       " '273e81ee74a5e47b791f1fa49c320ccd07639fa6',\n",
       " '2c4eb3876b9d0a0511889a8d58048f39ed6f1d9c',\n",
       " '484ac755785008733c8e83526cfc65a1e3031c62',\n",
       " '6295829948a64736c1c3da12f088ceb9941223b8',\n",
       " '8b135d4710cd3381a2d68f263d6154f6cab07c28',\n",
       " '9b100f109cf678f823604084c5cf8ba5e27fdb2f',\n",
       " 'a6a55694e276a24a05b091b62eb4cdc1d3a2fac9',\n",
       " 'e56b00f19ffc31232a697be71edb65a4df6936cc']"
      ]
     },
     "execution_count": 24,
     "metadata": {},
     "output_type": "execute_result"
    }
   ],
   "source": [
    "print(\"Should be deleted: \")\n",
    "[entry for entry in entries if entry not in file_names]"
   ]
  },
  {
   "cell_type": "code",
   "execution_count": null,
   "id": "1e923056",
   "metadata": {},
   "outputs": [],
   "source": []
  }
 ],
 "metadata": {
  "kernelspec": {
   "display_name": "Python 3 (ipykernel)",
   "language": "python",
   "name": "python3"
  },
  "language_info": {
   "codemirror_mode": {
    "name": "ipython",
    "version": 3
   },
   "file_extension": ".py",
   "mimetype": "text/x-python",
   "name": "python",
   "nbconvert_exporter": "python",
   "pygments_lexer": "ipython3",
   "version": "3.11.4"
  }
 },
 "nbformat": 4,
 "nbformat_minor": 5
}
