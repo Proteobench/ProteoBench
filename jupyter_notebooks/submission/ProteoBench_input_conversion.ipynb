{
 "cells": [
  {
   "cell_type": "code",
   "execution_count": 1,
   "metadata": {},
   "outputs": [],
   "source": [
    "import pandas as pd"
   ]
  },
  {
   "cell_type": "markdown",
   "metadata": {},
   "source": [
    "This Jupyter Notebook serves to prepare ProteoBench inputs from software tool outputs that have important information, needed by ProteoBench, in more than one file"
   ]
  },
  {
   "cell_type": "markdown",
   "metadata": {},
   "source": [
    "# MSAID output preparation"
   ]
  },
  {
   "cell_type": "code",
   "execution_count": null,
   "metadata": {},
   "outputs": [],
   "source": [
    "# Change paths to your local paths\n",
    "input_path = \"./path/to/your/MSAID/output/dir/\"  # path should contain the proteingroups.tsv and precursors.tsv files\n",
    "output_path = \"./path/to/your/desired/output/dir/\"  # path where the output files will be saved"
   ]
  },
  {
   "cell_type": "code",
   "execution_count": null,
   "metadata": {},
   "outputs": [],
   "source": [
    "# Change the path to your proteingroups.tsv and precursors.tsv files\n",
    "protein_file = pd.read_csv(input_path + \"proteingroups.tsv\", sep=\"\\t\")\n",
    "precursor_file = pd.read_csv(input_path + \"precursors.tsv\", sep=\"\\t\")"
   ]
  },
  {
   "cell_type": "code",
   "execution_count": null,
   "metadata": {},
   "outputs": [],
   "source": [
    "# Map the proteins to the precursors using the \"PROTEIN_IDS\" column in the precursor file\n",
    "def add_fasta_headers(prec_df, protein_df):\n",
    "    # Create a dictionary from the second DataFrame for fast look-up\n",
    "    protein_to_header = dict(zip(protein_df[\"PROTEIN_IDS\"], protein_df[\"FASTA_HEADERS\"]))\n",
    "\n",
    "    # Function to find and join headers for each PROTEIN_IDS entry\n",
    "    def get_fasta_headers(protein_ids):\n",
    "        ids = protein_ids.split(\";\")  # Split the IDs by the separator\n",
    "        headers = [protein_to_header.get(protein_id.strip(), \"\") for protein_id in ids]\n",
    "        headers = [header for header in headers if header]  # Remove empty headers\n",
    "        return \"; \".join(headers) if headers else None\n",
    "\n",
    "    # Apply the function to the PROTEIN_IDS column and create a new FASTA_HEADERS column\n",
    "    prec_df[\"FASTA_HEADERS\"] = prec_df[\"PROTEIN_IDS\"].apply(get_fasta_headers)\n",
    "\n",
    "    return prec_df"
   ]
  },
  {
   "cell_type": "code",
   "execution_count": 20,
   "metadata": {},
   "outputs": [],
   "source": [
    "prec_df_with_headers = add_fasta_headers(precursor_file, protein_file)"
   ]
  },
  {
   "cell_type": "code",
   "execution_count": null,
   "metadata": {},
   "outputs": [],
   "source": [
    "# Change the path to the output file\n",
    "prec_df_with_headers.to_csv(\n",
    "    output_path + \"precursors_with_headers.tsv\", sep=\"\\t\", index=False\n",
    ")  # This file can be uploaded to ProteoBench"
   ]
  },
  {
   "cell_type": "markdown",
   "metadata": {},
   "source": [
    "# AlphaDIA output preparation"
   ]
  },
  {
   "cell_type": "code",
   "execution_count": null,
   "metadata": {},
   "outputs": [],
   "source": [
    "input_path = (\n",
    "    \"/path/to/your/AlphaDIA/output/dir\"  # path should contain the precursors.tsv file and the precursor.matrix.tsv file\n",
    ")\n",
    "output_path = \"/path/to/your/desired/output/path\"  # path where the output files will be saved"
   ]
  },
  {
   "cell_type": "code",
   "execution_count": 3,
   "metadata": {},
   "outputs": [],
   "source": [
    "precursors_long = pd.read_csv(input_path + \"precursors.tsv\", sep=\"\\t\", dtype={\"mod_seq_charge_hash\": str})\n",
    "precursor_matrix = pd.read_csv(input_path + \"precursor.matrix.tsv\", sep=\"\\t\", dtype={\"mod_seq_charge_hash\": str})"
   ]
  },
  {
   "cell_type": "code",
   "execution_count": 8,
   "metadata": {},
   "outputs": [],
   "source": [
    "precursor_matrix_with_precursor_info = pd.merge(\n",
    "    precursor_matrix,\n",
    "    precursors_long[[\"genes\", \"decoy\", \"mods\", \"mod_sites\", \"sequence\", \"charge\", \"mod_seq_charge_hash\"]],\n",
    "    on=\"mod_seq_charge_hash\",\n",
    ")\n",
    "precursor_matrix_with_precursor_info.drop_duplicates(inplace=True)"
   ]
  },
  {
   "cell_type": "code",
   "execution_count": 9,
   "metadata": {},
   "outputs": [],
   "source": [
    "precursor_matrix_with_precursor_info.to_csv(\n",
    "    output_path + \"precursor_matrix_with_precursor_info_fixed.tsv\", sep=\"\\t\", index=False\n",
    ")  # This file can be uploaded to ProteoBench"
   ]
  }
 ],
 "metadata": {
  "kernelspec": {
   "display_name": "proteobench",
   "language": "python",
   "name": "python3"
  },
  "language_info": {
   "codemirror_mode": {
    "name": "ipython",
    "version": 3
   },
   "file_extension": ".py",
   "mimetype": "text/x-python",
   "name": "python",
   "nbconvert_exporter": "python",
   "pygments_lexer": "ipython3",
   "version": "3.11.9"
  }
 },
 "nbformat": 4,
 "nbformat_minor": 2
}
