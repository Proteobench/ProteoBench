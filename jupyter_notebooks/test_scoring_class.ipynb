{
 "cells": [
  {
   "cell_type": "code",
   "execution_count": 89,
   "id": "f3a6572b",
   "metadata": {},
   "outputs": [],
   "source": [
    "from proteobench.modules.denovo.denovo_lfq_DDA_HCD import DDAHCDDeNovoModule\n",
    "from proteobench.io.parsing.parse_settings import ParseSettingsBuilder\n",
    "from proteobench.io.parsing.parse_denovo import load_input_file\n",
    "from proteobench.score.denovo.denovoscores import DenovoScores\n",
    "from proteobench.datapoint.denovo_datapoint import DenovoDatapoint\n",
    "from proteobench.io.params.adanovo import extract_params as extract_params_adanovo\n",
    "import pandas as pd\n",
    "\n",
    "import plotly.express as px\n",
    "import plotly.graph_objects as go\n",
    "\n",
    "from psm_utils import Peptidoform\n",
    "import os\n",
    "\n",
    "import numpy as np\n",
    "from typing import List, Dict, Tuple\n",
    "\n",
    "import seaborn as sns\n",
    "\n",
    "from proteobench.io.params.adanovo import extract_params as extract_params_adanovo\n",
    "from proteobench.io.params.casanovo import extract_params as extract_params_casanovo\n",
    "from proteobench.io.params.deepnovo import extract_params as extract_params_deepnovo\n",
    "from proteobench.io.params.instanovo import extract_params as extract_params_instanovo\n",
    "from proteobench.io.params.pointnovo import extract_params as extract_params_pointnovo\n",
    "from proteobench.io.params.pihelixnovo import (\n",
    "    extract_params as extract_params_pihelixnovo,\n",
    ")\n",
    "from proteobench.io.params.piprimenovo import (\n",
    "    extract_params as extract_params_piprimenovo,\n",
    ")"
   ]
  },
  {
   "cell_type": "code",
   "execution_count": 90,
   "id": "477f14c0",
   "metadata": {},
   "outputs": [],
   "source": [
    "root = '/home/sam/benchmarking/ProteoBench/test/data/denovo'\n",
    "path_to_gt = '/home/sam/benchmarking/ProteoBench/proteobench/io/parsing/io_parse_settings/denovo/lfq/DDA/HCD/module_settings.csv'\n",
    "module = DDAHCDDeNovoModule(\n",
    "    token=''\n",
    ")\n",
    "\n",
    "test_cases = {\n",
    "    'AdaNovo': os.path.join(root, 'results', 'adanovo', 'denovo_benchmark_test.adanovo.mztab'),\n",
    "    'Casanovo': os.path.join(root, 'results', 'casanovo', 'denovo_benchmark_test.casanovo.mztab'),\n",
    "    'DeepNovo': os.path.join(root, 'results', 'deepnovo', 'denovo_benchmark_test.deepnovo.tab'),\n",
    "    'PepNet': os.path.join(root, 'results', 'pepnet', 'denovo_benchmark_test.pepnet.tsv'),\n",
    "    'Pi-HelixNovo': os.path.join(root, 'results', 'pihelixnovo', 'denovo_benchmark_test.pihelixnovo.tsv'),\n",
    "    'Pi-PrimeNovo': os.path.join(root, 'results', 'piprimenovo', 'denovo_benchmark_test.piprimenovo.tsv'),\n",
    "}\n",
    "\n",
    "test_cases_configs = {\n",
    "    'AdaNovo': os.path.join(root, 'configs', 'adanovo', 'config.yaml'),\n",
    "    'Casanovo': os.path.join(root, 'configs', 'casanovo', 'config.yaml'),\n",
    "    'DeepNovo': os.path.join(root, 'configs', 'adanovo', 'config.yaml'),  # TODO: Update with correct parser if available\n",
    "    'PepNet': os.path.join(root, 'configs', 'adanovo', 'config.yaml'),  # TODO: Update with correct parser if available\n",
    "    'Pi-HelixNovo': os.path.join(root, 'configs', 'pihelixnovo', 'config.yaml'),\n",
    "    'Pi-PrimeNovo': os.path.join(root, 'configs', 'piprimenovo', 'config.yaml'),\n",
    "}\n",
    "\n",
    "config_parsers = {\n",
    "    \"AdaNovo\": extract_params_adanovo,\n",
    "    \"Casanovo\": extract_params_casanovo,\n",
    "    \"DeepNovo\": extract_params_adanovo,\n",
    "    \"PepNet\": extract_params_adanovo,  # TODO: Update with correct parser if available\n",
    "    \"InstaNovo\": extract_params_instanovo,\n",
    "    \"Pi-HelixNovo\": extract_params_pihelixnovo,\n",
    "    \"Pi-PrimeNovo\": extract_params_piprimenovo,\n",
    "    \"PointNovo\": extract_params_pointnovo,\n",
    "}"
   ]
  },
  {
   "cell_type": "code",
   "execution_count": null,
   "id": "9a325cbc",
   "metadata": {},
   "outputs": [],
   "source": [
    "# df = None\n",
    "# path = test_cases['AdaNovo']\n",
    "# tool = 'AdaNovo'\n",
    "# input_file_loc=path\n",
    "# input_format=tool\n",
    "# user_input_=user_input.__dict__\n",
    "# all_datapoints=df\n",
    "\n",
    "# input_df = load_input_file(input_file_loc, input_format)\n",
    "# parse_settings = ParseSettingsBuilder(\n",
    "#     parse_settings_dir='/home/samva/Doctorate/Benchmarking/de_novo_module/ProteoBench/proteobench/io/parsing/io_parse_settings/denovo/lfq/DDA/HCD',\n",
    "#     module_id='denovo_lfq_DDA_HCD'\n",
    "# ).build_parser(input_format)\n",
    "# standard_format = parse_settings.convert_to_standard_format(input_df)\n",
    "\n",
    "# imds, df, input_df = module.benchmarking(\n",
    "#     input_file_loc=path,\n",
    "#     input_format=tool,\n",
    "#     user_input=user_input.__dict__,\n",
    "#     all_datapoints=df,\n",
    "# )"
   ]
  },
  {
   "cell_type": "code",
   "execution_count": 91,
   "id": "38f441cc",
   "metadata": {},
   "outputs": [],
   "source": [
    "dtps = None\n",
    "for tool, path in test_cases.items():\n",
    "    imds, dtps, input_df = module.benchmarking(\n",
    "        input_file_loc=path,\n",
    "        input_format=tool,\n",
    "        user_input=config_parsers[tool](test_cases_configs[tool]).__dict__,\n",
    "        all_datapoints=dtps,\n",
    "    )"
   ]
  },
  {
   "cell_type": "code",
   "execution_count": null,
   "id": "eca9e7c9",
   "metadata": {},
   "outputs": [],
   "source": [
    "# for tool, path in test_cases.items():\n",
    "#     imds, df, input_df = module.benchmarking(\n",
    "#         input_file_loc=path,\n",
    "#         input_format=tool,\n",
    "#         user_input=user_input.__dict__,\n",
    "#         all_datapoints=df,\n",
    "#     )"
   ]
  },
  {
   "cell_type": "code",
   "execution_count": 3,
   "id": "a1aba63c",
   "metadata": {},
   "outputs": [],
   "source": [
    "df = pd.read_pickle('df_test.pkl')"
   ]
  },
  {
   "cell_type": "code",
   "execution_count": 18,
   "id": "9b54e31d",
   "metadata": {},
   "outputs": [],
   "source": [
    "df = None\n",
    "path = test_cases['DeepNovo']\n",
    "tool = 'DeepNovo'\n",
    "input_file_loc=path\n",
    "input_format=tool\n",
    "user_input_=user_input.__dict__\n",
    "all_datapoints=df\n",
    "\n",
    "input_df = load_input_file(input_file_loc, input_format)\n",
    "parse_settings = ParseSettingsBuilder(\n",
    "    parse_settings_dir='/home/samva/Doctorate/Benchmarking/de_novo_module/ProteoBench/proteobench/io/parsing/io_parse_settings/denovo/lfq/DDA/HCD',\n",
    "    module_id='denovo_lfq_DDA_HCD'\n",
    ").build_parser(input_format)\n",
    "standard_format = parse_settings.convert_to_standard_format(input_df)"
   ]
  },
  {
   "cell_type": "code",
   "execution_count": 86,
   "id": "3da8ece4",
   "metadata": {},
   "outputs": [],
   "source": [
    "import json\n",
    "\n",
    "jsons = []\n",
    "for i, row in df.iterrows():\n",
    "    with open(\n",
    "        os.path.join(\n",
    "            '/home/sam/benchmarking/submissions', \n",
    "            row['id']+'.json'\n",
    "        ),\n",
    "        'w',\n",
    "        encoding='utf-8') as f:\n",
    "        row_clean = row.where(pd.notnull(row), None)\n",
    "        json.dump(row_clean.to_dict(), f, ensure_ascii=False, indent=2, allow_nan=False)"
   ]
  },
  {
   "cell_type": "code",
   "execution_count": 28,
   "id": "a3676689",
   "metadata": {},
   "outputs": [
    {
     "data": {
      "text/plain": [
       "0    {\"id\":\"AdaNovo_20250619_105853\",\"software_name...\n",
       "dtype: object"
      ]
     },
     "execution_count": 28,
     "metadata": {},
     "output_type": "execute_result"
    }
   ],
   "source": [
    "p = '/home/samva/Doctorate/Benchmarking/de_novo_module/Results_denovo_lfq_DDA_HCD/AdaNovo_20250619_105853.json'\n",
    "\n",
    "pd.read_json(p, typ='series')"
   ]
  },
  {
   "cell_type": "markdown",
   "id": "dd1f574d",
   "metadata": {},
   "source": [
    "---"
   ]
  }
 ],
 "metadata": {
  "kernelspec": {
   "display_name": "Python 3",
   "language": "python",
   "name": "python3"
  },
  "language_info": {
   "codemirror_mode": {
    "name": "ipython",
    "version": 3
   },
   "file_extension": ".py",
   "mimetype": "text/x-python",
   "name": "python",
   "nbconvert_exporter": "python",
   "pygments_lexer": "ipython3",
   "version": "3.13.5"
  }
 },
 "nbformat": 4,
 "nbformat_minor": 5
}
