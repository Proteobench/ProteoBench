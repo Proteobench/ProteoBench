{
 "cells": [
  {
   "cell_type": "code",
   "execution_count": 1,
   "id": "0d46f4ea",
   "metadata": {},
   "outputs": [],
   "source": [
    "from proteobench.io.params.adanovo import extract_params as extract_params_adanovo\n",
    "from proteobench.io.params.instanovo import extract_params as extract_params_instanovo\n",
    "from proteobench.io.params.casanovo import extract_params as extract_params_casanovo\n",
    "from proteobench.io.params.deepnovo import extract_params as extract_params_deepnovo\n",
    "from proteobench.io.params.pihelixnovo import extract_params as extract_params_pihelixnovo\n",
    "from proteobench.io.params.piprimenovo import extract_params as extract_params_piprimenovo\n",
    "from proteobench.io.params.pointnovo import extract_params as extract_params_pointnovo\n",
    "\n",
    "from proteobench.io.params.diann import extract_params as extract_params_diann\n",
    "\n",
    "import os"
   ]
  },
  {
   "cell_type": "code",
   "execution_count": 2,
   "id": "474f2487",
   "metadata": {},
   "outputs": [],
   "source": [
    "root = \"/home/samva/Doctorate/Benchmarking/de_novo_module/ProteoBench/test/params\"\n",
    "\n",
    "adanovo_config = os.path.join(root, 'denovo', 'adanovo', 'config.yaml')\n",
    "casanovo_config = os.path.join(root, 'denovo', 'casanovo', 'casanovo.yaml')\n",
    "contranovo_config = os.path.join(root, 'denovo', 'contranovo', 'config.yaml')\n",
    "instanovo_config = os.path.join(root, 'denovo', 'instanovo', 'config.yaml')\n",
    "pihelixnovo_config = os.path.join(root, 'denovo', 'pihelixnovo', 'config.yaml')\n",
    "piprimenovo_config = os.path.join(root, 'denovo', 'piprimenovo', 'config.yaml')\n",
    "\n",
    "diann_config = os.path.join(root, 'DIANN_1.7.16.log.txt')"
   ]
  },
  {
   "cell_type": "code",
   "execution_count": 3,
   "id": "9536a9b5",
   "metadata": {},
   "outputs": [
    {
     "data": {
      "text/plain": [
       "{'software_name': 'Pi-PrimeNovo', 'software_version': '1.0', 'checkpoint': './NON351/epoch=5-step=65000.ckpt', 'n_beams': 5, 'n_peaks': 800, 'precursor_mass_tolerance': 50, 'min_peptide_length': nan, 'max_peptide_length': 40, 'min_mz': 1, 'max_mz': 6500.0, 'min_intensity': 0.0, 'max_intensity': nan, 'tokens': 'G; A; S; P; V; T; C+57.021; L; I; N; D; Q; K; E; M; H; F; R; Y; W; M+15.995; N+0.984; Q+0.984; +42.011; +43.006; -17.027; +43.006-17.027', 'min_precursor_charge': nan, 'max_precursor_charge': 10, 'remove_precursor_tol': 1, 'isotope_error_range': '[0, 1]', 'decoding_strategy': 'beam search + PMC [0.1 Da]'}"
      ]
     },
     "execution_count": 3,
     "metadata": {},
     "output_type": "execute_result"
    }
   ],
   "source": [
    "extract_params_adanovo(adanovo_config)\n",
    "extract_params_casanovo(casanovo_config)\n",
    "extract_params_instanovo(instanovo_config)\n",
    "extract_params_pihelixnovo(pihelixnovo_config)\n",
    "extract_params_piprimenovo(piprimenovo_config)"
   ]
  }
 ],
 "metadata": {
  "kernelspec": {
   "display_name": "proteobench_env",
   "language": "python",
   "name": "python3"
  },
  "language_info": {
   "codemirror_mode": {
    "name": "ipython",
    "version": 3
   },
   "file_extension": ".py",
   "mimetype": "text/x-python",
   "name": "python",
   "nbconvert_exporter": "python",
   "pygments_lexer": "ipython3",
   "version": "3.11.10"
  }
 },
 "nbformat": 4,
 "nbformat_minor": 5
}
